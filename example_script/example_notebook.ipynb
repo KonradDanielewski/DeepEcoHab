{
 "cells": [
  {
   "cell_type": "code",
   "execution_count": 2,
   "metadata": {},
   "outputs": [
    {
     "name": "stdout",
     "output_type": "stream",
     "text": [
      "The autoreload extension is already loaded. To reload it, use:\n",
      "  %reload_ext autoreload\n"
     ]
    }
   ],
   "source": [
    "%load_ext autoreload\n",
    "%autoreload 2"
   ]
  },
  {
   "cell_type": "code",
   "execution_count": 3,
   "metadata": {},
   "outputs": [
    {
     "data": {
      "text/plain": [
       "'/home/winiar/Desktop/projects/ecohab/deepecohab/example_script'"
      ]
     },
     "execution_count": 3,
     "metadata": {},
     "output_type": "execute_result"
    }
   ],
   "source": [
    "pwd"
   ]
  },
  {
   "cell_type": "code",
   "execution_count": 4,
   "metadata": {},
   "outputs": [
    {
     "name": "stdout",
     "output_type": "stream",
     "text": [
      "/home/winiar/Desktop/projects/ecohab/deepecohab\n"
     ]
    }
   ],
   "source": [
    "cd .."
   ]
  },
  {
   "cell_type": "code",
   "execution_count": 5,
   "metadata": {},
   "outputs": [],
   "source": [
    "import os\n",
    "from pathlib import Path\n",
    "\n",
    "import deepecohab"
   ]
  },
  {
   "cell_type": "markdown",
   "metadata": {},
   "source": [
    "#### Make project\n",
    "\n",
    "Uses example data provided in the repository. Currently only default ecohab layout, more examples soon..."
   ]
  },
  {
   "cell_type": "code",
   "execution_count": 6,
   "metadata": {},
   "outputs": [],
   "source": [
    "example_dir = Path(os.getcwd())"
   ]
  },
  {
   "cell_type": "code",
   "execution_count": 7,
   "metadata": {},
   "outputs": [
    {
     "data": {
      "text/plain": [
       "PosixPath('/home/winiar/Desktop/projects/ecohab/deepecohab')"
      ]
     },
     "execution_count": 7,
     "metadata": {},
     "output_type": "execute_result"
    }
   ],
   "source": [
    "example_dir"
   ]
  },
  {
   "cell_type": "code",
   "execution_count": 8,
   "metadata": {},
   "outputs": [],
   "source": [
    "cfp = deepecohab.create_ecohab_project(\n",
    "    project_location=example_dir, # Location where the project will be created\n",
    "    experiment_name=\"test_name\",  # Name of the project\n",
    "    data_path=example_dir / \"example_script/test_data/\", # Folder with ecohab txt files\n",
    "    start_datetime=\"2025-01-02 12:00:00\", #Time from which the data should be taken (we ommit the first file before first dark phase start) YYYY-MM-DD HH:MM:SS\n",
    "    finish_datetime=\"2025-01-09 08:00:00\",\n",
    "    light_phase_start=\"00:00:00\",\n",
    "    dark_phase_start=\"12:00:00\",\n",
    "    )"
   ]
  },
  {
   "cell_type": "markdown",
   "metadata": {},
   "source": [
    "#### Make structure"
   ]
  },
  {
   "cell_type": "code",
   "execution_count": 9,
   "metadata": {},
   "outputs": [],
   "source": [
    "df = deepecohab.get_ecohab_data_structure(cfp, overwrite=False)"
   ]
  },
  {
   "cell_type": "markdown",
   "metadata": {},
   "source": [
    "#### Chasings"
   ]
  },
  {
   "cell_type": "code",
   "execution_count": 10,
   "metadata": {},
   "outputs": [
    {
     "data": {
      "application/vnd.plotly.v1+json": {
       "config": {
        "plotlyServerURL": "https://plot.ly"
       },
       "data": [
        {
         "coloraxis": "coloraxis",
         "hovertemplate": "x: %{x}<br>y: %{y}<br>color: %{z}<extra></extra>",
         "name": "0",
         "texttemplate": "%{z}",
         "type": "heatmap",
         "x": [
          "A7E6E51A04",
          "7786EC1A04",
          "0813A01A04",
          "EA01E61A04",
          "EC61E61A04",
          "2D5FE61A04",
          "3008EC1A04",
          "18D89F1A04",
          "F4FEEB1A04"
         ],
         "xaxis": "x",
         "y": [
          "A7E6E51A04",
          "7786EC1A04",
          "0813A01A04",
          "EA01E61A04",
          "EC61E61A04",
          "2D5FE61A04",
          "3008EC1A04",
          "18D89F1A04",
          "F4FEEB1A04"
         ],
         "yaxis": "y",
         "z": [
          [
           null,
           76,
           39,
           23,
           20,
           67,
           6,
           6,
           6
          ],
          [
           293,
           null,
           21,
           18,
           9,
           55,
           3,
           5,
           4
          ],
          [
           215,
           300,
           null,
           21,
           23,
           21,
           12,
           13,
           9
          ],
          [
           161,
           141,
           29,
           null,
           24,
           11,
           8,
           16,
           11
          ],
          [
           50,
           30,
           11,
           9,
           null,
           20,
           1,
           29,
           28
          ],
          [
           180,
           81,
           29,
           40,
           13,
           null,
           13,
           6,
           7
          ],
          [
           111,
           183,
           33,
           32,
           16,
           21,
           null,
           5,
           12
          ],
          [
           325,
           184,
           28,
           29,
           25,
           56,
           9,
           null,
           13
          ],
          [
           1480,
           419,
           33,
           25,
           9,
           139,
           16,
           14,
           null
          ]
         ]
        }
       ],
       "layout": {
        "coloraxis": {
         "colorscale": [
          [
           0,
           "#0d0887"
          ],
          [
           0.1111111111111111,
           "#46039f"
          ],
          [
           0.2222222222222222,
           "#7201a8"
          ],
          [
           0.3333333333333333,
           "#9c179e"
          ],
          [
           0.4444444444444444,
           "#bd3786"
          ],
          [
           0.5555555555555556,
           "#d8576b"
          ],
          [
           0.6666666666666666,
           "#ed7953"
          ],
          [
           0.7777777777777778,
           "#fb9f3a"
          ],
          [
           0.8888888888888888,
           "#fdca26"
          ],
          [
           1,
           "#f0f921"
          ]
         ]
        },
        "height": 700,
        "margin": {
         "t": 60
        },
        "template": {
         "data": {
          "bar": [
           {
            "error_x": {
             "color": "#2a3f5f"
            },
            "error_y": {
             "color": "#2a3f5f"
            },
            "marker": {
             "line": {
              "color": "#E5ECF6",
              "width": 0.5
             },
             "pattern": {
              "fillmode": "overlay",
              "size": 10,
              "solidity": 0.2
             }
            },
            "type": "bar"
           }
          ],
          "barpolar": [
           {
            "marker": {
             "line": {
              "color": "#E5ECF6",
              "width": 0.5
             },
             "pattern": {
              "fillmode": "overlay",
              "size": 10,
              "solidity": 0.2
             }
            },
            "type": "barpolar"
           }
          ],
          "carpet": [
           {
            "aaxis": {
             "endlinecolor": "#2a3f5f",
             "gridcolor": "white",
             "linecolor": "white",
             "minorgridcolor": "white",
             "startlinecolor": "#2a3f5f"
            },
            "baxis": {
             "endlinecolor": "#2a3f5f",
             "gridcolor": "white",
             "linecolor": "white",
             "minorgridcolor": "white",
             "startlinecolor": "#2a3f5f"
            },
            "type": "carpet"
           }
          ],
          "choropleth": [
           {
            "colorbar": {
             "outlinewidth": 0,
             "ticks": ""
            },
            "type": "choropleth"
           }
          ],
          "contour": [
           {
            "colorbar": {
             "outlinewidth": 0,
             "ticks": ""
            },
            "colorscale": [
             [
              0,
              "#0d0887"
             ],
             [
              0.1111111111111111,
              "#46039f"
             ],
             [
              0.2222222222222222,
              "#7201a8"
             ],
             [
              0.3333333333333333,
              "#9c179e"
             ],
             [
              0.4444444444444444,
              "#bd3786"
             ],
             [
              0.5555555555555556,
              "#d8576b"
             ],
             [
              0.6666666666666666,
              "#ed7953"
             ],
             [
              0.7777777777777778,
              "#fb9f3a"
             ],
             [
              0.8888888888888888,
              "#fdca26"
             ],
             [
              1,
              "#f0f921"
             ]
            ],
            "type": "contour"
           }
          ],
          "contourcarpet": [
           {
            "colorbar": {
             "outlinewidth": 0,
             "ticks": ""
            },
            "type": "contourcarpet"
           }
          ],
          "heatmap": [
           {
            "colorbar": {
             "outlinewidth": 0,
             "ticks": ""
            },
            "colorscale": [
             [
              0,
              "#0d0887"
             ],
             [
              0.1111111111111111,
              "#46039f"
             ],
             [
              0.2222222222222222,
              "#7201a8"
             ],
             [
              0.3333333333333333,
              "#9c179e"
             ],
             [
              0.4444444444444444,
              "#bd3786"
             ],
             [
              0.5555555555555556,
              "#d8576b"
             ],
             [
              0.6666666666666666,
              "#ed7953"
             ],
             [
              0.7777777777777778,
              "#fb9f3a"
             ],
             [
              0.8888888888888888,
              "#fdca26"
             ],
             [
              1,
              "#f0f921"
             ]
            ],
            "type": "heatmap"
           }
          ],
          "heatmapgl": [
           {
            "colorbar": {
             "outlinewidth": 0,
             "ticks": ""
            },
            "colorscale": [
             [
              0,
              "#0d0887"
             ],
             [
              0.1111111111111111,
              "#46039f"
             ],
             [
              0.2222222222222222,
              "#7201a8"
             ],
             [
              0.3333333333333333,
              "#9c179e"
             ],
             [
              0.4444444444444444,
              "#bd3786"
             ],
             [
              0.5555555555555556,
              "#d8576b"
             ],
             [
              0.6666666666666666,
              "#ed7953"
             ],
             [
              0.7777777777777778,
              "#fb9f3a"
             ],
             [
              0.8888888888888888,
              "#fdca26"
             ],
             [
              1,
              "#f0f921"
             ]
            ],
            "type": "heatmapgl"
           }
          ],
          "histogram": [
           {
            "marker": {
             "pattern": {
              "fillmode": "overlay",
              "size": 10,
              "solidity": 0.2
             }
            },
            "type": "histogram"
           }
          ],
          "histogram2d": [
           {
            "colorbar": {
             "outlinewidth": 0,
             "ticks": ""
            },
            "colorscale": [
             [
              0,
              "#0d0887"
             ],
             [
              0.1111111111111111,
              "#46039f"
             ],
             [
              0.2222222222222222,
              "#7201a8"
             ],
             [
              0.3333333333333333,
              "#9c179e"
             ],
             [
              0.4444444444444444,
              "#bd3786"
             ],
             [
              0.5555555555555556,
              "#d8576b"
             ],
             [
              0.6666666666666666,
              "#ed7953"
             ],
             [
              0.7777777777777778,
              "#fb9f3a"
             ],
             [
              0.8888888888888888,
              "#fdca26"
             ],
             [
              1,
              "#f0f921"
             ]
            ],
            "type": "histogram2d"
           }
          ],
          "histogram2dcontour": [
           {
            "colorbar": {
             "outlinewidth": 0,
             "ticks": ""
            },
            "colorscale": [
             [
              0,
              "#0d0887"
             ],
             [
              0.1111111111111111,
              "#46039f"
             ],
             [
              0.2222222222222222,
              "#7201a8"
             ],
             [
              0.3333333333333333,
              "#9c179e"
             ],
             [
              0.4444444444444444,
              "#bd3786"
             ],
             [
              0.5555555555555556,
              "#d8576b"
             ],
             [
              0.6666666666666666,
              "#ed7953"
             ],
             [
              0.7777777777777778,
              "#fb9f3a"
             ],
             [
              0.8888888888888888,
              "#fdca26"
             ],
             [
              1,
              "#f0f921"
             ]
            ],
            "type": "histogram2dcontour"
           }
          ],
          "mesh3d": [
           {
            "colorbar": {
             "outlinewidth": 0,
             "ticks": ""
            },
            "type": "mesh3d"
           }
          ],
          "parcoords": [
           {
            "line": {
             "colorbar": {
              "outlinewidth": 0,
              "ticks": ""
             }
            },
            "type": "parcoords"
           }
          ],
          "pie": [
           {
            "automargin": true,
            "type": "pie"
           }
          ],
          "scatter": [
           {
            "fillpattern": {
             "fillmode": "overlay",
             "size": 10,
             "solidity": 0.2
            },
            "type": "scatter"
           }
          ],
          "scatter3d": [
           {
            "line": {
             "colorbar": {
              "outlinewidth": 0,
              "ticks": ""
             }
            },
            "marker": {
             "colorbar": {
              "outlinewidth": 0,
              "ticks": ""
             }
            },
            "type": "scatter3d"
           }
          ],
          "scattercarpet": [
           {
            "marker": {
             "colorbar": {
              "outlinewidth": 0,
              "ticks": ""
             }
            },
            "type": "scattercarpet"
           }
          ],
          "scattergeo": [
           {
            "marker": {
             "colorbar": {
              "outlinewidth": 0,
              "ticks": ""
             }
            },
            "type": "scattergeo"
           }
          ],
          "scattergl": [
           {
            "marker": {
             "colorbar": {
              "outlinewidth": 0,
              "ticks": ""
             }
            },
            "type": "scattergl"
           }
          ],
          "scattermapbox": [
           {
            "marker": {
             "colorbar": {
              "outlinewidth": 0,
              "ticks": ""
             }
            },
            "type": "scattermapbox"
           }
          ],
          "scatterpolar": [
           {
            "marker": {
             "colorbar": {
              "outlinewidth": 0,
              "ticks": ""
             }
            },
            "type": "scatterpolar"
           }
          ],
          "scatterpolargl": [
           {
            "marker": {
             "colorbar": {
              "outlinewidth": 0,
              "ticks": ""
             }
            },
            "type": "scatterpolargl"
           }
          ],
          "scatterternary": [
           {
            "marker": {
             "colorbar": {
              "outlinewidth": 0,
              "ticks": ""
             }
            },
            "type": "scatterternary"
           }
          ],
          "surface": [
           {
            "colorbar": {
             "outlinewidth": 0,
             "ticks": ""
            },
            "colorscale": [
             [
              0,
              "#0d0887"
             ],
             [
              0.1111111111111111,
              "#46039f"
             ],
             [
              0.2222222222222222,
              "#7201a8"
             ],
             [
              0.3333333333333333,
              "#9c179e"
             ],
             [
              0.4444444444444444,
              "#bd3786"
             ],
             [
              0.5555555555555556,
              "#d8576b"
             ],
             [
              0.6666666666666666,
              "#ed7953"
             ],
             [
              0.7777777777777778,
              "#fb9f3a"
             ],
             [
              0.8888888888888888,
              "#fdca26"
             ],
             [
              1,
              "#f0f921"
             ]
            ],
            "type": "surface"
           }
          ],
          "table": [
           {
            "cells": {
             "fill": {
              "color": "#EBF0F8"
             },
             "line": {
              "color": "white"
             }
            },
            "header": {
             "fill": {
              "color": "#C8D4E3"
             },
             "line": {
              "color": "white"
             }
            },
            "type": "table"
           }
          ]
         },
         "layout": {
          "annotationdefaults": {
           "arrowcolor": "#2a3f5f",
           "arrowhead": 0,
           "arrowwidth": 1
          },
          "autotypenumbers": "strict",
          "coloraxis": {
           "colorbar": {
            "outlinewidth": 0,
            "ticks": ""
           }
          },
          "colorscale": {
           "diverging": [
            [
             0,
             "#8e0152"
            ],
            [
             0.1,
             "#c51b7d"
            ],
            [
             0.2,
             "#de77ae"
            ],
            [
             0.3,
             "#f1b6da"
            ],
            [
             0.4,
             "#fde0ef"
            ],
            [
             0.5,
             "#f7f7f7"
            ],
            [
             0.6,
             "#e6f5d0"
            ],
            [
             0.7,
             "#b8e186"
            ],
            [
             0.8,
             "#7fbc41"
            ],
            [
             0.9,
             "#4d9221"
            ],
            [
             1,
             "#276419"
            ]
           ],
           "sequential": [
            [
             0,
             "#0d0887"
            ],
            [
             0.1111111111111111,
             "#46039f"
            ],
            [
             0.2222222222222222,
             "#7201a8"
            ],
            [
             0.3333333333333333,
             "#9c179e"
            ],
            [
             0.4444444444444444,
             "#bd3786"
            ],
            [
             0.5555555555555556,
             "#d8576b"
            ],
            [
             0.6666666666666666,
             "#ed7953"
            ],
            [
             0.7777777777777778,
             "#fb9f3a"
            ],
            [
             0.8888888888888888,
             "#fdca26"
            ],
            [
             1,
             "#f0f921"
            ]
           ],
           "sequentialminus": [
            [
             0,
             "#0d0887"
            ],
            [
             0.1111111111111111,
             "#46039f"
            ],
            [
             0.2222222222222222,
             "#7201a8"
            ],
            [
             0.3333333333333333,
             "#9c179e"
            ],
            [
             0.4444444444444444,
             "#bd3786"
            ],
            [
             0.5555555555555556,
             "#d8576b"
            ],
            [
             0.6666666666666666,
             "#ed7953"
            ],
            [
             0.7777777777777778,
             "#fb9f3a"
            ],
            [
             0.8888888888888888,
             "#fdca26"
            ],
            [
             1,
             "#f0f921"
            ]
           ]
          },
          "colorway": [
           "#636efa",
           "#EF553B",
           "#00cc96",
           "#ab63fa",
           "#FFA15A",
           "#19d3f3",
           "#FF6692",
           "#B6E880",
           "#FF97FF",
           "#FECB52"
          ],
          "font": {
           "color": "#2a3f5f"
          },
          "geo": {
           "bgcolor": "white",
           "lakecolor": "white",
           "landcolor": "#E5ECF6",
           "showlakes": true,
           "showland": true,
           "subunitcolor": "white"
          },
          "hoverlabel": {
           "align": "left"
          },
          "hovermode": "closest",
          "mapbox": {
           "style": "light"
          },
          "paper_bgcolor": "white",
          "plot_bgcolor": "#E5ECF6",
          "polar": {
           "angularaxis": {
            "gridcolor": "white",
            "linecolor": "white",
            "ticks": ""
           },
           "bgcolor": "#E5ECF6",
           "radialaxis": {
            "gridcolor": "white",
            "linecolor": "white",
            "ticks": ""
           }
          },
          "scene": {
           "xaxis": {
            "backgroundcolor": "#E5ECF6",
            "gridcolor": "white",
            "gridwidth": 2,
            "linecolor": "white",
            "showbackground": true,
            "ticks": "",
            "zerolinecolor": "white"
           },
           "yaxis": {
            "backgroundcolor": "#E5ECF6",
            "gridcolor": "white",
            "gridwidth": 2,
            "linecolor": "white",
            "showbackground": true,
            "ticks": "",
            "zerolinecolor": "white"
           },
           "zaxis": {
            "backgroundcolor": "#E5ECF6",
            "gridcolor": "white",
            "gridwidth": 2,
            "linecolor": "white",
            "showbackground": true,
            "ticks": "",
            "zerolinecolor": "white"
           }
          },
          "shapedefaults": {
           "line": {
            "color": "#2a3f5f"
           }
          },
          "ternary": {
           "aaxis": {
            "gridcolor": "white",
            "linecolor": "white",
            "ticks": ""
           },
           "baxis": {
            "gridcolor": "white",
            "linecolor": "white",
            "ticks": ""
           },
           "bgcolor": "#E5ECF6",
           "caxis": {
            "gridcolor": "white",
            "linecolor": "white",
            "ticks": ""
           }
          },
          "title": {
           "x": 0.05
          },
          "xaxis": {
           "automargin": true,
           "gridcolor": "white",
           "linecolor": "white",
           "ticks": "",
           "title": {
            "standoff": 15
           },
           "zerolinecolor": "white",
           "zerolinewidth": 2
          },
          "yaxis": {
           "automargin": true,
           "gridcolor": "white",
           "linecolor": "white",
           "ticks": "",
           "title": {
            "standoff": 15
           },
           "zerolinecolor": "white",
           "zerolinewidth": 2
          }
         }
        },
        "width": 700,
        "xaxis": {
         "anchor": "y",
         "constrain": "domain",
         "domain": [
          0,
          1
         ],
         "scaleanchor": "y",
         "side": "top"
        },
        "yaxis": {
         "anchor": "x",
         "autorange": "reversed",
         "constrain": "domain",
         "domain": [
          0,
          1
         ]
        }
       }
      }
     },
     "metadata": {},
     "output_type": "display_data"
    }
   ],
   "source": [
    "chasings, ranking, ranking_ordinal, ranking_in_time, datetimes = deepecohab.calculate_chasings(cfp, df)\n",
    "\n"
   ]
  },
  {
   "cell_type": "markdown",
   "metadata": {},
   "source": [
    "#### Plot"
   ]
  },
  {
   "cell_type": "code",
   "execution_count": 13,
   "metadata": {},
   "outputs": [
    {
     "data": {
      "application/vnd.plotly.v1+json": {
       "config": {
        "plotlyServerURL": "https://plot.ly"
       },
       "data": [
        {
         "hoverinfo": "none",
         "line": {
          "color": "#888",
          "width": 2.93
         },
         "marker": {
          "angleref": "previous",
          "size": 5.86,
          "symbol": "arrow"
         },
         "mode": "lines+markers",
         "opacity": 0.5,
         "type": "scatter",
         "x": [
          0.39301312543955413,
          1,
          null
         ],
         "y": [
          0.45097401899224127,
          -0.37004884541512495,
          null
         ]
        },
        {
         "hoverinfo": "none",
         "line": {
          "color": "#888",
          "width": 0.21
         },
         "marker": {
          "angleref": "previous",
          "size": 0.42,
          "symbol": "arrow"
         },
         "mode": "lines+markers",
         "opacity": 0.5,
         "type": "scatter",
         "x": [
          0.39301312543955413,
          -0.19171615255156668,
          null
         ],
         "y": [
          0.45097401899224127,
          0.10339419426196866,
          null
         ]
        },
        {
         "hoverinfo": "none",
         "line": {
          "color": "#888",
          "width": 0.18
         },
         "marker": {
          "angleref": "previous",
          "size": 0.36,
          "symbol": "arrow"
         },
         "mode": "lines+markers",
         "opacity": 0.5,
         "type": "scatter",
         "x": [
          0.39301312543955413,
          -0.6054261297946966,
          null
         ],
         "y": [
          0.45097401899224127,
          -0.23897063175179012,
          null
         ]
        },
        {
         "hoverinfo": "none",
         "line": {
          "color": "#888",
          "width": 0.09
         },
         "marker": {
          "angleref": "previous",
          "size": 0.18,
          "symbol": "arrow"
         },
         "mode": "lines+markers",
         "opacity": 0.5,
         "type": "scatter",
         "x": [
          0.39301312543955413,
          -0.8852648618515324,
          null
         ],
         "y": [
          0.45097401899224127,
          -0.9234256079660738,
          null
         ]
        },
        {
         "hoverinfo": "none",
         "line": {
          "color": "#888",
          "width": 0.55
         },
         "marker": {
          "angleref": "previous",
          "size": 1.1,
          "symbol": "arrow"
         },
         "mode": "lines+markers",
         "opacity": 0.5,
         "type": "scatter",
         "x": [
          0.39301312543955413,
          0.11644563215455016,
          null
         ],
         "y": [
          0.45097401899224127,
          0.8666566544091784,
          null
         ]
        },
        {
         "hoverinfo": "none",
         "line": {
          "color": "#888",
          "width": 0.03
         },
         "marker": {
          "angleref": "previous",
          "size": 0.06,
          "symbol": "arrow"
         },
         "mode": "lines+markers",
         "opacity": 0.5,
         "type": "scatter",
         "x": [
          0.39301312543955413,
          -0.5558405864899748,
          null
         ],
         "y": [
          0.45097401899224127,
          0.6258843500364787,
          null
         ]
        },
        {
         "hoverinfo": "none",
         "line": {
          "color": "#888",
          "width": 0.05
         },
         "marker": {
          "angleref": "previous",
          "size": 0.1,
          "symbol": "arrow"
         },
         "mode": "lines+markers",
         "opacity": 0.5,
         "type": "scatter",
         "x": [
          0.39301312543955413,
          0.10984058710779204,
          null
         ],
         "y": [
          0.45097401899224127,
          -0.47675409959913195,
          null
         ]
        },
        {
         "hoverinfo": "none",
         "line": {
          "color": "#888",
          "width": 0.04
         },
         "marker": {
          "angleref": "previous",
          "size": 0.08,
          "symbol": "arrow"
         },
         "mode": "lines+markers",
         "opacity": 0.5,
         "type": "scatter",
         "x": [
          0.39301312543955413,
          0.6189483859859075,
          null
         ],
         "y": [
          0.45097401899224127,
          -0.03771003296774346,
          null
         ]
        },
        {
         "hoverinfo": "none",
         "line": {
          "color": "#888",
          "width": 0.76
         },
         "marker": {
          "angleref": "previous",
          "size": 1.52,
          "symbol": "arrow"
         },
         "mode": "lines+markers",
         "opacity": 0.5,
         "type": "scatter",
         "x": [
          1,
          0.39301312543955413,
          null
         ],
         "y": [
          -0.37004884541512495,
          0.45097401899224127,
          null
         ]
        },
        {
         "hoverinfo": "none",
         "line": {
          "color": "#888",
          "width": 0.39
         },
         "marker": {
          "angleref": "previous",
          "size": 0.78,
          "symbol": "arrow"
         },
         "mode": "lines+markers",
         "opacity": 0.5,
         "type": "scatter",
         "x": [
          1,
          -0.19171615255156668,
          null
         ],
         "y": [
          -0.37004884541512495,
          0.10339419426196866,
          null
         ]
        },
        {
         "hoverinfo": "none",
         "line": {
          "color": "#888",
          "width": 0.23
         },
         "marker": {
          "angleref": "previous",
          "size": 0.46,
          "symbol": "arrow"
         },
         "mode": "lines+markers",
         "opacity": 0.5,
         "type": "scatter",
         "x": [
          1,
          -0.6054261297946966,
          null
         ],
         "y": [
          -0.37004884541512495,
          -0.23897063175179012,
          null
         ]
        },
        {
         "hoverinfo": "none",
         "line": {
          "color": "#888",
          "width": 0.2
         },
         "marker": {
          "angleref": "previous",
          "size": 0.4,
          "symbol": "arrow"
         },
         "mode": "lines+markers",
         "opacity": 0.5,
         "type": "scatter",
         "x": [
          1,
          -0.8852648618515324,
          null
         ],
         "y": [
          -0.37004884541512495,
          -0.9234256079660738,
          null
         ]
        },
        {
         "hoverinfo": "none",
         "line": {
          "color": "#888",
          "width": 0.67
         },
         "marker": {
          "angleref": "previous",
          "size": 1.34,
          "symbol": "arrow"
         },
         "mode": "lines+markers",
         "opacity": 0.5,
         "type": "scatter",
         "x": [
          1,
          0.11644563215455016,
          null
         ],
         "y": [
          -0.37004884541512495,
          0.8666566544091784,
          null
         ]
        },
        {
         "hoverinfo": "none",
         "line": {
          "color": "#888",
          "width": 0.06
         },
         "marker": {
          "angleref": "previous",
          "size": 0.12,
          "symbol": "arrow"
         },
         "mode": "lines+markers",
         "opacity": 0.5,
         "type": "scatter",
         "x": [
          1,
          -0.5558405864899748,
          null
         ],
         "y": [
          -0.37004884541512495,
          0.6258843500364787,
          null
         ]
        },
        {
         "hoverinfo": "none",
         "line": {
          "color": "#888",
          "width": 0.06
         },
         "marker": {
          "angleref": "previous",
          "size": 0.12,
          "symbol": "arrow"
         },
         "mode": "lines+markers",
         "opacity": 0.5,
         "type": "scatter",
         "x": [
          1,
          0.10984058710779204,
          null
         ],
         "y": [
          -0.37004884541512495,
          -0.47675409959913195,
          null
         ]
        },
        {
         "hoverinfo": "none",
         "line": {
          "color": "#888",
          "width": 0.06
         },
         "marker": {
          "angleref": "previous",
          "size": 0.12,
          "symbol": "arrow"
         },
         "mode": "lines+markers",
         "opacity": 0.5,
         "type": "scatter",
         "x": [
          1,
          0.6189483859859075,
          null
         ],
         "y": [
          -0.37004884541512495,
          -0.03771003296774346,
          null
         ]
        },
        {
         "hoverinfo": "none",
         "line": {
          "color": "#888",
          "width": 2.15
         },
         "marker": {
          "angleref": "previous",
          "size": 4.3,
          "symbol": "arrow"
         },
         "mode": "lines+markers",
         "opacity": 0.5,
         "type": "scatter",
         "x": [
          -0.19171615255156668,
          1,
          null
         ],
         "y": [
          0.10339419426196866,
          -0.37004884541512495,
          null
         ]
        },
        {
         "hoverinfo": "none",
         "line": {
          "color": "#888",
          "width": 3
         },
         "marker": {
          "angleref": "previous",
          "size": 6,
          "symbol": "arrow"
         },
         "mode": "lines+markers",
         "opacity": 0.5,
         "type": "scatter",
         "x": [
          -0.19171615255156668,
          0.39301312543955413,
          null
         ],
         "y": [
          0.10339419426196866,
          0.45097401899224127,
          null
         ]
        },
        {
         "hoverinfo": "none",
         "line": {
          "color": "#888",
          "width": 0.21
         },
         "marker": {
          "angleref": "previous",
          "size": 0.42,
          "symbol": "arrow"
         },
         "mode": "lines+markers",
         "opacity": 0.5,
         "type": "scatter",
         "x": [
          -0.19171615255156668,
          -0.6054261297946966,
          null
         ],
         "y": [
          0.10339419426196866,
          -0.23897063175179012,
          null
         ]
        },
        {
         "hoverinfo": "none",
         "line": {
          "color": "#888",
          "width": 0.23
         },
         "marker": {
          "angleref": "previous",
          "size": 0.46,
          "symbol": "arrow"
         },
         "mode": "lines+markers",
         "opacity": 0.5,
         "type": "scatter",
         "x": [
          -0.19171615255156668,
          -0.8852648618515324,
          null
         ],
         "y": [
          0.10339419426196866,
          -0.9234256079660738,
          null
         ]
        },
        {
         "hoverinfo": "none",
         "line": {
          "color": "#888",
          "width": 0.21
         },
         "marker": {
          "angleref": "previous",
          "size": 0.42,
          "symbol": "arrow"
         },
         "mode": "lines+markers",
         "opacity": 0.5,
         "type": "scatter",
         "x": [
          -0.19171615255156668,
          0.11644563215455016,
          null
         ],
         "y": [
          0.10339419426196866,
          0.8666566544091784,
          null
         ]
        },
        {
         "hoverinfo": "none",
         "line": {
          "color": "#888",
          "width": 0.12
         },
         "marker": {
          "angleref": "previous",
          "size": 0.24,
          "symbol": "arrow"
         },
         "mode": "lines+markers",
         "opacity": 0.5,
         "type": "scatter",
         "x": [
          -0.19171615255156668,
          -0.5558405864899748,
          null
         ],
         "y": [
          0.10339419426196866,
          0.6258843500364787,
          null
         ]
        },
        {
         "hoverinfo": "none",
         "line": {
          "color": "#888",
          "width": 0.13
         },
         "marker": {
          "angleref": "previous",
          "size": 0.26,
          "symbol": "arrow"
         },
         "mode": "lines+markers",
         "opacity": 0.5,
         "type": "scatter",
         "x": [
          -0.19171615255156668,
          0.10984058710779204,
          null
         ],
         "y": [
          0.10339419426196866,
          -0.47675409959913195,
          null
         ]
        },
        {
         "hoverinfo": "none",
         "line": {
          "color": "#888",
          "width": 0.09
         },
         "marker": {
          "angleref": "previous",
          "size": 0.18,
          "symbol": "arrow"
         },
         "mode": "lines+markers",
         "opacity": 0.5,
         "type": "scatter",
         "x": [
          -0.19171615255156668,
          0.6189483859859075,
          null
         ],
         "y": [
          0.10339419426196866,
          -0.03771003296774346,
          null
         ]
        },
        {
         "hoverinfo": "none",
         "line": {
          "color": "#888",
          "width": 1.61
         },
         "marker": {
          "angleref": "previous",
          "size": 3.22,
          "symbol": "arrow"
         },
         "mode": "lines+markers",
         "opacity": 0.5,
         "type": "scatter",
         "x": [
          -0.6054261297946966,
          1,
          null
         ],
         "y": [
          -0.23897063175179012,
          -0.37004884541512495,
          null
         ]
        },
        {
         "hoverinfo": "none",
         "line": {
          "color": "#888",
          "width": 1.41
         },
         "marker": {
          "angleref": "previous",
          "size": 2.82,
          "symbol": "arrow"
         },
         "mode": "lines+markers",
         "opacity": 0.5,
         "type": "scatter",
         "x": [
          -0.6054261297946966,
          0.39301312543955413,
          null
         ],
         "y": [
          -0.23897063175179012,
          0.45097401899224127,
          null
         ]
        },
        {
         "hoverinfo": "none",
         "line": {
          "color": "#888",
          "width": 0.29
         },
         "marker": {
          "angleref": "previous",
          "size": 0.58,
          "symbol": "arrow"
         },
         "mode": "lines+markers",
         "opacity": 0.5,
         "type": "scatter",
         "x": [
          -0.6054261297946966,
          -0.19171615255156668,
          null
         ],
         "y": [
          -0.23897063175179012,
          0.10339419426196866,
          null
         ]
        },
        {
         "hoverinfo": "none",
         "line": {
          "color": "#888",
          "width": 0.24
         },
         "marker": {
          "angleref": "previous",
          "size": 0.48,
          "symbol": "arrow"
         },
         "mode": "lines+markers",
         "opacity": 0.5,
         "type": "scatter",
         "x": [
          -0.6054261297946966,
          -0.8852648618515324,
          null
         ],
         "y": [
          -0.23897063175179012,
          -0.9234256079660738,
          null
         ]
        },
        {
         "hoverinfo": "none",
         "line": {
          "color": "#888",
          "width": 0.11
         },
         "marker": {
          "angleref": "previous",
          "size": 0.22,
          "symbol": "arrow"
         },
         "mode": "lines+markers",
         "opacity": 0.5,
         "type": "scatter",
         "x": [
          -0.6054261297946966,
          0.11644563215455016,
          null
         ],
         "y": [
          -0.23897063175179012,
          0.8666566544091784,
          null
         ]
        },
        {
         "hoverinfo": "none",
         "line": {
          "color": "#888",
          "width": 0.08
         },
         "marker": {
          "angleref": "previous",
          "size": 0.16,
          "symbol": "arrow"
         },
         "mode": "lines+markers",
         "opacity": 0.5,
         "type": "scatter",
         "x": [
          -0.6054261297946966,
          -0.5558405864899748,
          null
         ],
         "y": [
          -0.23897063175179012,
          0.6258843500364787,
          null
         ]
        },
        {
         "hoverinfo": "none",
         "line": {
          "color": "#888",
          "width": 0.16
         },
         "marker": {
          "angleref": "previous",
          "size": 0.32,
          "symbol": "arrow"
         },
         "mode": "lines+markers",
         "opacity": 0.5,
         "type": "scatter",
         "x": [
          -0.6054261297946966,
          0.10984058710779204,
          null
         ],
         "y": [
          -0.23897063175179012,
          -0.47675409959913195,
          null
         ]
        },
        {
         "hoverinfo": "none",
         "line": {
          "color": "#888",
          "width": 0.11
         },
         "marker": {
          "angleref": "previous",
          "size": 0.22,
          "symbol": "arrow"
         },
         "mode": "lines+markers",
         "opacity": 0.5,
         "type": "scatter",
         "x": [
          -0.6054261297946966,
          0.6189483859859075,
          null
         ],
         "y": [
          -0.23897063175179012,
          -0.03771003296774346,
          null
         ]
        },
        {
         "hoverinfo": "none",
         "line": {
          "color": "#888",
          "width": 0.5
         },
         "marker": {
          "angleref": "previous",
          "size": 1,
          "symbol": "arrow"
         },
         "mode": "lines+markers",
         "opacity": 0.5,
         "type": "scatter",
         "x": [
          -0.8852648618515324,
          1,
          null
         ],
         "y": [
          -0.9234256079660738,
          -0.37004884541512495,
          null
         ]
        },
        {
         "hoverinfo": "none",
         "line": {
          "color": "#888",
          "width": 0.3
         },
         "marker": {
          "angleref": "previous",
          "size": 0.6,
          "symbol": "arrow"
         },
         "mode": "lines+markers",
         "opacity": 0.5,
         "type": "scatter",
         "x": [
          -0.8852648618515324,
          0.39301312543955413,
          null
         ],
         "y": [
          -0.9234256079660738,
          0.45097401899224127,
          null
         ]
        },
        {
         "hoverinfo": "none",
         "line": {
          "color": "#888",
          "width": 0.11
         },
         "marker": {
          "angleref": "previous",
          "size": 0.22,
          "symbol": "arrow"
         },
         "mode": "lines+markers",
         "opacity": 0.5,
         "type": "scatter",
         "x": [
          -0.8852648618515324,
          -0.19171615255156668,
          null
         ],
         "y": [
          -0.9234256079660738,
          0.10339419426196866,
          null
         ]
        },
        {
         "hoverinfo": "none",
         "line": {
          "color": "#888",
          "width": 0.09
         },
         "marker": {
          "angleref": "previous",
          "size": 0.18,
          "symbol": "arrow"
         },
         "mode": "lines+markers",
         "opacity": 0.5,
         "type": "scatter",
         "x": [
          -0.8852648618515324,
          -0.6054261297946966,
          null
         ],
         "y": [
          -0.9234256079660738,
          -0.23897063175179012,
          null
         ]
        },
        {
         "hoverinfo": "none",
         "line": {
          "color": "#888",
          "width": 0.2
         },
         "marker": {
          "angleref": "previous",
          "size": 0.4,
          "symbol": "arrow"
         },
         "mode": "lines+markers",
         "opacity": 0.5,
         "type": "scatter",
         "x": [
          -0.8852648618515324,
          0.11644563215455016,
          null
         ],
         "y": [
          -0.9234256079660738,
          0.8666566544091784,
          null
         ]
        },
        {
         "hoverinfo": "none",
         "line": {
          "color": "#888",
          "width": 0.01
         },
         "marker": {
          "angleref": "previous",
          "size": 0.02,
          "symbol": "arrow"
         },
         "mode": "lines+markers",
         "opacity": 0.5,
         "type": "scatter",
         "x": [
          -0.8852648618515324,
          -0.5558405864899748,
          null
         ],
         "y": [
          -0.9234256079660738,
          0.6258843500364787,
          null
         ]
        },
        {
         "hoverinfo": "none",
         "line": {
          "color": "#888",
          "width": 0.29
         },
         "marker": {
          "angleref": "previous",
          "size": 0.58,
          "symbol": "arrow"
         },
         "mode": "lines+markers",
         "opacity": 0.5,
         "type": "scatter",
         "x": [
          -0.8852648618515324,
          0.10984058710779204,
          null
         ],
         "y": [
          -0.9234256079660738,
          -0.47675409959913195,
          null
         ]
        },
        {
         "hoverinfo": "none",
         "line": {
          "color": "#888",
          "width": 0.28
         },
         "marker": {
          "angleref": "previous",
          "size": 0.56,
          "symbol": "arrow"
         },
         "mode": "lines+markers",
         "opacity": 0.5,
         "type": "scatter",
         "x": [
          -0.8852648618515324,
          0.6189483859859075,
          null
         ],
         "y": [
          -0.9234256079660738,
          -0.03771003296774346,
          null
         ]
        },
        {
         "hoverinfo": "none",
         "line": {
          "color": "#888",
          "width": 1.8
         },
         "marker": {
          "angleref": "previous",
          "size": 3.6,
          "symbol": "arrow"
         },
         "mode": "lines+markers",
         "opacity": 0.5,
         "type": "scatter",
         "x": [
          0.11644563215455016,
          1,
          null
         ],
         "y": [
          0.8666566544091784,
          -0.37004884541512495,
          null
         ]
        },
        {
         "hoverinfo": "none",
         "line": {
          "color": "#888",
          "width": 0.81
         },
         "marker": {
          "angleref": "previous",
          "size": 1.62,
          "symbol": "arrow"
         },
         "mode": "lines+markers",
         "opacity": 0.5,
         "type": "scatter",
         "x": [
          0.11644563215455016,
          0.39301312543955413,
          null
         ],
         "y": [
          0.8666566544091784,
          0.45097401899224127,
          null
         ]
        },
        {
         "hoverinfo": "none",
         "line": {
          "color": "#888",
          "width": 0.29
         },
         "marker": {
          "angleref": "previous",
          "size": 0.58,
          "symbol": "arrow"
         },
         "mode": "lines+markers",
         "opacity": 0.5,
         "type": "scatter",
         "x": [
          0.11644563215455016,
          -0.19171615255156668,
          null
         ],
         "y": [
          0.8666566544091784,
          0.10339419426196866,
          null
         ]
        },
        {
         "hoverinfo": "none",
         "line": {
          "color": "#888",
          "width": 0.4
         },
         "marker": {
          "angleref": "previous",
          "size": 0.8,
          "symbol": "arrow"
         },
         "mode": "lines+markers",
         "opacity": 0.5,
         "type": "scatter",
         "x": [
          0.11644563215455016,
          -0.6054261297946966,
          null
         ],
         "y": [
          0.8666566544091784,
          -0.23897063175179012,
          null
         ]
        },
        {
         "hoverinfo": "none",
         "line": {
          "color": "#888",
          "width": 0.13
         },
         "marker": {
          "angleref": "previous",
          "size": 0.26,
          "symbol": "arrow"
         },
         "mode": "lines+markers",
         "opacity": 0.5,
         "type": "scatter",
         "x": [
          0.11644563215455016,
          -0.8852648618515324,
          null
         ],
         "y": [
          0.8666566544091784,
          -0.9234256079660738,
          null
         ]
        },
        {
         "hoverinfo": "none",
         "line": {
          "color": "#888",
          "width": 0.13
         },
         "marker": {
          "angleref": "previous",
          "size": 0.26,
          "symbol": "arrow"
         },
         "mode": "lines+markers",
         "opacity": 0.5,
         "type": "scatter",
         "x": [
          0.11644563215455016,
          -0.5558405864899748,
          null
         ],
         "y": [
          0.8666566544091784,
          0.6258843500364787,
          null
         ]
        },
        {
         "hoverinfo": "none",
         "line": {
          "color": "#888",
          "width": 0.06
         },
         "marker": {
          "angleref": "previous",
          "size": 0.12,
          "symbol": "arrow"
         },
         "mode": "lines+markers",
         "opacity": 0.5,
         "type": "scatter",
         "x": [
          0.11644563215455016,
          0.10984058710779204,
          null
         ],
         "y": [
          0.8666566544091784,
          -0.47675409959913195,
          null
         ]
        },
        {
         "hoverinfo": "none",
         "line": {
          "color": "#888",
          "width": 0.07
         },
         "marker": {
          "angleref": "previous",
          "size": 0.14,
          "symbol": "arrow"
         },
         "mode": "lines+markers",
         "opacity": 0.5,
         "type": "scatter",
         "x": [
          0.11644563215455016,
          0.6189483859859075,
          null
         ],
         "y": [
          0.8666566544091784,
          -0.03771003296774346,
          null
         ]
        },
        {
         "hoverinfo": "none",
         "line": {
          "color": "#888",
          "width": 1.11
         },
         "marker": {
          "angleref": "previous",
          "size": 2.22,
          "symbol": "arrow"
         },
         "mode": "lines+markers",
         "opacity": 0.5,
         "type": "scatter",
         "x": [
          -0.5558405864899748,
          1,
          null
         ],
         "y": [
          0.6258843500364787,
          -0.37004884541512495,
          null
         ]
        },
        {
         "hoverinfo": "none",
         "line": {
          "color": "#888",
          "width": 1.83
         },
         "marker": {
          "angleref": "previous",
          "size": 3.66,
          "symbol": "arrow"
         },
         "mode": "lines+markers",
         "opacity": 0.5,
         "type": "scatter",
         "x": [
          -0.5558405864899748,
          0.39301312543955413,
          null
         ],
         "y": [
          0.6258843500364787,
          0.45097401899224127,
          null
         ]
        },
        {
         "hoverinfo": "none",
         "line": {
          "color": "#888",
          "width": 0.33
         },
         "marker": {
          "angleref": "previous",
          "size": 0.66,
          "symbol": "arrow"
         },
         "mode": "lines+markers",
         "opacity": 0.5,
         "type": "scatter",
         "x": [
          -0.5558405864899748,
          -0.19171615255156668,
          null
         ],
         "y": [
          0.6258843500364787,
          0.10339419426196866,
          null
         ]
        },
        {
         "hoverinfo": "none",
         "line": {
          "color": "#888",
          "width": 0.32
         },
         "marker": {
          "angleref": "previous",
          "size": 0.64,
          "symbol": "arrow"
         },
         "mode": "lines+markers",
         "opacity": 0.5,
         "type": "scatter",
         "x": [
          -0.5558405864899748,
          -0.6054261297946966,
          null
         ],
         "y": [
          0.6258843500364787,
          -0.23897063175179012,
          null
         ]
        },
        {
         "hoverinfo": "none",
         "line": {
          "color": "#888",
          "width": 0.16
         },
         "marker": {
          "angleref": "previous",
          "size": 0.32,
          "symbol": "arrow"
         },
         "mode": "lines+markers",
         "opacity": 0.5,
         "type": "scatter",
         "x": [
          -0.5558405864899748,
          -0.8852648618515324,
          null
         ],
         "y": [
          0.6258843500364787,
          -0.9234256079660738,
          null
         ]
        },
        {
         "hoverinfo": "none",
         "line": {
          "color": "#888",
          "width": 0.21
         },
         "marker": {
          "angleref": "previous",
          "size": 0.42,
          "symbol": "arrow"
         },
         "mode": "lines+markers",
         "opacity": 0.5,
         "type": "scatter",
         "x": [
          -0.5558405864899748,
          0.11644563215455016,
          null
         ],
         "y": [
          0.6258843500364787,
          0.8666566544091784,
          null
         ]
        },
        {
         "hoverinfo": "none",
         "line": {
          "color": "#888",
          "width": 0.05
         },
         "marker": {
          "angleref": "previous",
          "size": 0.1,
          "symbol": "arrow"
         },
         "mode": "lines+markers",
         "opacity": 0.5,
         "type": "scatter",
         "x": [
          -0.5558405864899748,
          0.10984058710779204,
          null
         ],
         "y": [
          0.6258843500364787,
          -0.47675409959913195,
          null
         ]
        },
        {
         "hoverinfo": "none",
         "line": {
          "color": "#888",
          "width": 0.12
         },
         "marker": {
          "angleref": "previous",
          "size": 0.24,
          "symbol": "arrow"
         },
         "mode": "lines+markers",
         "opacity": 0.5,
         "type": "scatter",
         "x": [
          -0.5558405864899748,
          0.6189483859859075,
          null
         ],
         "y": [
          0.6258843500364787,
          -0.03771003296774346,
          null
         ]
        },
        {
         "hoverinfo": "none",
         "line": {
          "color": "#888",
          "width": 3.25
         },
         "marker": {
          "angleref": "previous",
          "size": 6.5,
          "symbol": "arrow"
         },
         "mode": "lines+markers",
         "opacity": 0.5,
         "type": "scatter",
         "x": [
          0.10984058710779204,
          1,
          null
         ],
         "y": [
          -0.47675409959913195,
          -0.37004884541512495,
          null
         ]
        },
        {
         "hoverinfo": "none",
         "line": {
          "color": "#888",
          "width": 1.84
         },
         "marker": {
          "angleref": "previous",
          "size": 3.68,
          "symbol": "arrow"
         },
         "mode": "lines+markers",
         "opacity": 0.5,
         "type": "scatter",
         "x": [
          0.10984058710779204,
          0.39301312543955413,
          null
         ],
         "y": [
          -0.47675409959913195,
          0.45097401899224127,
          null
         ]
        },
        {
         "hoverinfo": "none",
         "line": {
          "color": "#888",
          "width": 0.28
         },
         "marker": {
          "angleref": "previous",
          "size": 0.56,
          "symbol": "arrow"
         },
         "mode": "lines+markers",
         "opacity": 0.5,
         "type": "scatter",
         "x": [
          0.10984058710779204,
          -0.19171615255156668,
          null
         ],
         "y": [
          -0.47675409959913195,
          0.10339419426196866,
          null
         ]
        },
        {
         "hoverinfo": "none",
         "line": {
          "color": "#888",
          "width": 0.29
         },
         "marker": {
          "angleref": "previous",
          "size": 0.58,
          "symbol": "arrow"
         },
         "mode": "lines+markers",
         "opacity": 0.5,
         "type": "scatter",
         "x": [
          0.10984058710779204,
          -0.6054261297946966,
          null
         ],
         "y": [
          -0.47675409959913195,
          -0.23897063175179012,
          null
         ]
        },
        {
         "hoverinfo": "none",
         "line": {
          "color": "#888",
          "width": 0.25
         },
         "marker": {
          "angleref": "previous",
          "size": 0.5,
          "symbol": "arrow"
         },
         "mode": "lines+markers",
         "opacity": 0.5,
         "type": "scatter",
         "x": [
          0.10984058710779204,
          -0.8852648618515324,
          null
         ],
         "y": [
          -0.47675409959913195,
          -0.9234256079660738,
          null
         ]
        },
        {
         "hoverinfo": "none",
         "line": {
          "color": "#888",
          "width": 0.56
         },
         "marker": {
          "angleref": "previous",
          "size": 1.12,
          "symbol": "arrow"
         },
         "mode": "lines+markers",
         "opacity": 0.5,
         "type": "scatter",
         "x": [
          0.10984058710779204,
          0.11644563215455016,
          null
         ],
         "y": [
          -0.47675409959913195,
          0.8666566544091784,
          null
         ]
        },
        {
         "hoverinfo": "none",
         "line": {
          "color": "#888",
          "width": 0.09
         },
         "marker": {
          "angleref": "previous",
          "size": 0.18,
          "symbol": "arrow"
         },
         "mode": "lines+markers",
         "opacity": 0.5,
         "type": "scatter",
         "x": [
          0.10984058710779204,
          -0.5558405864899748,
          null
         ],
         "y": [
          -0.47675409959913195,
          0.6258843500364787,
          null
         ]
        },
        {
         "hoverinfo": "none",
         "line": {
          "color": "#888",
          "width": 0.13
         },
         "marker": {
          "angleref": "previous",
          "size": 0.26,
          "symbol": "arrow"
         },
         "mode": "lines+markers",
         "opacity": 0.5,
         "type": "scatter",
         "x": [
          0.10984058710779204,
          0.6189483859859075,
          null
         ],
         "y": [
          -0.47675409959913195,
          -0.03771003296774346,
          null
         ]
        },
        {
         "hoverinfo": "none",
         "line": {
          "color": "#888",
          "width": 14.8
         },
         "marker": {
          "angleref": "previous",
          "size": 29.6,
          "symbol": "arrow"
         },
         "mode": "lines+markers",
         "opacity": 0.5,
         "type": "scatter",
         "x": [
          0.6189483859859075,
          1,
          null
         ],
         "y": [
          -0.03771003296774346,
          -0.37004884541512495,
          null
         ]
        },
        {
         "hoverinfo": "none",
         "line": {
          "color": "#888",
          "width": 4.19
         },
         "marker": {
          "angleref": "previous",
          "size": 8.38,
          "symbol": "arrow"
         },
         "mode": "lines+markers",
         "opacity": 0.5,
         "type": "scatter",
         "x": [
          0.6189483859859075,
          0.39301312543955413,
          null
         ],
         "y": [
          -0.03771003296774346,
          0.45097401899224127,
          null
         ]
        },
        {
         "hoverinfo": "none",
         "line": {
          "color": "#888",
          "width": 0.33
         },
         "marker": {
          "angleref": "previous",
          "size": 0.66,
          "symbol": "arrow"
         },
         "mode": "lines+markers",
         "opacity": 0.5,
         "type": "scatter",
         "x": [
          0.6189483859859075,
          -0.19171615255156668,
          null
         ],
         "y": [
          -0.03771003296774346,
          0.10339419426196866,
          null
         ]
        },
        {
         "hoverinfo": "none",
         "line": {
          "color": "#888",
          "width": 0.25
         },
         "marker": {
          "angleref": "previous",
          "size": 0.5,
          "symbol": "arrow"
         },
         "mode": "lines+markers",
         "opacity": 0.5,
         "type": "scatter",
         "x": [
          0.6189483859859075,
          -0.6054261297946966,
          null
         ],
         "y": [
          -0.03771003296774346,
          -0.23897063175179012,
          null
         ]
        },
        {
         "hoverinfo": "none",
         "line": {
          "color": "#888",
          "width": 0.09
         },
         "marker": {
          "angleref": "previous",
          "size": 0.18,
          "symbol": "arrow"
         },
         "mode": "lines+markers",
         "opacity": 0.5,
         "type": "scatter",
         "x": [
          0.6189483859859075,
          -0.8852648618515324,
          null
         ],
         "y": [
          -0.03771003296774346,
          -0.9234256079660738,
          null
         ]
        },
        {
         "hoverinfo": "none",
         "line": {
          "color": "#888",
          "width": 1.3900000000000001
         },
         "marker": {
          "angleref": "previous",
          "size": 2.7800000000000002,
          "symbol": "arrow"
         },
         "mode": "lines+markers",
         "opacity": 0.5,
         "type": "scatter",
         "x": [
          0.6189483859859075,
          0.11644563215455016,
          null
         ],
         "y": [
          -0.03771003296774346,
          0.8666566544091784,
          null
         ]
        },
        {
         "hoverinfo": "none",
         "line": {
          "color": "#888",
          "width": 0.16
         },
         "marker": {
          "angleref": "previous",
          "size": 0.32,
          "symbol": "arrow"
         },
         "mode": "lines+markers",
         "opacity": 0.5,
         "type": "scatter",
         "x": [
          0.6189483859859075,
          -0.5558405864899748,
          null
         ],
         "y": [
          -0.03771003296774346,
          0.6258843500364787,
          null
         ]
        },
        {
         "hoverinfo": "none",
         "line": {
          "color": "#888",
          "width": 0.14
         },
         "marker": {
          "angleref": "previous",
          "size": 0.28,
          "symbol": "arrow"
         },
         "mode": "lines+markers",
         "opacity": 0.5,
         "type": "scatter",
         "x": [
          0.6189483859859075,
          0.10984058710779204,
          null
         ],
         "y": [
          -0.03771003296774346,
          -0.47675409959913195,
          null
         ]
        },
        {
         "hoverinfo": "text",
         "hovertext": [
          "Mouse ID: 7786EC1A04<br>Ranking: 30.233",
          "Mouse ID: A7E6E51A04<br>Ranking: 38.707",
          "Mouse ID: 0813A01A04<br>Ranking: 19.957",
          "Mouse ID: EA01E61A04<br>Ranking: 19.496",
          "Mouse ID: EC61E61A04<br>Ranking: 19.124",
          "Mouse ID: 2D5FE61A04<br>Ranking: 18.982",
          "Mouse ID: 3008EC1A04<br>Ranking: 11.412",
          "Mouse ID: 18D89F1A04<br>Ranking: 11.308",
          "Mouse ID: F4FEEB1A04<br>Ranking: 10.052"
         ],
         "marker": {
          "color": [
           38.70689106371291,
           30.232963861897616,
           19.95722449582174,
           19.496093047865948,
           19.123927029452034,
           18.98200125023425,
           11.411621088036108,
           11.30768682631437,
           10.052035666158645
          ],
          "colorbar": {
           "thickness": 15,
           "title": {
            "side": "right",
            "text": "Ranking"
           },
           "xanchor": "left"
          },
          "colorscale": [
           [
            0,
            "#fde725"
           ],
           [
            0.1111111111111111,
            "#b5de2b"
           ],
           [
            0.2222222222222222,
            "#6ece58"
           ],
           [
            0.3333333333333333,
            "#35b779"
           ],
           [
            0.4444444444444444,
            "#1f9e89"
           ],
           [
            0.5555555555555556,
            "#26828e"
           ],
           [
            0.6666666666666666,
            "#31688e"
           ],
           [
            0.7777777777777778,
            "#3e4989"
           ],
           [
            0.8888888888888888,
            "#482878"
           ],
           [
            1,
            "#440154"
           ]
          ],
          "showscale": true,
          "size": [
           77.41378212742582,
           60.46592772379523,
           39.91444899164348,
           38.992186095731896,
           38.24785405890407,
           37.9640025004685,
           22.823242176072217,
           22.61537365262874,
           20.10407133231729
          ]
         },
         "mode": "markers",
         "text": [],
         "type": "scatter",
         "x": [
          0.39301312543955413,
          1,
          -0.19171615255156668,
          -0.6054261297946966,
          -0.8852648618515324,
          0.11644563215455016,
          -0.5558405864899748,
          0.10984058710779204,
          0.6189483859859075
         ],
         "y": [
          0.45097401899224127,
          -0.37004884541512495,
          0.10339419426196866,
          -0.23897063175179012,
          -0.9234256079660738,
          0.8666566544091784,
          0.6258843500364787,
          -0.47675409959913195,
          -0.03771003296774346
         ]
        }
       ],
       "layout": {
        "height": 600,
        "hovermode": "closest",
        "margin": {
         "b": 0,
         "l": 0,
         "r": 0,
         "t": 40
        },
        "plot_bgcolor": "white",
        "showlegend": false,
        "template": {
         "data": {
          "bar": [
           {
            "error_x": {
             "color": "#2a3f5f"
            },
            "error_y": {
             "color": "#2a3f5f"
            },
            "marker": {
             "line": {
              "color": "#E5ECF6",
              "width": 0.5
             },
             "pattern": {
              "fillmode": "overlay",
              "size": 10,
              "solidity": 0.2
             }
            },
            "type": "bar"
           }
          ],
          "barpolar": [
           {
            "marker": {
             "line": {
              "color": "#E5ECF6",
              "width": 0.5
             },
             "pattern": {
              "fillmode": "overlay",
              "size": 10,
              "solidity": 0.2
             }
            },
            "type": "barpolar"
           }
          ],
          "carpet": [
           {
            "aaxis": {
             "endlinecolor": "#2a3f5f",
             "gridcolor": "white",
             "linecolor": "white",
             "minorgridcolor": "white",
             "startlinecolor": "#2a3f5f"
            },
            "baxis": {
             "endlinecolor": "#2a3f5f",
             "gridcolor": "white",
             "linecolor": "white",
             "minorgridcolor": "white",
             "startlinecolor": "#2a3f5f"
            },
            "type": "carpet"
           }
          ],
          "choropleth": [
           {
            "colorbar": {
             "outlinewidth": 0,
             "ticks": ""
            },
            "type": "choropleth"
           }
          ],
          "contour": [
           {
            "colorbar": {
             "outlinewidth": 0,
             "ticks": ""
            },
            "colorscale": [
             [
              0,
              "#0d0887"
             ],
             [
              0.1111111111111111,
              "#46039f"
             ],
             [
              0.2222222222222222,
              "#7201a8"
             ],
             [
              0.3333333333333333,
              "#9c179e"
             ],
             [
              0.4444444444444444,
              "#bd3786"
             ],
             [
              0.5555555555555556,
              "#d8576b"
             ],
             [
              0.6666666666666666,
              "#ed7953"
             ],
             [
              0.7777777777777778,
              "#fb9f3a"
             ],
             [
              0.8888888888888888,
              "#fdca26"
             ],
             [
              1,
              "#f0f921"
             ]
            ],
            "type": "contour"
           }
          ],
          "contourcarpet": [
           {
            "colorbar": {
             "outlinewidth": 0,
             "ticks": ""
            },
            "type": "contourcarpet"
           }
          ],
          "heatmap": [
           {
            "colorbar": {
             "outlinewidth": 0,
             "ticks": ""
            },
            "colorscale": [
             [
              0,
              "#0d0887"
             ],
             [
              0.1111111111111111,
              "#46039f"
             ],
             [
              0.2222222222222222,
              "#7201a8"
             ],
             [
              0.3333333333333333,
              "#9c179e"
             ],
             [
              0.4444444444444444,
              "#bd3786"
             ],
             [
              0.5555555555555556,
              "#d8576b"
             ],
             [
              0.6666666666666666,
              "#ed7953"
             ],
             [
              0.7777777777777778,
              "#fb9f3a"
             ],
             [
              0.8888888888888888,
              "#fdca26"
             ],
             [
              1,
              "#f0f921"
             ]
            ],
            "type": "heatmap"
           }
          ],
          "heatmapgl": [
           {
            "colorbar": {
             "outlinewidth": 0,
             "ticks": ""
            },
            "colorscale": [
             [
              0,
              "#0d0887"
             ],
             [
              0.1111111111111111,
              "#46039f"
             ],
             [
              0.2222222222222222,
              "#7201a8"
             ],
             [
              0.3333333333333333,
              "#9c179e"
             ],
             [
              0.4444444444444444,
              "#bd3786"
             ],
             [
              0.5555555555555556,
              "#d8576b"
             ],
             [
              0.6666666666666666,
              "#ed7953"
             ],
             [
              0.7777777777777778,
              "#fb9f3a"
             ],
             [
              0.8888888888888888,
              "#fdca26"
             ],
             [
              1,
              "#f0f921"
             ]
            ],
            "type": "heatmapgl"
           }
          ],
          "histogram": [
           {
            "marker": {
             "pattern": {
              "fillmode": "overlay",
              "size": 10,
              "solidity": 0.2
             }
            },
            "type": "histogram"
           }
          ],
          "histogram2d": [
           {
            "colorbar": {
             "outlinewidth": 0,
             "ticks": ""
            },
            "colorscale": [
             [
              0,
              "#0d0887"
             ],
             [
              0.1111111111111111,
              "#46039f"
             ],
             [
              0.2222222222222222,
              "#7201a8"
             ],
             [
              0.3333333333333333,
              "#9c179e"
             ],
             [
              0.4444444444444444,
              "#bd3786"
             ],
             [
              0.5555555555555556,
              "#d8576b"
             ],
             [
              0.6666666666666666,
              "#ed7953"
             ],
             [
              0.7777777777777778,
              "#fb9f3a"
             ],
             [
              0.8888888888888888,
              "#fdca26"
             ],
             [
              1,
              "#f0f921"
             ]
            ],
            "type": "histogram2d"
           }
          ],
          "histogram2dcontour": [
           {
            "colorbar": {
             "outlinewidth": 0,
             "ticks": ""
            },
            "colorscale": [
             [
              0,
              "#0d0887"
             ],
             [
              0.1111111111111111,
              "#46039f"
             ],
             [
              0.2222222222222222,
              "#7201a8"
             ],
             [
              0.3333333333333333,
              "#9c179e"
             ],
             [
              0.4444444444444444,
              "#bd3786"
             ],
             [
              0.5555555555555556,
              "#d8576b"
             ],
             [
              0.6666666666666666,
              "#ed7953"
             ],
             [
              0.7777777777777778,
              "#fb9f3a"
             ],
             [
              0.8888888888888888,
              "#fdca26"
             ],
             [
              1,
              "#f0f921"
             ]
            ],
            "type": "histogram2dcontour"
           }
          ],
          "mesh3d": [
           {
            "colorbar": {
             "outlinewidth": 0,
             "ticks": ""
            },
            "type": "mesh3d"
           }
          ],
          "parcoords": [
           {
            "line": {
             "colorbar": {
              "outlinewidth": 0,
              "ticks": ""
             }
            },
            "type": "parcoords"
           }
          ],
          "pie": [
           {
            "automargin": true,
            "type": "pie"
           }
          ],
          "scatter": [
           {
            "fillpattern": {
             "fillmode": "overlay",
             "size": 10,
             "solidity": 0.2
            },
            "type": "scatter"
           }
          ],
          "scatter3d": [
           {
            "line": {
             "colorbar": {
              "outlinewidth": 0,
              "ticks": ""
             }
            },
            "marker": {
             "colorbar": {
              "outlinewidth": 0,
              "ticks": ""
             }
            },
            "type": "scatter3d"
           }
          ],
          "scattercarpet": [
           {
            "marker": {
             "colorbar": {
              "outlinewidth": 0,
              "ticks": ""
             }
            },
            "type": "scattercarpet"
           }
          ],
          "scattergeo": [
           {
            "marker": {
             "colorbar": {
              "outlinewidth": 0,
              "ticks": ""
             }
            },
            "type": "scattergeo"
           }
          ],
          "scattergl": [
           {
            "marker": {
             "colorbar": {
              "outlinewidth": 0,
              "ticks": ""
             }
            },
            "type": "scattergl"
           }
          ],
          "scattermapbox": [
           {
            "marker": {
             "colorbar": {
              "outlinewidth": 0,
              "ticks": ""
             }
            },
            "type": "scattermapbox"
           }
          ],
          "scatterpolar": [
           {
            "marker": {
             "colorbar": {
              "outlinewidth": 0,
              "ticks": ""
             }
            },
            "type": "scatterpolar"
           }
          ],
          "scatterpolargl": [
           {
            "marker": {
             "colorbar": {
              "outlinewidth": 0,
              "ticks": ""
             }
            },
            "type": "scatterpolargl"
           }
          ],
          "scatterternary": [
           {
            "marker": {
             "colorbar": {
              "outlinewidth": 0,
              "ticks": ""
             }
            },
            "type": "scatterternary"
           }
          ],
          "surface": [
           {
            "colorbar": {
             "outlinewidth": 0,
             "ticks": ""
            },
            "colorscale": [
             [
              0,
              "#0d0887"
             ],
             [
              0.1111111111111111,
              "#46039f"
             ],
             [
              0.2222222222222222,
              "#7201a8"
             ],
             [
              0.3333333333333333,
              "#9c179e"
             ],
             [
              0.4444444444444444,
              "#bd3786"
             ],
             [
              0.5555555555555556,
              "#d8576b"
             ],
             [
              0.6666666666666666,
              "#ed7953"
             ],
             [
              0.7777777777777778,
              "#fb9f3a"
             ],
             [
              0.8888888888888888,
              "#fdca26"
             ],
             [
              1,
              "#f0f921"
             ]
            ],
            "type": "surface"
           }
          ],
          "table": [
           {
            "cells": {
             "fill": {
              "color": "#EBF0F8"
             },
             "line": {
              "color": "white"
             }
            },
            "header": {
             "fill": {
              "color": "#C8D4E3"
             },
             "line": {
              "color": "white"
             }
            },
            "type": "table"
           }
          ]
         },
         "layout": {
          "annotationdefaults": {
           "arrowcolor": "#2a3f5f",
           "arrowhead": 0,
           "arrowwidth": 1
          },
          "autotypenumbers": "strict",
          "coloraxis": {
           "colorbar": {
            "outlinewidth": 0,
            "ticks": ""
           }
          },
          "colorscale": {
           "diverging": [
            [
             0,
             "#8e0152"
            ],
            [
             0.1,
             "#c51b7d"
            ],
            [
             0.2,
             "#de77ae"
            ],
            [
             0.3,
             "#f1b6da"
            ],
            [
             0.4,
             "#fde0ef"
            ],
            [
             0.5,
             "#f7f7f7"
            ],
            [
             0.6,
             "#e6f5d0"
            ],
            [
             0.7,
             "#b8e186"
            ],
            [
             0.8,
             "#7fbc41"
            ],
            [
             0.9,
             "#4d9221"
            ],
            [
             1,
             "#276419"
            ]
           ],
           "sequential": [
            [
             0,
             "#0d0887"
            ],
            [
             0.1111111111111111,
             "#46039f"
            ],
            [
             0.2222222222222222,
             "#7201a8"
            ],
            [
             0.3333333333333333,
             "#9c179e"
            ],
            [
             0.4444444444444444,
             "#bd3786"
            ],
            [
             0.5555555555555556,
             "#d8576b"
            ],
            [
             0.6666666666666666,
             "#ed7953"
            ],
            [
             0.7777777777777778,
             "#fb9f3a"
            ],
            [
             0.8888888888888888,
             "#fdca26"
            ],
            [
             1,
             "#f0f921"
            ]
           ],
           "sequentialminus": [
            [
             0,
             "#0d0887"
            ],
            [
             0.1111111111111111,
             "#46039f"
            ],
            [
             0.2222222222222222,
             "#7201a8"
            ],
            [
             0.3333333333333333,
             "#9c179e"
            ],
            [
             0.4444444444444444,
             "#bd3786"
            ],
            [
             0.5555555555555556,
             "#d8576b"
            ],
            [
             0.6666666666666666,
             "#ed7953"
            ],
            [
             0.7777777777777778,
             "#fb9f3a"
            ],
            [
             0.8888888888888888,
             "#fdca26"
            ],
            [
             1,
             "#f0f921"
            ]
           ]
          },
          "colorway": [
           "#636efa",
           "#EF553B",
           "#00cc96",
           "#ab63fa",
           "#FFA15A",
           "#19d3f3",
           "#FF6692",
           "#B6E880",
           "#FF97FF",
           "#FECB52"
          ],
          "font": {
           "color": "#2a3f5f"
          },
          "geo": {
           "bgcolor": "white",
           "lakecolor": "white",
           "landcolor": "#E5ECF6",
           "showlakes": true,
           "showland": true,
           "subunitcolor": "white"
          },
          "hoverlabel": {
           "align": "left"
          },
          "hovermode": "closest",
          "mapbox": {
           "style": "light"
          },
          "paper_bgcolor": "white",
          "plot_bgcolor": "#E5ECF6",
          "polar": {
           "angularaxis": {
            "gridcolor": "white",
            "linecolor": "white",
            "ticks": ""
           },
           "bgcolor": "#E5ECF6",
           "radialaxis": {
            "gridcolor": "white",
            "linecolor": "white",
            "ticks": ""
           }
          },
          "scene": {
           "xaxis": {
            "backgroundcolor": "#E5ECF6",
            "gridcolor": "white",
            "gridwidth": 2,
            "linecolor": "white",
            "showbackground": true,
            "ticks": "",
            "zerolinecolor": "white"
           },
           "yaxis": {
            "backgroundcolor": "#E5ECF6",
            "gridcolor": "white",
            "gridwidth": 2,
            "linecolor": "white",
            "showbackground": true,
            "ticks": "",
            "zerolinecolor": "white"
           },
           "zaxis": {
            "backgroundcolor": "#E5ECF6",
            "gridcolor": "white",
            "gridwidth": 2,
            "linecolor": "white",
            "showbackground": true,
            "ticks": "",
            "zerolinecolor": "white"
           }
          },
          "shapedefaults": {
           "line": {
            "color": "#2a3f5f"
           }
          },
          "ternary": {
           "aaxis": {
            "gridcolor": "white",
            "linecolor": "white",
            "ticks": ""
           },
           "baxis": {
            "gridcolor": "white",
            "linecolor": "white",
            "ticks": ""
           },
           "bgcolor": "#E5ECF6",
           "caxis": {
            "gridcolor": "white",
            "linecolor": "white",
            "ticks": ""
           }
          },
          "title": {
           "x": 0.05
          },
          "xaxis": {
           "automargin": true,
           "gridcolor": "white",
           "linecolor": "white",
           "ticks": "",
           "title": {
            "standoff": 15
           },
           "zerolinecolor": "white",
           "zerolinewidth": 2
          },
          "yaxis": {
           "automargin": true,
           "gridcolor": "white",
           "linecolor": "white",
           "ticks": "",
           "title": {
            "standoff": 15
           },
           "zerolinecolor": "white",
           "zerolinewidth": 2
          }
         }
        },
        "title": {
         "text": "Social network"
        },
        "width": 800,
        "xaxis": {
         "showgrid": false,
         "showticklabels": false,
         "zeroline": false
        },
        "yaxis": {
         "showgrid": false,
         "showticklabels": false,
         "zeroline": false
        }
       }
      }
     },
     "metadata": {},
     "output_type": "display_data"
    }
   ],
   "source": [
    "graph = deepecohab.plot_network_graph(cfp, chasings, ranking_ordinal, node_size_multiplier=2, edge_width_multiplier=0.01, title=\"Social network\", cmap=\"viridis_r\")\n",
    "# ranking_time = deepecohab.plot_ranking_in_time(cfp, ranking_in_time)\n",
    "# eval_plot = deepecohab.social_dominance_evaluation(cfp, chasings, ranking_ordinal)\n",
    "# final_ranking = deepecohab.weigh_ranking(cfp, graph, ranking_ordinal, chasings)"
   ]
  },
  {
   "cell_type": "code",
   "execution_count": null,
   "metadata": {},
   "outputs": [],
   "source": []
  }
 ],
 "metadata": {
  "kernelspec": {
   "display_name": "deepecohab",
   "language": "python",
   "name": "python3"
  },
  "language_info": {
   "codemirror_mode": {
    "name": "ipython",
    "version": 3
   },
   "file_extension": ".py",
   "mimetype": "text/x-python",
   "name": "python",
   "nbconvert_exporter": "python",
   "pygments_lexer": "ipython3",
   "version": "3.10.16"
  }
 },
 "nbformat": 4,
 "nbformat_minor": 2
}
