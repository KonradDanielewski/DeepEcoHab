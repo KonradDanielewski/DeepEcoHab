{
 "cells": [
  {
   "cell_type": "code",
   "execution_count": 1,
   "metadata": {},
   "outputs": [],
   "source": [
    "%load_ext autoreload\n",
    "%autoreload 2"
   ]
  },
  {
   "cell_type": "code",
   "execution_count": 2,
   "metadata": {},
   "outputs": [
    {
     "data": {
      "text/plain": [
       "'/home/winiar/Desktop/projects/ecohab/deepecohab/example_script'"
      ]
     },
     "execution_count": 2,
     "metadata": {},
     "output_type": "execute_result"
    }
   ],
   "source": [
    "pwd"
   ]
  },
  {
   "cell_type": "code",
   "execution_count": 3,
   "metadata": {},
   "outputs": [
    {
     "name": "stdout",
     "output_type": "stream",
     "text": [
      "/home/winiar/Desktop/projects/ecohab/deepecohab\n"
     ]
    }
   ],
   "source": [
    "cd .."
   ]
  },
  {
   "cell_type": "code",
   "execution_count": 4,
   "metadata": {},
   "outputs": [],
   "source": [
    "import os\n",
    "from pathlib import Path\n",
    "\n",
    "import deepecohab"
   ]
  },
  {
   "cell_type": "markdown",
   "metadata": {},
   "source": [
    "#### Make project\n",
    "\n",
    "Uses example data provided in the repository. Currently only default ecohab layout, more examples soon..."
   ]
  },
  {
   "cell_type": "code",
   "execution_count": 5,
   "metadata": {},
   "outputs": [],
   "source": [
    "example_dir = Path(os.getcwd())"
   ]
  },
  {
   "cell_type": "code",
   "execution_count": 6,
   "metadata": {},
   "outputs": [
    {
     "data": {
      "text/plain": [
       "PosixPath('/home/winiar/Desktop/projects/ecohab/deepecohab')"
      ]
     },
     "execution_count": 6,
     "metadata": {},
     "output_type": "execute_result"
    }
   ],
   "source": [
    "example_dir"
   ]
  },
  {
   "cell_type": "code",
   "execution_count": 7,
   "metadata": {},
   "outputs": [],
   "source": [
    "cfp = deepecohab.create_ecohab_project(\n",
    "    project_location=example_dir, # Location where the project will be created\n",
    "    experiment_name=\"test_name\",  # Name of the project\n",
    "    data_path=example_dir / \"example_script/test_data/\", # Folder with ecohab txt files\n",
    "    start_datetime=\"2025-01-02 12:00:00\", #Time from which the data should be taken (we ommit the first file before first dark phase start) YYYY-MM-DD HH:MM:SS\n",
    "    finish_datetime=\"2025-01-09 08:00:00\",\n",
    "    light_phase_start=\"00:00:00\",\n",
    "    dark_phase_start=\"12:00:00\",\n",
    "    )"
   ]
  },
  {
   "cell_type": "markdown",
   "metadata": {},
   "source": [
    "#### Make structure"
   ]
  },
  {
   "cell_type": "code",
   "execution_count": 8,
   "metadata": {},
   "outputs": [],
   "source": [
    "df = deepecohab.get_ecohab_data_structure(cfp, overwrite=False)"
   ]
  },
  {
   "cell_type": "markdown",
   "metadata": {},
   "source": [
    "#### Chasings"
   ]
  },
  {
   "cell_type": "code",
   "execution_count": 9,
   "metadata": {},
   "outputs": [
    {
     "data": {
      "application/vnd.plotly.v1+json": {
       "config": {
        "plotlyServerURL": "https://plot.ly"
       },
       "data": [
        {
         "coloraxis": "coloraxis",
         "hovertemplate": "x: %{x}<br>y: %{y}<br>color: %{z}<extra></extra>",
         "name": "0",
         "texttemplate": "%{z}",
         "type": "heatmap",
         "x": [
          "A7E6E51A04",
          "7786EC1A04",
          "0813A01A04",
          "EA01E61A04",
          "EC61E61A04",
          "2D5FE61A04",
          "3008EC1A04",
          "18D89F1A04",
          "F4FEEB1A04"
         ],
         "xaxis": "x",
         "y": [
          "A7E6E51A04",
          "7786EC1A04",
          "0813A01A04",
          "EA01E61A04",
          "EC61E61A04",
          "2D5FE61A04",
          "3008EC1A04",
          "18D89F1A04",
          "F4FEEB1A04"
         ],
         "yaxis": "y",
         "z": [
          [
           null,
           76,
           39,
           23,
           20,
           67,
           6,
           6,
           6
          ],
          [
           293,
           null,
           21,
           18,
           9,
           55,
           3,
           5,
           4
          ],
          [
           215,
           300,
           null,
           21,
           23,
           21,
           12,
           13,
           9
          ],
          [
           161,
           141,
           29,
           null,
           24,
           11,
           8,
           16,
           11
          ],
          [
           50,
           30,
           11,
           9,
           null,
           20,
           1,
           29,
           28
          ],
          [
           180,
           81,
           29,
           40,
           13,
           null,
           13,
           6,
           7
          ],
          [
           111,
           183,
           33,
           32,
           16,
           21,
           null,
           5,
           12
          ],
          [
           325,
           184,
           28,
           29,
           25,
           56,
           9,
           null,
           13
          ],
          [
           1480,
           419,
           33,
           25,
           9,
           139,
           16,
           14,
           null
          ]
         ]
        }
       ],
       "layout": {
        "coloraxis": {
         "colorscale": [
          [
           0,
           "#0d0887"
          ],
          [
           0.1111111111111111,
           "#46039f"
          ],
          [
           0.2222222222222222,
           "#7201a8"
          ],
          [
           0.3333333333333333,
           "#9c179e"
          ],
          [
           0.4444444444444444,
           "#bd3786"
          ],
          [
           0.5555555555555556,
           "#d8576b"
          ],
          [
           0.6666666666666666,
           "#ed7953"
          ],
          [
           0.7777777777777778,
           "#fb9f3a"
          ],
          [
           0.8888888888888888,
           "#fdca26"
          ],
          [
           1,
           "#f0f921"
          ]
         ]
        },
        "height": 700,
        "margin": {
         "t": 60
        },
        "template": {
         "data": {
          "bar": [
           {
            "error_x": {
             "color": "#2a3f5f"
            },
            "error_y": {
             "color": "#2a3f5f"
            },
            "marker": {
             "line": {
              "color": "#E5ECF6",
              "width": 0.5
             },
             "pattern": {
              "fillmode": "overlay",
              "size": 10,
              "solidity": 0.2
             }
            },
            "type": "bar"
           }
          ],
          "barpolar": [
           {
            "marker": {
             "line": {
              "color": "#E5ECF6",
              "width": 0.5
             },
             "pattern": {
              "fillmode": "overlay",
              "size": 10,
              "solidity": 0.2
             }
            },
            "type": "barpolar"
           }
          ],
          "carpet": [
           {
            "aaxis": {
             "endlinecolor": "#2a3f5f",
             "gridcolor": "white",
             "linecolor": "white",
             "minorgridcolor": "white",
             "startlinecolor": "#2a3f5f"
            },
            "baxis": {
             "endlinecolor": "#2a3f5f",
             "gridcolor": "white",
             "linecolor": "white",
             "minorgridcolor": "white",
             "startlinecolor": "#2a3f5f"
            },
            "type": "carpet"
           }
          ],
          "choropleth": [
           {
            "colorbar": {
             "outlinewidth": 0,
             "ticks": ""
            },
            "type": "choropleth"
           }
          ],
          "contour": [
           {
            "colorbar": {
             "outlinewidth": 0,
             "ticks": ""
            },
            "colorscale": [
             [
              0,
              "#0d0887"
             ],
             [
              0.1111111111111111,
              "#46039f"
             ],
             [
              0.2222222222222222,
              "#7201a8"
             ],
             [
              0.3333333333333333,
              "#9c179e"
             ],
             [
              0.4444444444444444,
              "#bd3786"
             ],
             [
              0.5555555555555556,
              "#d8576b"
             ],
             [
              0.6666666666666666,
              "#ed7953"
             ],
             [
              0.7777777777777778,
              "#fb9f3a"
             ],
             [
              0.8888888888888888,
              "#fdca26"
             ],
             [
              1,
              "#f0f921"
             ]
            ],
            "type": "contour"
           }
          ],
          "contourcarpet": [
           {
            "colorbar": {
             "outlinewidth": 0,
             "ticks": ""
            },
            "type": "contourcarpet"
           }
          ],
          "heatmap": [
           {
            "colorbar": {
             "outlinewidth": 0,
             "ticks": ""
            },
            "colorscale": [
             [
              0,
              "#0d0887"
             ],
             [
              0.1111111111111111,
              "#46039f"
             ],
             [
              0.2222222222222222,
              "#7201a8"
             ],
             [
              0.3333333333333333,
              "#9c179e"
             ],
             [
              0.4444444444444444,
              "#bd3786"
             ],
             [
              0.5555555555555556,
              "#d8576b"
             ],
             [
              0.6666666666666666,
              "#ed7953"
             ],
             [
              0.7777777777777778,
              "#fb9f3a"
             ],
             [
              0.8888888888888888,
              "#fdca26"
             ],
             [
              1,
              "#f0f921"
             ]
            ],
            "type": "heatmap"
           }
          ],
          "heatmapgl": [
           {
            "colorbar": {
             "outlinewidth": 0,
             "ticks": ""
            },
            "colorscale": [
             [
              0,
              "#0d0887"
             ],
             [
              0.1111111111111111,
              "#46039f"
             ],
             [
              0.2222222222222222,
              "#7201a8"
             ],
             [
              0.3333333333333333,
              "#9c179e"
             ],
             [
              0.4444444444444444,
              "#bd3786"
             ],
             [
              0.5555555555555556,
              "#d8576b"
             ],
             [
              0.6666666666666666,
              "#ed7953"
             ],
             [
              0.7777777777777778,
              "#fb9f3a"
             ],
             [
              0.8888888888888888,
              "#fdca26"
             ],
             [
              1,
              "#f0f921"
             ]
            ],
            "type": "heatmapgl"
           }
          ],
          "histogram": [
           {
            "marker": {
             "pattern": {
              "fillmode": "overlay",
              "size": 10,
              "solidity": 0.2
             }
            },
            "type": "histogram"
           }
          ],
          "histogram2d": [
           {
            "colorbar": {
             "outlinewidth": 0,
             "ticks": ""
            },
            "colorscale": [
             [
              0,
              "#0d0887"
             ],
             [
              0.1111111111111111,
              "#46039f"
             ],
             [
              0.2222222222222222,
              "#7201a8"
             ],
             [
              0.3333333333333333,
              "#9c179e"
             ],
             [
              0.4444444444444444,
              "#bd3786"
             ],
             [
              0.5555555555555556,
              "#d8576b"
             ],
             [
              0.6666666666666666,
              "#ed7953"
             ],
             [
              0.7777777777777778,
              "#fb9f3a"
             ],
             [
              0.8888888888888888,
              "#fdca26"
             ],
             [
              1,
              "#f0f921"
             ]
            ],
            "type": "histogram2d"
           }
          ],
          "histogram2dcontour": [
           {
            "colorbar": {
             "outlinewidth": 0,
             "ticks": ""
            },
            "colorscale": [
             [
              0,
              "#0d0887"
             ],
             [
              0.1111111111111111,
              "#46039f"
             ],
             [
              0.2222222222222222,
              "#7201a8"
             ],
             [
              0.3333333333333333,
              "#9c179e"
             ],
             [
              0.4444444444444444,
              "#bd3786"
             ],
             [
              0.5555555555555556,
              "#d8576b"
             ],
             [
              0.6666666666666666,
              "#ed7953"
             ],
             [
              0.7777777777777778,
              "#fb9f3a"
             ],
             [
              0.8888888888888888,
              "#fdca26"
             ],
             [
              1,
              "#f0f921"
             ]
            ],
            "type": "histogram2dcontour"
           }
          ],
          "mesh3d": [
           {
            "colorbar": {
             "outlinewidth": 0,
             "ticks": ""
            },
            "type": "mesh3d"
           }
          ],
          "parcoords": [
           {
            "line": {
             "colorbar": {
              "outlinewidth": 0,
              "ticks": ""
             }
            },
            "type": "parcoords"
           }
          ],
          "pie": [
           {
            "automargin": true,
            "type": "pie"
           }
          ],
          "scatter": [
           {
            "fillpattern": {
             "fillmode": "overlay",
             "size": 10,
             "solidity": 0.2
            },
            "type": "scatter"
           }
          ],
          "scatter3d": [
           {
            "line": {
             "colorbar": {
              "outlinewidth": 0,
              "ticks": ""
             }
            },
            "marker": {
             "colorbar": {
              "outlinewidth": 0,
              "ticks": ""
             }
            },
            "type": "scatter3d"
           }
          ],
          "scattercarpet": [
           {
            "marker": {
             "colorbar": {
              "outlinewidth": 0,
              "ticks": ""
             }
            },
            "type": "scattercarpet"
           }
          ],
          "scattergeo": [
           {
            "marker": {
             "colorbar": {
              "outlinewidth": 0,
              "ticks": ""
             }
            },
            "type": "scattergeo"
           }
          ],
          "scattergl": [
           {
            "marker": {
             "colorbar": {
              "outlinewidth": 0,
              "ticks": ""
             }
            },
            "type": "scattergl"
           }
          ],
          "scattermapbox": [
           {
            "marker": {
             "colorbar": {
              "outlinewidth": 0,
              "ticks": ""
             }
            },
            "type": "scattermapbox"
           }
          ],
          "scatterpolar": [
           {
            "marker": {
             "colorbar": {
              "outlinewidth": 0,
              "ticks": ""
             }
            },
            "type": "scatterpolar"
           }
          ],
          "scatterpolargl": [
           {
            "marker": {
             "colorbar": {
              "outlinewidth": 0,
              "ticks": ""
             }
            },
            "type": "scatterpolargl"
           }
          ],
          "scatterternary": [
           {
            "marker": {
             "colorbar": {
              "outlinewidth": 0,
              "ticks": ""
             }
            },
            "type": "scatterternary"
           }
          ],
          "surface": [
           {
            "colorbar": {
             "outlinewidth": 0,
             "ticks": ""
            },
            "colorscale": [
             [
              0,
              "#0d0887"
             ],
             [
              0.1111111111111111,
              "#46039f"
             ],
             [
              0.2222222222222222,
              "#7201a8"
             ],
             [
              0.3333333333333333,
              "#9c179e"
             ],
             [
              0.4444444444444444,
              "#bd3786"
             ],
             [
              0.5555555555555556,
              "#d8576b"
             ],
             [
              0.6666666666666666,
              "#ed7953"
             ],
             [
              0.7777777777777778,
              "#fb9f3a"
             ],
             [
              0.8888888888888888,
              "#fdca26"
             ],
             [
              1,
              "#f0f921"
             ]
            ],
            "type": "surface"
           }
          ],
          "table": [
           {
            "cells": {
             "fill": {
              "color": "#EBF0F8"
             },
             "line": {
              "color": "white"
             }
            },
            "header": {
             "fill": {
              "color": "#C8D4E3"
             },
             "line": {
              "color": "white"
             }
            },
            "type": "table"
           }
          ]
         },
         "layout": {
          "annotationdefaults": {
           "arrowcolor": "#2a3f5f",
           "arrowhead": 0,
           "arrowwidth": 1
          },
          "autotypenumbers": "strict",
          "coloraxis": {
           "colorbar": {
            "outlinewidth": 0,
            "ticks": ""
           }
          },
          "colorscale": {
           "diverging": [
            [
             0,
             "#8e0152"
            ],
            [
             0.1,
             "#c51b7d"
            ],
            [
             0.2,
             "#de77ae"
            ],
            [
             0.3,
             "#f1b6da"
            ],
            [
             0.4,
             "#fde0ef"
            ],
            [
             0.5,
             "#f7f7f7"
            ],
            [
             0.6,
             "#e6f5d0"
            ],
            [
             0.7,
             "#b8e186"
            ],
            [
             0.8,
             "#7fbc41"
            ],
            [
             0.9,
             "#4d9221"
            ],
            [
             1,
             "#276419"
            ]
           ],
           "sequential": [
            [
             0,
             "#0d0887"
            ],
            [
             0.1111111111111111,
             "#46039f"
            ],
            [
             0.2222222222222222,
             "#7201a8"
            ],
            [
             0.3333333333333333,
             "#9c179e"
            ],
            [
             0.4444444444444444,
             "#bd3786"
            ],
            [
             0.5555555555555556,
             "#d8576b"
            ],
            [
             0.6666666666666666,
             "#ed7953"
            ],
            [
             0.7777777777777778,
             "#fb9f3a"
            ],
            [
             0.8888888888888888,
             "#fdca26"
            ],
            [
             1,
             "#f0f921"
            ]
           ],
           "sequentialminus": [
            [
             0,
             "#0d0887"
            ],
            [
             0.1111111111111111,
             "#46039f"
            ],
            [
             0.2222222222222222,
             "#7201a8"
            ],
            [
             0.3333333333333333,
             "#9c179e"
            ],
            [
             0.4444444444444444,
             "#bd3786"
            ],
            [
             0.5555555555555556,
             "#d8576b"
            ],
            [
             0.6666666666666666,
             "#ed7953"
            ],
            [
             0.7777777777777778,
             "#fb9f3a"
            ],
            [
             0.8888888888888888,
             "#fdca26"
            ],
            [
             1,
             "#f0f921"
            ]
           ]
          },
          "colorway": [
           "#636efa",
           "#EF553B",
           "#00cc96",
           "#ab63fa",
           "#FFA15A",
           "#19d3f3",
           "#FF6692",
           "#B6E880",
           "#FF97FF",
           "#FECB52"
          ],
          "font": {
           "color": "#2a3f5f"
          },
          "geo": {
           "bgcolor": "white",
           "lakecolor": "white",
           "landcolor": "#E5ECF6",
           "showlakes": true,
           "showland": true,
           "subunitcolor": "white"
          },
          "hoverlabel": {
           "align": "left"
          },
          "hovermode": "closest",
          "mapbox": {
           "style": "light"
          },
          "paper_bgcolor": "white",
          "plot_bgcolor": "#E5ECF6",
          "polar": {
           "angularaxis": {
            "gridcolor": "white",
            "linecolor": "white",
            "ticks": ""
           },
           "bgcolor": "#E5ECF6",
           "radialaxis": {
            "gridcolor": "white",
            "linecolor": "white",
            "ticks": ""
           }
          },
          "scene": {
           "xaxis": {
            "backgroundcolor": "#E5ECF6",
            "gridcolor": "white",
            "gridwidth": 2,
            "linecolor": "white",
            "showbackground": true,
            "ticks": "",
            "zerolinecolor": "white"
           },
           "yaxis": {
            "backgroundcolor": "#E5ECF6",
            "gridcolor": "white",
            "gridwidth": 2,
            "linecolor": "white",
            "showbackground": true,
            "ticks": "",
            "zerolinecolor": "white"
           },
           "zaxis": {
            "backgroundcolor": "#E5ECF6",
            "gridcolor": "white",
            "gridwidth": 2,
            "linecolor": "white",
            "showbackground": true,
            "ticks": "",
            "zerolinecolor": "white"
           }
          },
          "shapedefaults": {
           "line": {
            "color": "#2a3f5f"
           }
          },
          "ternary": {
           "aaxis": {
            "gridcolor": "white",
            "linecolor": "white",
            "ticks": ""
           },
           "baxis": {
            "gridcolor": "white",
            "linecolor": "white",
            "ticks": ""
           },
           "bgcolor": "#E5ECF6",
           "caxis": {
            "gridcolor": "white",
            "linecolor": "white",
            "ticks": ""
           }
          },
          "title": {
           "x": 0.05
          },
          "xaxis": {
           "automargin": true,
           "gridcolor": "white",
           "linecolor": "white",
           "ticks": "",
           "title": {
            "standoff": 15
           },
           "zerolinecolor": "white",
           "zerolinewidth": 2
          },
          "yaxis": {
           "automargin": true,
           "gridcolor": "white",
           "linecolor": "white",
           "ticks": "",
           "title": {
            "standoff": 15
           },
           "zerolinecolor": "white",
           "zerolinewidth": 2
          }
         }
        },
        "width": 700,
        "xaxis": {
         "anchor": "y",
         "constrain": "domain",
         "domain": [
          0,
          1
         ],
         "scaleanchor": "y",
         "side": "top"
        },
        "yaxis": {
         "anchor": "x",
         "autorange": "reversed",
         "constrain": "domain",
         "domain": [
          0,
          1
         ]
        }
       }
      }
     },
     "metadata": {},
     "output_type": "display_data"
    }
   ],
   "source": [
    "chasings, ranking, ranking_ordinal, ranking_in_time, datetimes = deepecohab.calculate_chasings(cfp, df)\n",
    "\n"
   ]
  },
  {
   "cell_type": "code",
   "execution_count": 25,
   "metadata": {},
   "outputs": [
    {
     "data": {
      "text/html": [
       "<div>\n",
       "<style scoped>\n",
       "    .dataframe tbody tr th:only-of-type {\n",
       "        vertical-align: middle;\n",
       "    }\n",
       "\n",
       "    .dataframe tbody tr th {\n",
       "        vertical-align: top;\n",
       "    }\n",
       "\n",
       "    .dataframe thead th {\n",
       "        text-align: right;\n",
       "    }\n",
       "</style>\n",
       "<table border=\"1\" class=\"dataframe\">\n",
       "  <thead>\n",
       "    <tr style=\"text-align: right;\">\n",
       "      <th></th>\n",
       "      <th>A7E6E51A04</th>\n",
       "      <th>7786EC1A04</th>\n",
       "      <th>0813A01A04</th>\n",
       "      <th>EA01E61A04</th>\n",
       "      <th>EC61E61A04</th>\n",
       "      <th>2D5FE61A04</th>\n",
       "      <th>3008EC1A04</th>\n",
       "      <th>18D89F1A04</th>\n",
       "      <th>F4FEEB1A04</th>\n",
       "    </tr>\n",
       "  </thead>\n",
       "  <tbody>\n",
       "    <tr>\n",
       "      <th>A7E6E51A04</th>\n",
       "      <td>NaN</td>\n",
       "      <td>76.0</td>\n",
       "      <td>39.0</td>\n",
       "      <td>23.0</td>\n",
       "      <td>20.0</td>\n",
       "      <td>67.0</td>\n",
       "      <td>6.0</td>\n",
       "      <td>6.0</td>\n",
       "      <td>6.0</td>\n",
       "    </tr>\n",
       "    <tr>\n",
       "      <th>7786EC1A04</th>\n",
       "      <td>293.0</td>\n",
       "      <td>NaN</td>\n",
       "      <td>21.0</td>\n",
       "      <td>18.0</td>\n",
       "      <td>9.0</td>\n",
       "      <td>55.0</td>\n",
       "      <td>3.0</td>\n",
       "      <td>5.0</td>\n",
       "      <td>4.0</td>\n",
       "    </tr>\n",
       "    <tr>\n",
       "      <th>0813A01A04</th>\n",
       "      <td>215.0</td>\n",
       "      <td>300.0</td>\n",
       "      <td>NaN</td>\n",
       "      <td>21.0</td>\n",
       "      <td>23.0</td>\n",
       "      <td>21.0</td>\n",
       "      <td>12.0</td>\n",
       "      <td>13.0</td>\n",
       "      <td>9.0</td>\n",
       "    </tr>\n",
       "    <tr>\n",
       "      <th>EA01E61A04</th>\n",
       "      <td>161.0</td>\n",
       "      <td>141.0</td>\n",
       "      <td>29.0</td>\n",
       "      <td>NaN</td>\n",
       "      <td>24.0</td>\n",
       "      <td>11.0</td>\n",
       "      <td>8.0</td>\n",
       "      <td>16.0</td>\n",
       "      <td>11.0</td>\n",
       "    </tr>\n",
       "    <tr>\n",
       "      <th>EC61E61A04</th>\n",
       "      <td>50.0</td>\n",
       "      <td>30.0</td>\n",
       "      <td>11.0</td>\n",
       "      <td>9.0</td>\n",
       "      <td>NaN</td>\n",
       "      <td>20.0</td>\n",
       "      <td>1.0</td>\n",
       "      <td>29.0</td>\n",
       "      <td>28.0</td>\n",
       "    </tr>\n",
       "    <tr>\n",
       "      <th>2D5FE61A04</th>\n",
       "      <td>180.0</td>\n",
       "      <td>81.0</td>\n",
       "      <td>29.0</td>\n",
       "      <td>40.0</td>\n",
       "      <td>13.0</td>\n",
       "      <td>NaN</td>\n",
       "      <td>13.0</td>\n",
       "      <td>6.0</td>\n",
       "      <td>7.0</td>\n",
       "    </tr>\n",
       "    <tr>\n",
       "      <th>3008EC1A04</th>\n",
       "      <td>111.0</td>\n",
       "      <td>183.0</td>\n",
       "      <td>33.0</td>\n",
       "      <td>32.0</td>\n",
       "      <td>16.0</td>\n",
       "      <td>21.0</td>\n",
       "      <td>NaN</td>\n",
       "      <td>5.0</td>\n",
       "      <td>12.0</td>\n",
       "    </tr>\n",
       "    <tr>\n",
       "      <th>18D89F1A04</th>\n",
       "      <td>325.0</td>\n",
       "      <td>184.0</td>\n",
       "      <td>28.0</td>\n",
       "      <td>29.0</td>\n",
       "      <td>25.0</td>\n",
       "      <td>56.0</td>\n",
       "      <td>9.0</td>\n",
       "      <td>NaN</td>\n",
       "      <td>13.0</td>\n",
       "    </tr>\n",
       "    <tr>\n",
       "      <th>F4FEEB1A04</th>\n",
       "      <td>1480.0</td>\n",
       "      <td>419.0</td>\n",
       "      <td>33.0</td>\n",
       "      <td>25.0</td>\n",
       "      <td>9.0</td>\n",
       "      <td>139.0</td>\n",
       "      <td>16.0</td>\n",
       "      <td>14.0</td>\n",
       "      <td>NaN</td>\n",
       "    </tr>\n",
       "  </tbody>\n",
       "</table>\n",
       "</div>"
      ],
      "text/plain": [
       "            A7E6E51A04  7786EC1A04  0813A01A04  EA01E61A04  EC61E61A04  \\\n",
       "A7E6E51A04         NaN        76.0        39.0        23.0        20.0   \n",
       "7786EC1A04       293.0         NaN        21.0        18.0         9.0   \n",
       "0813A01A04       215.0       300.0         NaN        21.0        23.0   \n",
       "EA01E61A04       161.0       141.0        29.0         NaN        24.0   \n",
       "EC61E61A04        50.0        30.0        11.0         9.0         NaN   \n",
       "2D5FE61A04       180.0        81.0        29.0        40.0        13.0   \n",
       "3008EC1A04       111.0       183.0        33.0        32.0        16.0   \n",
       "18D89F1A04       325.0       184.0        28.0        29.0        25.0   \n",
       "F4FEEB1A04      1480.0       419.0        33.0        25.0         9.0   \n",
       "\n",
       "            2D5FE61A04  3008EC1A04  18D89F1A04  F4FEEB1A04  \n",
       "A7E6E51A04        67.0         6.0         6.0         6.0  \n",
       "7786EC1A04        55.0         3.0         5.0         4.0  \n",
       "0813A01A04        21.0        12.0        13.0         9.0  \n",
       "EA01E61A04        11.0         8.0        16.0        11.0  \n",
       "EC61E61A04        20.0         1.0        29.0        28.0  \n",
       "2D5FE61A04         NaN        13.0         6.0         7.0  \n",
       "3008EC1A04        21.0         NaN         5.0        12.0  \n",
       "18D89F1A04        56.0         9.0         NaN        13.0  \n",
       "F4FEEB1A04       139.0        16.0        14.0         NaN  "
      ]
     },
     "execution_count": 25,
     "metadata": {},
     "output_type": "execute_result"
    }
   ],
   "source": [
    "chasings"
   ]
  },
  {
   "cell_type": "code",
   "execution_count": 11,
   "metadata": {},
   "outputs": [
    {
     "data": {
      "text/plain": [
       "A7E6E51A04    38.706891\n",
       "7786EC1A04    30.232964\n",
       "0813A01A04    19.957224\n",
       "EA01E61A04    19.496093\n",
       "EC61E61A04    19.123927\n",
       "2D5FE61A04    18.982001\n",
       "3008EC1A04    11.411621\n",
       "18D89F1A04    11.307687\n",
       "F4FEEB1A04    10.052036\n",
       "Name: ordinal, dtype: float64"
      ]
     },
     "execution_count": 11,
     "metadata": {},
     "output_type": "execute_result"
    }
   ],
   "source": [
    "ranking_ordinal"
   ]
  },
  {
   "cell_type": "markdown",
   "metadata": {},
   "source": [
    "#### Plot"
   ]
  },
  {
   "cell_type": "code",
   "execution_count": 28,
   "metadata": {},
   "outputs": [
    {
     "data": {
      "application/vnd.plotly.v1+json": {
       "config": {
        "plotlyServerURL": "https://plot.ly"
       },
       "data": [
        {
         "hoverinfo": "none",
         "line": {
          "color": "#888",
          "width": 2930
         },
         "mode": "lines",
         "type": "scatter",
         "x": [
          -0.20186959144199393,
          0.012491688916527272,
          null
         ],
         "y": [
          0.048828897517240975,
          0.10728787904150422,
          null
         ]
        },
        {
         "hoverinfo": "none",
         "line": {
          "color": "#888",
          "width": 2150
         },
         "mode": "lines",
         "type": "scatter",
         "x": [
          -0.20186959144199393,
          0.417377825616461,
          null
         ],
         "y": [
          0.048828897517240975,
          0.20966329136943193,
          null
         ]
        },
        {
         "hoverinfo": "none",
         "line": {
          "color": "#888",
          "width": 1610
         },
         "mode": "lines",
         "type": "scatter",
         "x": [
          -0.20186959144199393,
          -0.57585503573862,
          null
         ],
         "y": [
          0.048828897517240975,
          -0.26943944878186527,
          null
         ]
        },
        {
         "hoverinfo": "none",
         "line": {
          "color": "#888",
          "width": 500
         },
         "mode": "lines",
         "type": "scatter",
         "x": [
          -0.20186959144199393,
          0.6494940386381299,
          null
         ],
         "y": [
          0.048828897517240975,
          -0.32866783715644743,
          null
         ]
        },
        {
         "hoverinfo": "none",
         "line": {
          "color": "#888",
          "width": 1800
         },
         "mode": "lines",
         "type": "scatter",
         "x": [
          -0.20186959144199393,
          -0.14320941934867062,
          null
         ],
         "y": [
          0.048828897517240975,
          -0.28563673357080893,
          null
         ]
        },
        {
         "hoverinfo": "none",
         "line": {
          "color": "#888",
          "width": 1110
         },
         "mode": "lines",
         "type": "scatter",
         "x": [
          -0.20186959144199393,
          0.1584686728271029,
          null
         ],
         "y": [
          0.048828897517240975,
          1,
          null
         ]
        },
        {
         "hoverinfo": "none",
         "line": {
          "color": "#888",
          "width": 3250
         },
         "mode": "lines",
         "type": "scatter",
         "x": [
          -0.20186959144199393,
          0.20999447927524548,
          null
         ],
         "y": [
          0.048828897517240975,
          -0.9401604851747105,
          null
         ]
        },
        {
         "hoverinfo": "none",
         "line": {
          "color": "#888",
          "width": 14800
         },
         "mode": "lines",
         "type": "scatter",
         "x": [
          -0.20186959144199393,
          -0.5268926587441843,
          null
         ],
         "y": [
          0.048828897517240975,
          0.4581244367556605,
          null
         ]
        },
        {
         "hoverinfo": "none",
         "line": {
          "color": "#888",
          "width": 760
         },
         "mode": "lines",
         "type": "scatter",
         "x": [
          0.012491688916527272,
          -0.20186959144199393,
          null
         ],
         "y": [
          0.10728787904150422,
          0.048828897517240975,
          null
         ]
        },
        {
         "hoverinfo": "none",
         "line": {
          "color": "#888",
          "width": 3000
         },
         "mode": "lines",
         "type": "scatter",
         "x": [
          0.012491688916527272,
          0.417377825616461,
          null
         ],
         "y": [
          0.10728787904150422,
          0.20966329136943193,
          null
         ]
        },
        {
         "hoverinfo": "none",
         "line": {
          "color": "#888",
          "width": 1410
         },
         "mode": "lines",
         "type": "scatter",
         "x": [
          0.012491688916527272,
          -0.57585503573862,
          null
         ],
         "y": [
          0.10728787904150422,
          -0.26943944878186527,
          null
         ]
        },
        {
         "hoverinfo": "none",
         "line": {
          "color": "#888",
          "width": 300
         },
         "mode": "lines",
         "type": "scatter",
         "x": [
          0.012491688916527272,
          0.6494940386381299,
          null
         ],
         "y": [
          0.10728787904150422,
          -0.32866783715644743,
          null
         ]
        },
        {
         "hoverinfo": "none",
         "line": {
          "color": "#888",
          "width": 810
         },
         "mode": "lines",
         "type": "scatter",
         "x": [
          0.012491688916527272,
          -0.14320941934867062,
          null
         ],
         "y": [
          0.10728787904150422,
          -0.28563673357080893,
          null
         ]
        },
        {
         "hoverinfo": "none",
         "line": {
          "color": "#888",
          "width": 1830
         },
         "mode": "lines",
         "type": "scatter",
         "x": [
          0.012491688916527272,
          0.1584686728271029,
          null
         ],
         "y": [
          0.10728787904150422,
          1,
          null
         ]
        },
        {
         "hoverinfo": "none",
         "line": {
          "color": "#888",
          "width": 1840
         },
         "mode": "lines",
         "type": "scatter",
         "x": [
          0.012491688916527272,
          0.20999447927524548,
          null
         ],
         "y": [
          0.10728787904150422,
          -0.9401604851747105,
          null
         ]
        },
        {
         "hoverinfo": "none",
         "line": {
          "color": "#888",
          "width": 4190
         },
         "mode": "lines",
         "type": "scatter",
         "x": [
          0.012491688916527272,
          -0.5268926587441843,
          null
         ],
         "y": [
          0.10728787904150422,
          0.4581244367556605,
          null
         ]
        },
        {
         "hoverinfo": "none",
         "line": {
          "color": "#888",
          "width": 390
         },
         "mode": "lines",
         "type": "scatter",
         "x": [
          0.417377825616461,
          -0.20186959144199393,
          null
         ],
         "y": [
          0.20966329136943193,
          0.048828897517240975,
          null
         ]
        },
        {
         "hoverinfo": "none",
         "line": {
          "color": "#888",
          "width": 210
         },
         "mode": "lines",
         "type": "scatter",
         "x": [
          0.417377825616461,
          0.012491688916527272,
          null
         ],
         "y": [
          0.20966329136943193,
          0.10728787904150422,
          null
         ]
        },
        {
         "hoverinfo": "none",
         "line": {
          "color": "#888",
          "width": 290
         },
         "mode": "lines",
         "type": "scatter",
         "x": [
          0.417377825616461,
          -0.57585503573862,
          null
         ],
         "y": [
          0.20966329136943193,
          -0.26943944878186527,
          null
         ]
        },
        {
         "hoverinfo": "none",
         "line": {
          "color": "#888",
          "width": 110
         },
         "mode": "lines",
         "type": "scatter",
         "x": [
          0.417377825616461,
          0.6494940386381299,
          null
         ],
         "y": [
          0.20966329136943193,
          -0.32866783715644743,
          null
         ]
        },
        {
         "hoverinfo": "none",
         "line": {
          "color": "#888",
          "width": 290
         },
         "mode": "lines",
         "type": "scatter",
         "x": [
          0.417377825616461,
          -0.14320941934867062,
          null
         ],
         "y": [
          0.20966329136943193,
          -0.28563673357080893,
          null
         ]
        },
        {
         "hoverinfo": "none",
         "line": {
          "color": "#888",
          "width": 330
         },
         "mode": "lines",
         "type": "scatter",
         "x": [
          0.417377825616461,
          0.1584686728271029,
          null
         ],
         "y": [
          0.20966329136943193,
          1,
          null
         ]
        },
        {
         "hoverinfo": "none",
         "line": {
          "color": "#888",
          "width": 280
         },
         "mode": "lines",
         "type": "scatter",
         "x": [
          0.417377825616461,
          0.20999447927524548,
          null
         ],
         "y": [
          0.20966329136943193,
          -0.9401604851747105,
          null
         ]
        },
        {
         "hoverinfo": "none",
         "line": {
          "color": "#888",
          "width": 330
         },
         "mode": "lines",
         "type": "scatter",
         "x": [
          0.417377825616461,
          -0.5268926587441843,
          null
         ],
         "y": [
          0.20966329136943193,
          0.4581244367556605,
          null
         ]
        },
        {
         "hoverinfo": "none",
         "line": {
          "color": "#888",
          "width": 230
         },
         "mode": "lines",
         "type": "scatter",
         "x": [
          -0.57585503573862,
          -0.20186959144199393,
          null
         ],
         "y": [
          -0.26943944878186527,
          0.048828897517240975,
          null
         ]
        },
        {
         "hoverinfo": "none",
         "line": {
          "color": "#888",
          "width": 180
         },
         "mode": "lines",
         "type": "scatter",
         "x": [
          -0.57585503573862,
          0.012491688916527272,
          null
         ],
         "y": [
          -0.26943944878186527,
          0.10728787904150422,
          null
         ]
        },
        {
         "hoverinfo": "none",
         "line": {
          "color": "#888",
          "width": 210
         },
         "mode": "lines",
         "type": "scatter",
         "x": [
          -0.57585503573862,
          0.417377825616461,
          null
         ],
         "y": [
          -0.26943944878186527,
          0.20966329136943193,
          null
         ]
        },
        {
         "hoverinfo": "none",
         "line": {
          "color": "#888",
          "width": 90
         },
         "mode": "lines",
         "type": "scatter",
         "x": [
          -0.57585503573862,
          0.6494940386381299,
          null
         ],
         "y": [
          -0.26943944878186527,
          -0.32866783715644743,
          null
         ]
        },
        {
         "hoverinfo": "none",
         "line": {
          "color": "#888",
          "width": 400
         },
         "mode": "lines",
         "type": "scatter",
         "x": [
          -0.57585503573862,
          -0.14320941934867062,
          null
         ],
         "y": [
          -0.26943944878186527,
          -0.28563673357080893,
          null
         ]
        },
        {
         "hoverinfo": "none",
         "line": {
          "color": "#888",
          "width": 320
         },
         "mode": "lines",
         "type": "scatter",
         "x": [
          -0.57585503573862,
          0.1584686728271029,
          null
         ],
         "y": [
          -0.26943944878186527,
          1,
          null
         ]
        },
        {
         "hoverinfo": "none",
         "line": {
          "color": "#888",
          "width": 290
         },
         "mode": "lines",
         "type": "scatter",
         "x": [
          -0.57585503573862,
          0.20999447927524548,
          null
         ],
         "y": [
          -0.26943944878186527,
          -0.9401604851747105,
          null
         ]
        },
        {
         "hoverinfo": "none",
         "line": {
          "color": "#888",
          "width": 250
         },
         "mode": "lines",
         "type": "scatter",
         "x": [
          -0.57585503573862,
          -0.5268926587441843,
          null
         ],
         "y": [
          -0.26943944878186527,
          0.4581244367556605,
          null
         ]
        },
        {
         "hoverinfo": "none",
         "line": {
          "color": "#888",
          "width": 200
         },
         "mode": "lines",
         "type": "scatter",
         "x": [
          0.6494940386381299,
          -0.20186959144199393,
          null
         ],
         "y": [
          -0.32866783715644743,
          0.048828897517240975,
          null
         ]
        },
        {
         "hoverinfo": "none",
         "line": {
          "color": "#888",
          "width": 90
         },
         "mode": "lines",
         "type": "scatter",
         "x": [
          0.6494940386381299,
          0.012491688916527272,
          null
         ],
         "y": [
          -0.32866783715644743,
          0.10728787904150422,
          null
         ]
        },
        {
         "hoverinfo": "none",
         "line": {
          "color": "#888",
          "width": 230
         },
         "mode": "lines",
         "type": "scatter",
         "x": [
          0.6494940386381299,
          0.417377825616461,
          null
         ],
         "y": [
          -0.32866783715644743,
          0.20966329136943193,
          null
         ]
        },
        {
         "hoverinfo": "none",
         "line": {
          "color": "#888",
          "width": 240
         },
         "mode": "lines",
         "type": "scatter",
         "x": [
          0.6494940386381299,
          -0.57585503573862,
          null
         ],
         "y": [
          -0.32866783715644743,
          -0.26943944878186527,
          null
         ]
        },
        {
         "hoverinfo": "none",
         "line": {
          "color": "#888",
          "width": 130
         },
         "mode": "lines",
         "type": "scatter",
         "x": [
          0.6494940386381299,
          -0.14320941934867062,
          null
         ],
         "y": [
          -0.32866783715644743,
          -0.28563673357080893,
          null
         ]
        },
        {
         "hoverinfo": "none",
         "line": {
          "color": "#888",
          "width": 160
         },
         "mode": "lines",
         "type": "scatter",
         "x": [
          0.6494940386381299,
          0.1584686728271029,
          null
         ],
         "y": [
          -0.32866783715644743,
          1,
          null
         ]
        },
        {
         "hoverinfo": "none",
         "line": {
          "color": "#888",
          "width": 250
         },
         "mode": "lines",
         "type": "scatter",
         "x": [
          0.6494940386381299,
          0.20999447927524548,
          null
         ],
         "y": [
          -0.32866783715644743,
          -0.9401604851747105,
          null
         ]
        },
        {
         "hoverinfo": "none",
         "line": {
          "color": "#888",
          "width": 90
         },
         "mode": "lines",
         "type": "scatter",
         "x": [
          0.6494940386381299,
          -0.5268926587441843,
          null
         ],
         "y": [
          -0.32866783715644743,
          0.4581244367556605,
          null
         ]
        },
        {
         "hoverinfo": "none",
         "line": {
          "color": "#888",
          "width": 670
         },
         "mode": "lines",
         "type": "scatter",
         "x": [
          -0.14320941934867062,
          -0.20186959144199393,
          null
         ],
         "y": [
          -0.28563673357080893,
          0.048828897517240975,
          null
         ]
        },
        {
         "hoverinfo": "none",
         "line": {
          "color": "#888",
          "width": 550
         },
         "mode": "lines",
         "type": "scatter",
         "x": [
          -0.14320941934867062,
          0.012491688916527272,
          null
         ],
         "y": [
          -0.28563673357080893,
          0.10728787904150422,
          null
         ]
        },
        {
         "hoverinfo": "none",
         "line": {
          "color": "#888",
          "width": 210
         },
         "mode": "lines",
         "type": "scatter",
         "x": [
          -0.14320941934867062,
          0.417377825616461,
          null
         ],
         "y": [
          -0.28563673357080893,
          0.20966329136943193,
          null
         ]
        },
        {
         "hoverinfo": "none",
         "line": {
          "color": "#888",
          "width": 110
         },
         "mode": "lines",
         "type": "scatter",
         "x": [
          -0.14320941934867062,
          -0.57585503573862,
          null
         ],
         "y": [
          -0.28563673357080893,
          -0.26943944878186527,
          null
         ]
        },
        {
         "hoverinfo": "none",
         "line": {
          "color": "#888",
          "width": 200
         },
         "mode": "lines",
         "type": "scatter",
         "x": [
          -0.14320941934867062,
          0.6494940386381299,
          null
         ],
         "y": [
          -0.28563673357080893,
          -0.32866783715644743,
          null
         ]
        },
        {
         "hoverinfo": "none",
         "line": {
          "color": "#888",
          "width": 210
         },
         "mode": "lines",
         "type": "scatter",
         "x": [
          -0.14320941934867062,
          0.1584686728271029,
          null
         ],
         "y": [
          -0.28563673357080893,
          1,
          null
         ]
        },
        {
         "hoverinfo": "none",
         "line": {
          "color": "#888",
          "width": 560
         },
         "mode": "lines",
         "type": "scatter",
         "x": [
          -0.14320941934867062,
          0.20999447927524548,
          null
         ],
         "y": [
          -0.28563673357080893,
          -0.9401604851747105,
          null
         ]
        },
        {
         "hoverinfo": "none",
         "line": {
          "color": "#888",
          "width": 1390
         },
         "mode": "lines",
         "type": "scatter",
         "x": [
          -0.14320941934867062,
          -0.5268926587441843,
          null
         ],
         "y": [
          -0.28563673357080893,
          0.4581244367556605,
          null
         ]
        },
        {
         "hoverinfo": "none",
         "line": {
          "color": "#888",
          "width": 60
         },
         "mode": "lines",
         "type": "scatter",
         "x": [
          0.1584686728271029,
          -0.20186959144199393,
          null
         ],
         "y": [
          1,
          0.048828897517240975,
          null
         ]
        },
        {
         "hoverinfo": "none",
         "line": {
          "color": "#888",
          "width": 30
         },
         "mode": "lines",
         "type": "scatter",
         "x": [
          0.1584686728271029,
          0.012491688916527272,
          null
         ],
         "y": [
          1,
          0.10728787904150422,
          null
         ]
        },
        {
         "hoverinfo": "none",
         "line": {
          "color": "#888",
          "width": 120
         },
         "mode": "lines",
         "type": "scatter",
         "x": [
          0.1584686728271029,
          0.417377825616461,
          null
         ],
         "y": [
          1,
          0.20966329136943193,
          null
         ]
        },
        {
         "hoverinfo": "none",
         "line": {
          "color": "#888",
          "width": 80
         },
         "mode": "lines",
         "type": "scatter",
         "x": [
          0.1584686728271029,
          -0.57585503573862,
          null
         ],
         "y": [
          1,
          -0.26943944878186527,
          null
         ]
        },
        {
         "hoverinfo": "none",
         "line": {
          "color": "#888",
          "width": 10
         },
         "mode": "lines",
         "type": "scatter",
         "x": [
          0.1584686728271029,
          0.6494940386381299,
          null
         ],
         "y": [
          1,
          -0.32866783715644743,
          null
         ]
        },
        {
         "hoverinfo": "none",
         "line": {
          "color": "#888",
          "width": 130
         },
         "mode": "lines",
         "type": "scatter",
         "x": [
          0.1584686728271029,
          -0.14320941934867062,
          null
         ],
         "y": [
          1,
          -0.28563673357080893,
          null
         ]
        },
        {
         "hoverinfo": "none",
         "line": {
          "color": "#888",
          "width": 90
         },
         "mode": "lines",
         "type": "scatter",
         "x": [
          0.1584686728271029,
          0.20999447927524548,
          null
         ],
         "y": [
          1,
          -0.9401604851747105,
          null
         ]
        },
        {
         "hoverinfo": "none",
         "line": {
          "color": "#888",
          "width": 160
         },
         "mode": "lines",
         "type": "scatter",
         "x": [
          0.1584686728271029,
          -0.5268926587441843,
          null
         ],
         "y": [
          1,
          0.4581244367556605,
          null
         ]
        },
        {
         "hoverinfo": "none",
         "line": {
          "color": "#888",
          "width": 60
         },
         "mode": "lines",
         "type": "scatter",
         "x": [
          0.20999447927524548,
          -0.20186959144199393,
          null
         ],
         "y": [
          -0.9401604851747105,
          0.048828897517240975,
          null
         ]
        },
        {
         "hoverinfo": "none",
         "line": {
          "color": "#888",
          "width": 50
         },
         "mode": "lines",
         "type": "scatter",
         "x": [
          0.20999447927524548,
          0.012491688916527272,
          null
         ],
         "y": [
          -0.9401604851747105,
          0.10728787904150422,
          null
         ]
        },
        {
         "hoverinfo": "none",
         "line": {
          "color": "#888",
          "width": 130
         },
         "mode": "lines",
         "type": "scatter",
         "x": [
          0.20999447927524548,
          0.417377825616461,
          null
         ],
         "y": [
          -0.9401604851747105,
          0.20966329136943193,
          null
         ]
        },
        {
         "hoverinfo": "none",
         "line": {
          "color": "#888",
          "width": 160
         },
         "mode": "lines",
         "type": "scatter",
         "x": [
          0.20999447927524548,
          -0.57585503573862,
          null
         ],
         "y": [
          -0.9401604851747105,
          -0.26943944878186527,
          null
         ]
        },
        {
         "hoverinfo": "none",
         "line": {
          "color": "#888",
          "width": 290
         },
         "mode": "lines",
         "type": "scatter",
         "x": [
          0.20999447927524548,
          0.6494940386381299,
          null
         ],
         "y": [
          -0.9401604851747105,
          -0.32866783715644743,
          null
         ]
        },
        {
         "hoverinfo": "none",
         "line": {
          "color": "#888",
          "width": 60
         },
         "mode": "lines",
         "type": "scatter",
         "x": [
          0.20999447927524548,
          -0.14320941934867062,
          null
         ],
         "y": [
          -0.9401604851747105,
          -0.28563673357080893,
          null
         ]
        },
        {
         "hoverinfo": "none",
         "line": {
          "color": "#888",
          "width": 50
         },
         "mode": "lines",
         "type": "scatter",
         "x": [
          0.20999447927524548,
          0.1584686728271029,
          null
         ],
         "y": [
          -0.9401604851747105,
          1,
          null
         ]
        },
        {
         "hoverinfo": "none",
         "line": {
          "color": "#888",
          "width": 140
         },
         "mode": "lines",
         "type": "scatter",
         "x": [
          0.20999447927524548,
          -0.5268926587441843,
          null
         ],
         "y": [
          -0.9401604851747105,
          0.4581244367556605,
          null
         ]
        },
        {
         "hoverinfo": "none",
         "line": {
          "color": "#888",
          "width": 60
         },
         "mode": "lines",
         "type": "scatter",
         "x": [
          -0.5268926587441843,
          -0.20186959144199393,
          null
         ],
         "y": [
          0.4581244367556605,
          0.048828897517240975,
          null
         ]
        },
        {
         "hoverinfo": "none",
         "line": {
          "color": "#888",
          "width": 40
         },
         "mode": "lines",
         "type": "scatter",
         "x": [
          -0.5268926587441843,
          0.012491688916527272,
          null
         ],
         "y": [
          0.4581244367556605,
          0.10728787904150422,
          null
         ]
        },
        {
         "hoverinfo": "none",
         "line": {
          "color": "#888",
          "width": 90
         },
         "mode": "lines",
         "type": "scatter",
         "x": [
          -0.5268926587441843,
          0.417377825616461,
          null
         ],
         "y": [
          0.4581244367556605,
          0.20966329136943193,
          null
         ]
        },
        {
         "hoverinfo": "none",
         "line": {
          "color": "#888",
          "width": 110
         },
         "mode": "lines",
         "type": "scatter",
         "x": [
          -0.5268926587441843,
          -0.57585503573862,
          null
         ],
         "y": [
          0.4581244367556605,
          -0.26943944878186527,
          null
         ]
        },
        {
         "hoverinfo": "none",
         "line": {
          "color": "#888",
          "width": 280
         },
         "mode": "lines",
         "type": "scatter",
         "x": [
          -0.5268926587441843,
          0.6494940386381299,
          null
         ],
         "y": [
          0.4581244367556605,
          -0.32866783715644743,
          null
         ]
        },
        {
         "hoverinfo": "none",
         "line": {
          "color": "#888",
          "width": 70
         },
         "mode": "lines",
         "type": "scatter",
         "x": [
          -0.5268926587441843,
          -0.14320941934867062,
          null
         ],
         "y": [
          0.4581244367556605,
          -0.28563673357080893,
          null
         ]
        },
        {
         "hoverinfo": "none",
         "line": {
          "color": "#888",
          "width": 120
         },
         "mode": "lines",
         "type": "scatter",
         "x": [
          -0.5268926587441843,
          0.1584686728271029,
          null
         ],
         "y": [
          0.4581244367556605,
          1,
          null
         ]
        },
        {
         "hoverinfo": "none",
         "line": {
          "color": "#888",
          "width": 130
         },
         "mode": "lines",
         "type": "scatter",
         "x": [
          -0.5268926587441843,
          0.20999447927524548,
          null
         ],
         "y": [
          0.4581244367556605,
          -0.9401604851747105,
          null
         ]
        },
        {
         "hoverinfo": "text",
         "marker": {
          "color": [
           38.70689106371291,
           30.232963861897616,
           19.95722449582174,
           19.496093047865948,
           19.123927029452034,
           18.98200125023425,
           11.411621088036108,
           11.30768682631437,
           10.052035666158645
          ],
          "colorbar": {
           "thickness": 15,
           "title": {
            "side": "right",
            "text": "Stopień wierzchołka"
           },
           "xanchor": "left"
          },
          "colorscale": [
           [
            0,
            "rgb(255,255,217)"
           ],
           [
            0.125,
            "rgb(237,248,177)"
           ],
           [
            0.25,
            "rgb(199,233,180)"
           ],
           [
            0.375,
            "rgb(127,205,187)"
           ],
           [
            0.5,
            "rgb(65,182,196)"
           ],
           [
            0.625,
            "rgb(29,145,192)"
           ],
           [
            0.75,
            "rgb(34,94,168)"
           ],
           [
            0.875,
            "rgb(37,52,148)"
           ],
           [
            1,
            "rgb(8,29,88)"
           ]
          ],
          "showscale": true,
          "size": [
           38.70689106371291,
           30.232963861897616,
           19.95722449582174,
           19.496093047865948,
           19.123927029452034,
           18.98200125023425,
           11.411621088036108,
           11.30768682631437,
           10.052035666158645
          ]
         },
         "mode": "markers+text",
         "text": [
          "Node A7E6E51A04",
          "Node 7786EC1A04",
          "Node 0813A01A04",
          "Node EA01E61A04",
          "Node EC61E61A04",
          "Node 2D5FE61A04",
          "Node 3008EC1A04",
          "Node 18D89F1A04",
          "Node F4FEEB1A04"
         ],
         "type": "scatter",
         "x": [
          -0.20186959144199393,
          0.012491688916527272,
          0.417377825616461,
          -0.57585503573862,
          0.6494940386381299,
          -0.14320941934867062,
          0.1584686728271029,
          0.20999447927524548,
          -0.5268926587441843
         ],
         "y": [
          0.048828897517240975,
          0.10728787904150422,
          0.20966329136943193,
          -0.26943944878186527,
          -0.32866783715644743,
          -0.28563673357080893,
          1,
          -0.9401604851747105,
          0.4581244367556605
         ]
        }
       ],
       "layout": {
        "height": 600,
        "hovermode": "closest",
        "margin": {
         "b": 0,
         "l": 0,
         "r": 0,
         "t": 40
        },
        "showlegend": false,
        "template": {
         "data": {
          "bar": [
           {
            "error_x": {
             "color": "#2a3f5f"
            },
            "error_y": {
             "color": "#2a3f5f"
            },
            "marker": {
             "line": {
              "color": "#E5ECF6",
              "width": 0.5
             },
             "pattern": {
              "fillmode": "overlay",
              "size": 10,
              "solidity": 0.2
             }
            },
            "type": "bar"
           }
          ],
          "barpolar": [
           {
            "marker": {
             "line": {
              "color": "#E5ECF6",
              "width": 0.5
             },
             "pattern": {
              "fillmode": "overlay",
              "size": 10,
              "solidity": 0.2
             }
            },
            "type": "barpolar"
           }
          ],
          "carpet": [
           {
            "aaxis": {
             "endlinecolor": "#2a3f5f",
             "gridcolor": "white",
             "linecolor": "white",
             "minorgridcolor": "white",
             "startlinecolor": "#2a3f5f"
            },
            "baxis": {
             "endlinecolor": "#2a3f5f",
             "gridcolor": "white",
             "linecolor": "white",
             "minorgridcolor": "white",
             "startlinecolor": "#2a3f5f"
            },
            "type": "carpet"
           }
          ],
          "choropleth": [
           {
            "colorbar": {
             "outlinewidth": 0,
             "ticks": ""
            },
            "type": "choropleth"
           }
          ],
          "contour": [
           {
            "colorbar": {
             "outlinewidth": 0,
             "ticks": ""
            },
            "colorscale": [
             [
              0,
              "#0d0887"
             ],
             [
              0.1111111111111111,
              "#46039f"
             ],
             [
              0.2222222222222222,
              "#7201a8"
             ],
             [
              0.3333333333333333,
              "#9c179e"
             ],
             [
              0.4444444444444444,
              "#bd3786"
             ],
             [
              0.5555555555555556,
              "#d8576b"
             ],
             [
              0.6666666666666666,
              "#ed7953"
             ],
             [
              0.7777777777777778,
              "#fb9f3a"
             ],
             [
              0.8888888888888888,
              "#fdca26"
             ],
             [
              1,
              "#f0f921"
             ]
            ],
            "type": "contour"
           }
          ],
          "contourcarpet": [
           {
            "colorbar": {
             "outlinewidth": 0,
             "ticks": ""
            },
            "type": "contourcarpet"
           }
          ],
          "heatmap": [
           {
            "colorbar": {
             "outlinewidth": 0,
             "ticks": ""
            },
            "colorscale": [
             [
              0,
              "#0d0887"
             ],
             [
              0.1111111111111111,
              "#46039f"
             ],
             [
              0.2222222222222222,
              "#7201a8"
             ],
             [
              0.3333333333333333,
              "#9c179e"
             ],
             [
              0.4444444444444444,
              "#bd3786"
             ],
             [
              0.5555555555555556,
              "#d8576b"
             ],
             [
              0.6666666666666666,
              "#ed7953"
             ],
             [
              0.7777777777777778,
              "#fb9f3a"
             ],
             [
              0.8888888888888888,
              "#fdca26"
             ],
             [
              1,
              "#f0f921"
             ]
            ],
            "type": "heatmap"
           }
          ],
          "heatmapgl": [
           {
            "colorbar": {
             "outlinewidth": 0,
             "ticks": ""
            },
            "colorscale": [
             [
              0,
              "#0d0887"
             ],
             [
              0.1111111111111111,
              "#46039f"
             ],
             [
              0.2222222222222222,
              "#7201a8"
             ],
             [
              0.3333333333333333,
              "#9c179e"
             ],
             [
              0.4444444444444444,
              "#bd3786"
             ],
             [
              0.5555555555555556,
              "#d8576b"
             ],
             [
              0.6666666666666666,
              "#ed7953"
             ],
             [
              0.7777777777777778,
              "#fb9f3a"
             ],
             [
              0.8888888888888888,
              "#fdca26"
             ],
             [
              1,
              "#f0f921"
             ]
            ],
            "type": "heatmapgl"
           }
          ],
          "histogram": [
           {
            "marker": {
             "pattern": {
              "fillmode": "overlay",
              "size": 10,
              "solidity": 0.2
             }
            },
            "type": "histogram"
           }
          ],
          "histogram2d": [
           {
            "colorbar": {
             "outlinewidth": 0,
             "ticks": ""
            },
            "colorscale": [
             [
              0,
              "#0d0887"
             ],
             [
              0.1111111111111111,
              "#46039f"
             ],
             [
              0.2222222222222222,
              "#7201a8"
             ],
             [
              0.3333333333333333,
              "#9c179e"
             ],
             [
              0.4444444444444444,
              "#bd3786"
             ],
             [
              0.5555555555555556,
              "#d8576b"
             ],
             [
              0.6666666666666666,
              "#ed7953"
             ],
             [
              0.7777777777777778,
              "#fb9f3a"
             ],
             [
              0.8888888888888888,
              "#fdca26"
             ],
             [
              1,
              "#f0f921"
             ]
            ],
            "type": "histogram2d"
           }
          ],
          "histogram2dcontour": [
           {
            "colorbar": {
             "outlinewidth": 0,
             "ticks": ""
            },
            "colorscale": [
             [
              0,
              "#0d0887"
             ],
             [
              0.1111111111111111,
              "#46039f"
             ],
             [
              0.2222222222222222,
              "#7201a8"
             ],
             [
              0.3333333333333333,
              "#9c179e"
             ],
             [
              0.4444444444444444,
              "#bd3786"
             ],
             [
              0.5555555555555556,
              "#d8576b"
             ],
             [
              0.6666666666666666,
              "#ed7953"
             ],
             [
              0.7777777777777778,
              "#fb9f3a"
             ],
             [
              0.8888888888888888,
              "#fdca26"
             ],
             [
              1,
              "#f0f921"
             ]
            ],
            "type": "histogram2dcontour"
           }
          ],
          "mesh3d": [
           {
            "colorbar": {
             "outlinewidth": 0,
             "ticks": ""
            },
            "type": "mesh3d"
           }
          ],
          "parcoords": [
           {
            "line": {
             "colorbar": {
              "outlinewidth": 0,
              "ticks": ""
             }
            },
            "type": "parcoords"
           }
          ],
          "pie": [
           {
            "automargin": true,
            "type": "pie"
           }
          ],
          "scatter": [
           {
            "fillpattern": {
             "fillmode": "overlay",
             "size": 10,
             "solidity": 0.2
            },
            "type": "scatter"
           }
          ],
          "scatter3d": [
           {
            "line": {
             "colorbar": {
              "outlinewidth": 0,
              "ticks": ""
             }
            },
            "marker": {
             "colorbar": {
              "outlinewidth": 0,
              "ticks": ""
             }
            },
            "type": "scatter3d"
           }
          ],
          "scattercarpet": [
           {
            "marker": {
             "colorbar": {
              "outlinewidth": 0,
              "ticks": ""
             }
            },
            "type": "scattercarpet"
           }
          ],
          "scattergeo": [
           {
            "marker": {
             "colorbar": {
              "outlinewidth": 0,
              "ticks": ""
             }
            },
            "type": "scattergeo"
           }
          ],
          "scattergl": [
           {
            "marker": {
             "colorbar": {
              "outlinewidth": 0,
              "ticks": ""
             }
            },
            "type": "scattergl"
           }
          ],
          "scattermapbox": [
           {
            "marker": {
             "colorbar": {
              "outlinewidth": 0,
              "ticks": ""
             }
            },
            "type": "scattermapbox"
           }
          ],
          "scatterpolar": [
           {
            "marker": {
             "colorbar": {
              "outlinewidth": 0,
              "ticks": ""
             }
            },
            "type": "scatterpolar"
           }
          ],
          "scatterpolargl": [
           {
            "marker": {
             "colorbar": {
              "outlinewidth": 0,
              "ticks": ""
             }
            },
            "type": "scatterpolargl"
           }
          ],
          "scatterternary": [
           {
            "marker": {
             "colorbar": {
              "outlinewidth": 0,
              "ticks": ""
             }
            },
            "type": "scatterternary"
           }
          ],
          "surface": [
           {
            "colorbar": {
             "outlinewidth": 0,
             "ticks": ""
            },
            "colorscale": [
             [
              0,
              "#0d0887"
             ],
             [
              0.1111111111111111,
              "#46039f"
             ],
             [
              0.2222222222222222,
              "#7201a8"
             ],
             [
              0.3333333333333333,
              "#9c179e"
             ],
             [
              0.4444444444444444,
              "#bd3786"
             ],
             [
              0.5555555555555556,
              "#d8576b"
             ],
             [
              0.6666666666666666,
              "#ed7953"
             ],
             [
              0.7777777777777778,
              "#fb9f3a"
             ],
             [
              0.8888888888888888,
              "#fdca26"
             ],
             [
              1,
              "#f0f921"
             ]
            ],
            "type": "surface"
           }
          ],
          "table": [
           {
            "cells": {
             "fill": {
              "color": "#EBF0F8"
             },
             "line": {
              "color": "white"
             }
            },
            "header": {
             "fill": {
              "color": "#C8D4E3"
             },
             "line": {
              "color": "white"
             }
            },
            "type": "table"
           }
          ]
         },
         "layout": {
          "annotationdefaults": {
           "arrowcolor": "#2a3f5f",
           "arrowhead": 0,
           "arrowwidth": 1
          },
          "autotypenumbers": "strict",
          "coloraxis": {
           "colorbar": {
            "outlinewidth": 0,
            "ticks": ""
           }
          },
          "colorscale": {
           "diverging": [
            [
             0,
             "#8e0152"
            ],
            [
             0.1,
             "#c51b7d"
            ],
            [
             0.2,
             "#de77ae"
            ],
            [
             0.3,
             "#f1b6da"
            ],
            [
             0.4,
             "#fde0ef"
            ],
            [
             0.5,
             "#f7f7f7"
            ],
            [
             0.6,
             "#e6f5d0"
            ],
            [
             0.7,
             "#b8e186"
            ],
            [
             0.8,
             "#7fbc41"
            ],
            [
             0.9,
             "#4d9221"
            ],
            [
             1,
             "#276419"
            ]
           ],
           "sequential": [
            [
             0,
             "#0d0887"
            ],
            [
             0.1111111111111111,
             "#46039f"
            ],
            [
             0.2222222222222222,
             "#7201a8"
            ],
            [
             0.3333333333333333,
             "#9c179e"
            ],
            [
             0.4444444444444444,
             "#bd3786"
            ],
            [
             0.5555555555555556,
             "#d8576b"
            ],
            [
             0.6666666666666666,
             "#ed7953"
            ],
            [
             0.7777777777777778,
             "#fb9f3a"
            ],
            [
             0.8888888888888888,
             "#fdca26"
            ],
            [
             1,
             "#f0f921"
            ]
           ],
           "sequentialminus": [
            [
             0,
             "#0d0887"
            ],
            [
             0.1111111111111111,
             "#46039f"
            ],
            [
             0.2222222222222222,
             "#7201a8"
            ],
            [
             0.3333333333333333,
             "#9c179e"
            ],
            [
             0.4444444444444444,
             "#bd3786"
            ],
            [
             0.5555555555555556,
             "#d8576b"
            ],
            [
             0.6666666666666666,
             "#ed7953"
            ],
            [
             0.7777777777777778,
             "#fb9f3a"
            ],
            [
             0.8888888888888888,
             "#fdca26"
            ],
            [
             1,
             "#f0f921"
            ]
           ]
          },
          "colorway": [
           "#636efa",
           "#EF553B",
           "#00cc96",
           "#ab63fa",
           "#FFA15A",
           "#19d3f3",
           "#FF6692",
           "#B6E880",
           "#FF97FF",
           "#FECB52"
          ],
          "font": {
           "color": "#2a3f5f"
          },
          "geo": {
           "bgcolor": "white",
           "lakecolor": "white",
           "landcolor": "#E5ECF6",
           "showlakes": true,
           "showland": true,
           "subunitcolor": "white"
          },
          "hoverlabel": {
           "align": "left"
          },
          "hovermode": "closest",
          "mapbox": {
           "style": "light"
          },
          "paper_bgcolor": "white",
          "plot_bgcolor": "#E5ECF6",
          "polar": {
           "angularaxis": {
            "gridcolor": "white",
            "linecolor": "white",
            "ticks": ""
           },
           "bgcolor": "#E5ECF6",
           "radialaxis": {
            "gridcolor": "white",
            "linecolor": "white",
            "ticks": ""
           }
          },
          "scene": {
           "xaxis": {
            "backgroundcolor": "#E5ECF6",
            "gridcolor": "white",
            "gridwidth": 2,
            "linecolor": "white",
            "showbackground": true,
            "ticks": "",
            "zerolinecolor": "white"
           },
           "yaxis": {
            "backgroundcolor": "#E5ECF6",
            "gridcolor": "white",
            "gridwidth": 2,
            "linecolor": "white",
            "showbackground": true,
            "ticks": "",
            "zerolinecolor": "white"
           },
           "zaxis": {
            "backgroundcolor": "#E5ECF6",
            "gridcolor": "white",
            "gridwidth": 2,
            "linecolor": "white",
            "showbackground": true,
            "ticks": "",
            "zerolinecolor": "white"
           }
          },
          "shapedefaults": {
           "line": {
            "color": "#2a3f5f"
           }
          },
          "ternary": {
           "aaxis": {
            "gridcolor": "white",
            "linecolor": "white",
            "ticks": ""
           },
           "baxis": {
            "gridcolor": "white",
            "linecolor": "white",
            "ticks": ""
           },
           "bgcolor": "#E5ECF6",
           "caxis": {
            "gridcolor": "white",
            "linecolor": "white",
            "ticks": ""
           }
          },
          "title": {
           "x": 0.05
          },
          "xaxis": {
           "automargin": true,
           "gridcolor": "white",
           "linecolor": "white",
           "ticks": "",
           "title": {
            "standoff": 15
           },
           "zerolinecolor": "white",
           "zerolinewidth": 2
          },
          "yaxis": {
           "automargin": true,
           "gridcolor": "white",
           "linecolor": "white",
           "ticks": "",
           "title": {
            "standoff": 15
           },
           "zerolinecolor": "white",
           "zerolinewidth": 2
          }
         }
        },
        "title": {
         "text": "Wizualizacja grafu z metadanymi"
        },
        "width": 800,
        "xaxis": {
         "showgrid": false,
         "showticklabels": false,
         "zeroline": false
        },
        "yaxis": {
         "showgrid": false,
         "showticklabels": false,
         "zeroline": false
        }
       }
      }
     },
     "metadata": {},
     "output_type": "display_data"
    }
   ],
   "source": [
    "graph = deepecohab.plot_network_graph(\n",
    "    cfp, chasings, ranking_ordinal, node_size_multiplier=1, edge_width_multiplier=1, title=\"Social network\", cmap=\"viridis_r\")\n",
    "\n",
    "\n",
    "# ranking_time = deepecohab.plot_ranking_in_time(cfp, ranking_in_time)\n",
    "# eval_plot = deepecohab.social_dominance_evaluation(cfp, chasings, ranking_ordinal)\n",
    "# final_ranking = deepecohab.weigh_ranking(cfp, graph, ranking_ordinal, chasings)"
   ]
  },
  {
   "cell_type": "code",
   "execution_count": null,
   "metadata": {},
   "outputs": [],
   "source": []
  }
 ],
 "metadata": {
  "kernelspec": {
   "display_name": "deepecohab",
   "language": "python",
   "name": "python3"
  },
  "language_info": {
   "codemirror_mode": {
    "name": "ipython",
    "version": 3
   },
   "file_extension": ".py",
   "mimetype": "text/x-python",
   "name": "python",
   "nbconvert_exporter": "python",
   "pygments_lexer": "ipython3",
   "version": "3.10.16"
  }
 },
 "nbformat": 4,
 "nbformat_minor": 2
}
