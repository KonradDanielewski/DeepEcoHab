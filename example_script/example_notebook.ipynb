{
 "cells": [
  {
   "cell_type": "code",
   "execution_count": null,
   "metadata": {},
   "outputs": [],
   "source": [
    "project_path = '.../project' # path to the project, folder containtg the repocode"
   ]
  },
  {
   "cell_type": "code",
   "execution_count": null,
   "metadata": {},
   "outputs": [],
   "source": [
    "pwd # print working directory"
   ]
  },
  {
   "cell_type": "markdown",
   "metadata": {},
   "source": [
    "#### Make project"
   ]
  },
  {
   "cell_type": "code",
   "execution_count": 6,
   "metadata": {},
   "outputs": [],
   "source": [
    "import deepecohab"
   ]
  },
  {
   "cell_type": "code",
   "execution_count": null,
   "metadata": {},
   "outputs": [],
   "source": [
    "cfp = deepecohab.create_ecohab_project(\n",
    "    project_location=r\"C:\\Users\\kdani\\Desktop\\Results_14_08_2023\", # Location where the project will be created\n",
    "    experiment_name=\"test_name\",  # Name of the project\n",
    "    data_path=r\"C:\\Users\\kdani\\Desktop\\Results_14_08_2023\", # Folder with ecohab txt files\n",
    "    start_datetime=\"2023-08-14 11:00:00\",\n",
    "    finish_datetime=\"2023-09-03 14:00:00\",\n",
    "    light_phase_start=\"00:00:00\",\n",
    "    dark_phase_start=\"12:00:00\",\n",
    "    )"
   ]
  },
  {
   "cell_type": "markdown",
   "metadata": {},
   "source": [
    "#### Make structure"
   ]
  },
  {
   "cell_type": "code",
   "execution_count": null,
   "metadata": {},
   "outputs": [],
   "source": [
    "df = deepecohab.get_ecohab_data_structure(cfp, overwrite=False, save_as_csv=True)"
   ]
  },
  {
   "cell_type": "markdown",
   "metadata": {},
   "source": [
    "#### Chasings"
   ]
  },
  {
   "cell_type": "code",
   "execution_count": null,
   "metadata": {},
   "outputs": [],
   "source": [
    "chasings, ranking, ranking_ordinal, ranking_in_time, datetimes = deepecohab.calculate_chasings(cfp, df)"
   ]
  },
  {
   "cell_type": "markdown",
   "metadata": {},
   "source": [
    "#### Plot"
   ]
  },
  {
   "cell_type": "code",
   "execution_count": null,
   "metadata": {},
   "outputs": [],
   "source": [
    "graph = deepecohab.plot_network_graph(cfp, chasings, ranking_ordinal, node_size_multiplier=30, edge_width_multiplier=10, title=\"Social network\", cmap=\"viridis_r\")\n",
    "ranking_time = deepecohab.plot_ranking_in_time(cfp, ranking_in_time)\n",
    "eval_plot = deepecohab.social_dominance_evaluation(cfp, chasings, ranking_ordinal)\n",
    "final_ranking = deepecohab.weigh_ranking(cfp, graph, ranking_ordinal, chasings, save_plot=True)"
   ]
  },
  {
   "cell_type": "code",
   "execution_count": null,
   "metadata": {},
   "outputs": [],
   "source": []
  }
 ],
 "metadata": {
  "kernelspec": {
   "display_name": "deepecohab",
   "language": "python",
   "name": "python3"
  },
  "language_info": {
   "codemirror_mode": {
    "name": "ipython",
    "version": 3
   },
   "file_extension": ".py",
   "mimetype": "text/x-python",
   "name": "python",
   "nbconvert_exporter": "python",
   "pygments_lexer": "ipython3",
   "version": "3.10.16"
  }
 },
 "nbformat": 4,
 "nbformat_minor": 2
}
