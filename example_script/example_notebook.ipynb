{
 "cells": [
  {
   "cell_type": "code",
   "execution_count": null,
   "metadata": {},
   "outputs": [],
   "source": [
    "import deepecohab"
   ]
  },
  {
   "cell_type": "markdown",
   "metadata": {},
   "source": [
    "#### Make project"
   ]
  },
  {
   "cell_type": "code",
   "execution_count": null,
   "metadata": {},
   "outputs": [],
   "source": [
    "cfp = deepecohab.create_ecohab_project(\n",
    "    project_location=r\"where/to/make/project\", # Location where the project will be created\n",
    "    experiment_name=\"what_name\",  # Name of the project\n",
    "    data_path=r\"where/the/data\", # Folder with ecohab txt files\n",
    "    start_datetime=\"2023-06-25 12:00:00\",\n",
    "    finish_datetime=\"2023-07-07 13:00:00\",\n",
    "    light_phase_start=\"00:00:00\",\n",
    "    dark_phase_start=\"12:00:00\",\n",
    "    )"
   ]
  },
  {
   "cell_type": "markdown",
   "metadata": {},
   "source": [
    "#### Make structure"
   ]
  },
  {
   "cell_type": "code",
   "execution_count": null,
   "metadata": {},
   "outputs": [],
   "source": [
    "df = deepecohab.get_ecohab_data_structure(cfp, overwrite=False, save_as_csv=True)"
   ]
  },
  {
   "cell_type": "markdown",
   "metadata": {},
   "source": [
    "#### Chasings"
   ]
  },
  {
   "cell_type": "code",
   "execution_count": null,
   "metadata": {},
   "outputs": [],
   "source": [
    "chasings, ranking, ranking_in_time, datetimes = deepecohab.calculate_chasings(cfp, df)"
   ]
  },
  {
   "cell_type": "markdown",
   "metadata": {},
   "source": [
    "#### Plot"
   ]
  },
  {
   "cell_type": "code",
   "execution_count": null,
   "metadata": {},
   "outputs": [],
   "source": [
    "graph = plot_network_graph(cfp, chasings, ranking, node_size_multiplier=30, edge_width_multiplier=10, title=\"Social network\", cmap=\"viridis_r\")\n",
    "plot_ranking_in_time(cfp, ranking_in_time)\n",
    "social_dominance_evaluation(cfp, chasings, ranking)\n",
    "final_ranking = weigh_ranking(cfp, graph, ranking, chasings, save_plot=True)"
   ]
  }
 ],
 "metadata": {
  "kernelspec": {
   "display_name": "SEBA",
   "language": "python",
   "name": "python3"
  },
  "language_info": {
   "codemirror_mode": {
    "name": "ipython",
    "version": 3
   },
   "file_extension": ".py",
   "mimetype": "text/x-python",
   "name": "python",
   "nbconvert_exporter": "python",
   "pygments_lexer": "ipython3",
   "version": "3.11.7"
  }
 },
 "nbformat": 4,
 "nbformat_minor": 2
}
