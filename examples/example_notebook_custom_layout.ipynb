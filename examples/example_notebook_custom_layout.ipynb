{
 "cells": [
  {
   "cell_type": "code",
   "execution_count": null,
   "metadata": {},
   "outputs": [],
   "source": [
    "from pathlib import Path\n",
    "\n",
    "import deepecohab\n",
    "import toml"
   ]
  },
  {
   "cell_type": "markdown",
   "metadata": {},
   "source": [
    "#### Make project\n",
    "\n",
    "When using custom layout we need to provide a dictionary that will rename the antennas so that no antenna number is repeated in the data. Then, after we created the project, we specify correct antenna pairs and positions. \n",
    "\n",
    "<span style=\"color:yellow\"><b>!!!IMPORTANT!!!</b></span>\n",
    "\n",
    "Keep in mind that in the traditional layout we interpolate animal position. \n",
    "\n",
    "It means that when one antenna on the trajectory is missing we assign the position to be the cage that is on the way. So if the pair of antennas is `1` - `3` and antenna `2` is missing, we assign it to position `\"cage_2\"`. \n",
    "\n",
    "This allows for better approximation of time spent in cages, as in general time spent in tunnels is relatively short in each visit."
   ]
  },
  {
   "cell_type": "code",
   "execution_count": null,
   "metadata": {},
   "outputs": [],
   "source": [
    "rename_dict = {\n",
    "    'COM4':\n",
    "        {\n",
    "            '3':9,\n",
    "            '4':10,\n",
    "            '5':1,\n",
    "            '6':2,\n",
    "            '7':3,\n",
    "            '8':4,\n",
    "        },\n",
    "    'COM5':\n",
    "        {\n",
    "            '3':11,\n",
    "            '4':12,\n",
    "            '5':5,\n",
    "            '6':6,\n",
    "            '7':7,\n",
    "            '8':8,\n",
    "        },\n",
    "}\n",
    "\n",
    "example_dir = Path.cwd()"
   ]
  },
  {
   "cell_type": "code",
   "execution_count": null,
   "metadata": {},
   "outputs": [],
   "source": [
    "config_path = deepecohab.create_ecohab_project(\n",
    "    project_location=example_dir, # Location where the project will be created\n",
    "    experiment_name='test_custom_name2',  # Name of the project\n",
    "    data_path=example_dir / 'test_data_custom', # Folder with ecohab txt files\n",
    "    start_datetime='2024-07-02 14:00:00', #Time from which the data should be taken (we ommit the first file before first dark phase start) YYYY-MM-DD HH:MM:SS\n",
    "    finish_datetime='2024-07-10 05:00:00',\n",
    "    light_phase_start='00:00:00',\n",
    "    dark_phase_start='12:00:00',\n",
    "    custom_layout=True,\n",
    "    antenna_rename_scheme=rename_dict,\n",
    "    )"
   ]
  },
  {
   "cell_type": "markdown",
   "metadata": {},
   "source": [
    "#### Modify the config `antenna_combinations`\n",
    "\n",
    "This image represents the layout of the cages and antennas:\n",
    "\n",
    "<img src=\"../examples\\test_data_custom\\img.svg\" alt=\"drawing\" width=\"800\"/>"
   ]
  },
  {
   "cell_type": "markdown",
   "metadata": {},
   "source": [
    "For you convenience we prepared the correct antenna combinations for this layout taking this interpolation of position into account"
   ]
  },
  {
   "cell_type": "code",
   "execution_count": null,
   "metadata": {},
   "outputs": [],
   "source": [
    "# Load config as a dict\n",
    "cfg = toml.load(config_path)\n",
    "\n",
    "# Create new antenna_combinations dict\n",
    "cfg['antenna_combinations'] = {\n",
    "    '9_9'  : 'cage_s1',\n",
    "    '11_11': 'cage_s2',\n",
    "    '10_9' : 'c1_s1',\n",
    "    '9_10' : 's1_c1',\n",
    "    '1_2'  : 'c1_c2',\n",
    "    '2_1'  : 'c2_c1',\n",
    "    '3_4'  : 'c2_c3',\n",
    "    '4_3'  : 'c3_c2',\n",
    "    '5_6'  : 'c3_c4',\n",
    "    '6_5'  : 'c4_c3',\n",
    "    '7_8'  : 'c4_c1',\n",
    "    '8_7'  : 'c1_c4',\n",
    "    '12_11': 'c3_s2',\n",
    "    '11_12': 's2_c3',\n",
    "    '8_10' : 'cage_1',\n",
    "    '10_8' : 'cage_1',\n",
    "    '1_10' : 'cage_1',\n",
    "    '10_1' : 'cage_1',\n",
    "    '8_1'  : 'cage_1',\n",
    "    '1_8'  : 'cage_1',\n",
    "    '7_10' : 'cage_1',\n",
    "    '10_7' : 'cage_1',\n",
    "    '8_9'  : 'cage_1',\n",
    "    '9_8'  : 'cage_1',\n",
    "    '8_2'  : 'cage_1',\n",
    "    '2_8'  : 'cage_1',\n",
    "    '7_1'  : 'cage_1',\n",
    "    '1_7'  : 'cage_1',\n",
    "    '10_2' : 'cage_1',\n",
    "    '2_10' : 'cage_1',\n",
    "    '1_9'  : 'cage_1',\n",
    "    '9_1'  : 'cage_1', \n",
    "    '1_3'  : 'cage_2',\n",
    "    '3_1'  : 'cage_2',\n",
    "    '2_4'  : 'cage_2',\n",
    "    '4_2'  : 'cage_2',\n",
    "    '2_3'  : 'cage_2',\n",
    "    '3_2'  : 'cage_2', \n",
    "    '3_5'  : 'cage_3',\n",
    "    '5_3'  : 'cage_3',\n",
    "    '3_12' : 'cage_3',\n",
    "    '12_3' : 'cage_3',\n",
    "    '6_4'  : 'cage_3',\n",
    "    '4_6'  : 'cage_3',\n",
    "    '6_12' : 'cage_3',\n",
    "    '12_6' : 'cage_3',\n",
    "    '11_4' : 'cage_3',\n",
    "    '4_11' : 'cage_3',\n",
    "    '11_5' : 'cage_3',\n",
    "    '5_11' : 'cage_3',\n",
    "    '4_5'  : 'cage_3',\n",
    "    '5_4'  : 'cage_3',\n",
    "    '4_12' : 'cage_3',\n",
    "    '12_4' : 'cage_3',\n",
    "    '5_12' : 'cage_3',\n",
    "    '12_5' : 'cage_3',  \n",
    "    '8_6'  : 'cage_4',\n",
    "    '6_8'  : 'cage_4',\n",
    "    '7_5'  : 'cage_4',\n",
    "    '5_7'  : 'cage_4',\n",
    "    '7_6'  : 'cage_4',\n",
    "    '6_7'  : 'cage_4',\n",
    "}\n",
    "\n",
    "cfg['tunnels'] = {\n",
    "    'c1_c2': \"tunnel_1\",\n",
    "    'c2_c1': \"tunnel_1\",\n",
    "    'c2_c3': \"tunnel_2\",\n",
    "    'c3_c2': \"tunnel_2\",\n",
    "    'c3_c4': \"tunnel_3\",\n",
    "    'c4_c3': \"tunnel_3\",\n",
    "    'c4_c1': \"tunnel_4\",\n",
    "    'c1_c4': \"tunnel_4\",\n",
    "    's1_c1': 'tunnel_s1',\n",
    "    'c1_s1': 'tunnel_s1',\n",
    "    's2_c3': 'tunnel_s2',\n",
    "    'c3_s2': 'tunnel_s2',\n",
    "}\n",
    "\n",
    "# Save the updated config\n",
    "f = open(config_path,'w')\n",
    "toml.dump(cfg, f)\n",
    "f.close()"
   ]
  },
  {
   "cell_type": "markdown",
   "metadata": {},
   "source": [
    "#### Make structure"
   ]
  },
  {
   "cell_type": "code",
   "execution_count": null,
   "metadata": {},
   "outputs": [],
   "source": [
    "df = deepecohab.get_ecohab_data_structure(config_path, custom_layout=True)"
   ]
  },
  {
   "cell_type": "markdown",
   "metadata": {},
   "source": [
    "#### Chasings and ranking"
   ]
  },
  {
   "cell_type": "code",
   "execution_count": null,
   "metadata": {},
   "outputs": [],
   "source": [
    "chasings = deepecohab.calculate_chasings(config_path)\n",
    "ranking = deepecohab.calculate_ranking(config_path)"
   ]
  },
  {
   "cell_type": "markdown",
   "metadata": {},
   "source": [
    "#### Activity"
   ]
  },
  {
   "cell_type": "code",
   "execution_count": null,
   "metadata": {},
   "outputs": [],
   "source": [
    "time_per_position = deepecohab.calculate_time_spent_per_position(config_path)\n",
    "visits_per_position = deepecohab.calculate_visits_per_position(config_path)\n",
    "time_together = deepecohab.calculate_time_together(config_path, minimum_time=2)\n",
    "pairwise_encounters = deepecohab.calculate_pairwise_encounters(config_path)"
   ]
  },
  {
   "cell_type": "markdown",
   "metadata": {},
   "source": [
    "#### In-cohort sociability"
   ]
  },
  {
   "cell_type": "code",
   "execution_count": null,
   "metadata": {},
   "outputs": [],
   "source": [
    "in_cohort_sociability = deepecohab.calculate_incohort_sociability(config_path)"
   ]
  },
  {
   "cell_type": "markdown",
   "metadata": {},
   "source": [
    "#### Binary DataFrame"
   ]
  },
  {
   "cell_type": "code",
   "execution_count": null,
   "metadata": {},
   "outputs": [],
   "source": [
    "binary_df = deepecohab.create_binary_df(config_path, precision=1) # Every 100 ms"
   ]
  },
  {
   "cell_type": "markdown",
   "metadata": {},
   "source": [
    "#### Plot"
   ]
  },
  {
   "cell_type": "code",
   "execution_count": null,
   "metadata": {},
   "outputs": [],
   "source": [
    "deepecohab.plot_network_graph(config_path, node_size_multiplier=2, edge_width_multiplier=0.4, cmap='bluered')\n",
    "deepecohab.plot_cage_position_time(config_path)\n",
    "deepecohab.plot_cage_position_visits(config_path)\n",
    "deepecohab.plot_time_together(config_path)\n",
    "deepecohab.plot_pairwise_encounters(config_path)\n",
    "deepecohab.plot_incohort_sociability(config_path)\n",
    "deepecohab.plot_chasings(config_path)\n",
    "deepecohab.plot_ranking_in_time(config_path)"
   ]
  },
  {
   "cell_type": "markdown",
   "metadata": {},
   "source": [
    "#### Dahsboard"
   ]
  },
  {
   "cell_type": "code",
   "execution_count": null,
   "metadata": {},
   "outputs": [],
   "source": [
    "deepecohab.run_dashboard(config_path)\n",
    "# process.kill() # To stop the dashboard. Necesarry to run a new dashboard within the sameconfig_path    notebook"
   ]
  }
 ],
 "metadata": {
  "kernelspec": {
   "display_name": "deepecohab",
   "language": "python",
   "name": "python3"
  },
  "language_info": {
   "codemirror_mode": {
    "name": "ipython",
    "version": 3
   },
   "file_extension": ".py",
   "mimetype": "text/x-python",
   "name": "python",
   "nbconvert_exporter": "python",
   "pygments_lexer": "ipython3",
   "version": "3.10.13"
  }
 },
 "nbformat": 4,
 "nbformat_minor": 2
}
