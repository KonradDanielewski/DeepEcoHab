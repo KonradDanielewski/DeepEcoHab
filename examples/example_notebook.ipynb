{
 "cells": [
  {
   "cell_type": "code",
   "execution_count": null,
   "id": "4aad1b4d",
   "metadata": {},
   "outputs": [],
   "source": [
    "from pathlib import Path\n",
    "import deepecohab"
   ]
  },
  {
   "cell_type": "markdown",
   "id": "59d9ba4a",
   "metadata": {},
   "source": [
    "#### Make project\n",
    "\n",
    "Uses example data provided in the repository. Currently only default ecohab layout, more examples soon..."
   ]
  },
  {
   "cell_type": "code",
   "execution_count": null,
   "id": "6f3c2ab9",
   "metadata": {},
   "outputs": [],
   "source": [
    "example_dir = Path.cwd()"
   ]
  },
  {
   "cell_type": "code",
   "execution_count": null,
   "id": "d5e83a40",
   "metadata": {},
   "outputs": [],
   "source": [
    "config_path = deepecohab.create_ecohab_project(\n",
    "    project_location=example_dir, # Location where the project will be created\n",
    "    experiment_name='test_name2',  # Name of the project\n",
    "    data_path=example_dir / 'test_data', # Folder with ecohab txt files\n",
    "    start_datetime='2023-05-24 12:00:00', #Time from which the data should be taken (we ommit the first file before first dark phase start) YYYY-MM-DD HH:MM:SS\n",
    "    finish_datetime='2023-05-29 23:00:00',\n",
    "    light_phase_start='00:00:00',\n",
    "    dark_phase_start='12:00:00',\n",
    "    )"
   ]
  },
  {
   "cell_type": "markdown",
   "id": "47027e4d",
   "metadata": {},
   "source": [
    "#### Make structure"
   ]
  },
  {
   "cell_type": "code",
   "execution_count": null,
   "id": "4969606b",
   "metadata": {},
   "outputs": [],
   "source": [
    "df = deepecohab.get_ecohab_data_structure(config_path)"
   ]
  },
  {
   "cell_type": "markdown",
   "id": "2d41a0e5",
   "metadata": {},
   "source": [
    "#### Chasings and ranking"
   ]
  },
  {
   "cell_type": "code",
   "execution_count": null,
   "id": "48796b66",
   "metadata": {},
   "outputs": [],
   "source": [
    "chasings = deepecohab.calculate_chasings(config_path)\n",
    "ranking = deepecohab.calculate_ranking(config_path)"
   ]
  },
  {
   "cell_type": "markdown",
   "id": "1942b22d",
   "metadata": {},
   "source": [
    "#### Activity"
   ]
  },
  {
   "cell_type": "code",
   "execution_count": null,
   "id": "015a6246",
   "metadata": {},
   "outputs": [],
   "source": [
    "time_per_position = deepecohab.calculate_time_spent_per_position(config_path)\n",
    "visits_per_position = deepecohab.calculate_visits_per_position(config_path)\n",
    "time_together = deepecohab.calculate_time_together(config_path, minimum_time=2)\n",
    "pairwise_encounters = deepecohab.calculate_pairwise_encounters(config_path)"
   ]
  },
  {
   "cell_type": "markdown",
   "id": "9bd4e25c",
   "metadata": {},
   "source": [
    "#### In-cohort sociability"
   ]
  },
  {
   "cell_type": "code",
   "execution_count": null,
   "id": "b39d2e22",
   "metadata": {},
   "outputs": [],
   "source": [
    "in_cohort_sociability = deepecohab.calculate_incohort_sociability(config_path)"
   ]
  },
  {
   "cell_type": "markdown",
   "id": "1aac175b",
   "metadata": {},
   "source": [
    "#### Binary DataFrame"
   ]
  },
  {
   "cell_type": "code",
   "execution_count": null,
   "id": "878e8eba",
   "metadata": {},
   "outputs": [],
   "source": [
    "binary_df = deepecohab.create_binary_df(config_path, precision=10) # Every 100 ms"
   ]
  },
  {
   "cell_type": "markdown",
   "id": "e98d7ea5",
   "metadata": {},
   "source": [
    "#### Dahsboard"
   ]
  },
  {
   "cell_type": "code",
   "execution_count": null,
   "id": "2e0b621c",
   "metadata": {},
   "outputs": [],
   "source": [
    "process = deepecohab.run_dashboard(config_path)\n",
    "# process.kill() # To stop the dashboard. Necesarry to run a new dashboard within the same notebook"
   ]
  }
 ],
 "metadata": {
  "kernelspec": {
   "display_name": "deepecohab",
   "language": "python",
   "name": "python3"
  },
  "language_info": {
   "codemirror_mode": {
    "name": "ipython",
    "version": 3
   },
   "file_extension": ".py",
   "mimetype": "text/x-python",
   "name": "python",
   "nbconvert_exporter": "python",
   "pygments_lexer": "ipython3",
   "version": "3.13.5"
  }
 },
 "nbformat": 4,
 "nbformat_minor": 5
}
