{
 "cells": [
  {
   "cell_type": "code",
   "execution_count": 1,
   "metadata": {},
   "outputs": [],
   "source": [
    "import os\n",
    "from pathlib import Path\n",
    "\n",
    "import deepecohab"
   ]
  },
  {
   "cell_type": "markdown",
   "metadata": {},
   "source": [
    "#### Make project\n",
    "\n",
    "Uses example data provided in the repository. Currently only default ecohab layout, more examples soon..."
   ]
  },
  {
   "cell_type": "code",
   "execution_count": 2,
   "metadata": {},
   "outputs": [],
   "source": [
    "example_dir = Path(os.getcwd())"
   ]
  },
  {
   "cell_type": "code",
   "execution_count": 3,
   "metadata": {},
   "outputs": [
    {
     "name": "stdout",
     "output_type": "stream",
     "text": [
      "Project already exists! Loading existing project config.\n"
     ]
    }
   ],
   "source": [
    "cfp = deepecohab.create_ecohab_project(\n",
    "    project_location=example_dir, # Location where the project will be created\n",
    "    experiment_name=\"test_name2\",  # Name of the project\n",
    "    data_path=example_dir / \"test_data\", # Folder with ecohab txt files\n",
    "    start_datetime=\"2023-05-24 12:00:00\", #Time from which the data should be taken (we ommit the first file before first dark phase start) YYYY-MM-DD HH:MM:SS\n",
    "    finish_datetime=\"2023-05-29 23:00:00\",\n",
    "    light_phase_start=\"00:00:00\",\n",
    "    dark_phase_start=\"12:00:00\",\n",
    "    )"
   ]
  },
  {
   "cell_type": "markdown",
   "metadata": {},
   "source": [
    "#### Make structure"
   ]
  },
  {
   "cell_type": "code",
   "execution_count": 4,
   "metadata": {},
   "outputs": [],
   "source": [
    "df = deepecohab.get_ecohab_data_structure(cfp)"
   ]
  },
  {
   "cell_type": "markdown",
   "metadata": {},
   "source": [
    "#### Chasings and ranking"
   ]
  },
  {
   "cell_type": "code",
   "execution_count": 5,
   "metadata": {},
   "outputs": [],
   "source": [
    "chasings = deepecohab.calculate_chasings(cfp)\n",
    "ranking = deepecohab.calculate_ranking(cfp)"
   ]
  },
  {
   "cell_type": "markdown",
   "metadata": {},
   "source": [
    "#### Activity"
   ]
  },
  {
   "cell_type": "code",
   "execution_count": 6,
   "metadata": {},
   "outputs": [],
   "source": [
    "time_per_position = deepecohab.calculate_time_spent_per_position(cfp)\n",
    "visits_per_position = deepecohab.calculate_visits_per_position(cfp)\n",
    "time_together = deepecohab.calculate_time_together(cfp, minimum_time=2)\n",
    "pairwise_encounters = deepecohab.calculate_pairwise_encounters(cfp)"
   ]
  },
  {
   "cell_type": "markdown",
   "metadata": {},
   "source": [
    "#### In-cohort sociability"
   ]
  },
  {
   "cell_type": "code",
   "execution_count": 7,
   "metadata": {},
   "outputs": [],
   "source": [
    "in_cohort_sociability = deepecohab.calculate_incohort_sociability(cfp)"
   ]
  },
  {
   "cell_type": "markdown",
   "metadata": {},
   "source": [
    "#### Binary DataFrame"
   ]
  },
  {
   "cell_type": "code",
   "execution_count": 8,
   "metadata": {},
   "outputs": [],
   "source": [
    "binary_df = deepecohab.create_binary_df(cfp, precision=10) # Every 100 ms"
   ]
  },
  {
   "cell_type": "markdown",
   "metadata": {},
   "source": [
    "#### Plot"
   ]
  },
  {
   "cell_type": "code",
   "execution_count": null,
   "metadata": {},
   "outputs": [
    {
     "data": {
      "application/vnd.plotly.v1+json": {
       "config": {
        "plotlyServerURL": "https://plot.ly"
       },
       "data": [
        {
         "coloraxis": "coloraxis",
         "hovertemplate": "X: %{x}<br>Y: %{y}<br>%{z}",
         "name": "0",
         "type": "heatmap",
         "x": [
          "0627A81904",
          "325CE61A04",
          "352DE61A04",
          "7376E61A04",
          "75DFFF1904",
          "85EDFF1904",
          "956BA81904",
          "9A44E61A04",
          "A4939C1A04"
         ],
         "xaxis": "x",
         "y": [
          "0627A81904",
          "325CE61A04",
          "352DE61A04",
          "7376E61A04",
          "75DFFF1904",
          "85EDFF1904",
          "956BA81904",
          "9A44E61A04",
          "A4939C1A04"
         ],
         "yaxis": "y",
         "z": [
          [
           null,
           null,
           null,
           null,
           null,
           null,
           null,
           null,
           null
          ],
          [
           0.031,
           null,
           null,
           null,
           null,
           null,
           null,
           null,
           null
          ],
          [
           0.004,
           -0.005,
           null,
           null,
           null,
           null,
           null,
           null,
           null
          ],
          [
           0.052,
           0.036,
           0.026,
           null,
           null,
           null,
           null,
           null,
           null
          ],
          [
           -0.027,
           0.004,
           0.009,
           -0.016,
           null,
           null,
           null,
           null,
           null
          ],
          [
           0.048,
           0.073,
           0.017,
           0.028,
           0.031,
           null,
           null,
           null,
           null
          ],
          [
           0.028,
           0.103,
           -0.02,
           0.011,
           0.014,
           0.015,
           null,
           null,
           null
          ],
          [
           0.081,
           0.043,
           -0.036,
           0.001,
           0.078,
           0.03,
           0.004,
           null,
           null
          ],
          [
           0.04,
           0.045,
           0.031,
           0.041,
           0.021,
           0.032,
           0.034,
           0.023,
           null
          ]
         ]
        }
       ],
       "frames": [
        {
         "data": [
          {
           "coloraxis": "coloraxis",
           "name": "0",
           "type": "heatmap",
           "x": [
            "0627A81904",
            "325CE61A04",
            "352DE61A04",
            "7376E61A04",
            "75DFFF1904",
            "85EDFF1904",
            "956BA81904",
            "9A44E61A04",
            "A4939C1A04"
           ],
           "y": [
            "0627A81904",
            "325CE61A04",
            "352DE61A04",
            "7376E61A04",
            "75DFFF1904",
            "85EDFF1904",
            "956BA81904",
            "9A44E61A04",
            "A4939C1A04"
           ],
           "z": [
            [
             null,
             null,
             null,
             null,
             null,
             null,
             null,
             null,
             null
            ],
            [
             0.031,
             null,
             null,
             null,
             null,
             null,
             null,
             null,
             null
            ],
            [
             0.004,
             -0.005,
             null,
             null,
             null,
             null,
             null,
             null,
             null
            ],
            [
             0.052,
             0.036,
             0.026,
             null,
             null,
             null,
             null,
             null,
             null
            ],
            [
             -0.027,
             0.004,
             0.009,
             -0.016,
             null,
             null,
             null,
             null,
             null
            ],
            [
             0.048,
             0.073,
             0.017,
             0.028,
             0.031,
             null,
             null,
             null,
             null
            ],
            [
             0.028,
             0.103,
             -0.02,
             0.011,
             0.014,
             0.015,
             null,
             null,
             null
            ],
            [
             0.081,
             0.043,
             -0.036,
             0.001,
             0.078,
             0.03,
             0.004,
             null,
             null
            ],
            [
             0.04,
             0.045,
             0.031,
             0.041,
             0.021,
             0.032,
             0.034,
             0.023,
             null
            ]
           ]
          }
         ],
         "layout": {
          "coloraxis": {
           "cmax": 0.1611335360171789,
           "cmin": -0.06219747806375392,
           "colorscale": [
            [
             0,
             "rgb(255,247,236)"
            ],
            [
             0.125,
             "rgb(254,232,200)"
            ],
            [
             0.25,
             "rgb(253,212,158)"
            ],
            [
             0.375,
             "rgb(253,187,132)"
            ],
            [
             0.5,
             "rgb(252,141,89)"
            ],
            [
             0.625,
             "rgb(239,101,72)"
            ],
            [
             0.75,
             "rgb(215,48,31)"
            ],
            [
             0.875,
             "rgb(179,0,0)"
            ],
            [
             1,
             "rgb(127,0,0)"
            ]
           ]
          },
          "margin": {
           "t": 60
          },
          "xaxis": {
           "constrain": "domain",
           "scaleanchor": "y"
          },
          "yaxis": {
           "autorange": "reversed",
           "constrain": "domain"
          }
         },
         "name": "0"
        },
        {
         "data": [
          {
           "coloraxis": "coloraxis",
           "name": "1",
           "type": "heatmap",
           "x": [
            "0627A81904",
            "325CE61A04",
            "352DE61A04",
            "7376E61A04",
            "75DFFF1904",
            "85EDFF1904",
            "956BA81904",
            "9A44E61A04",
            "A4939C1A04"
           ],
           "y": [
            "0627A81904",
            "325CE61A04",
            "352DE61A04",
            "7376E61A04",
            "75DFFF1904",
            "85EDFF1904",
            "956BA81904",
            "9A44E61A04",
            "A4939C1A04"
           ],
           "z": [
            [
             null,
             null,
             null,
             null,
             null,
             null,
             null,
             null,
             null
            ],
            [
             -0.029,
             null,
             null,
             null,
             null,
             null,
             null,
             null,
             null
            ],
            [
             0.146,
             0.026,
             null,
             null,
             null,
             null,
             null,
             null,
             null
            ],
            [
             0.022,
             -0.012,
             0.006,
             null,
             null,
             null,
             null,
             null,
             null
            ],
            [
             0.157,
             -0.056,
             0.124,
             -0.013,
             null,
             null,
             null,
             null,
             null
            ],
            [
             0.067,
             -0.022,
             0.144,
             0.007,
             0.095,
             null,
             null,
             null,
             null
            ],
            [
             0.126,
             -0.026,
             0.043,
             0.005,
             0.127,
             0.017,
             null,
             null,
             null
            ],
            [
             0.123,
             0.04,
             0.109,
             -0.009,
             0.116,
             0.116,
             0.074,
             null,
             null
            ],
            [
             -0.017,
             -0.029,
             0.031,
             -0.003,
             0.028,
             -0.004,
             0.056,
             -0.02,
             null
            ]
           ]
          }
         ],
         "layout": {
          "coloraxis": {
           "cmax": 0.1611335360171789,
           "cmin": -0.06219747806375392,
           "colorscale": [
            [
             0,
             "rgb(255,247,236)"
            ],
            [
             0.125,
             "rgb(254,232,200)"
            ],
            [
             0.25,
             "rgb(253,212,158)"
            ],
            [
             0.375,
             "rgb(253,187,132)"
            ],
            [
             0.5,
             "rgb(252,141,89)"
            ],
            [
             0.625,
             "rgb(239,101,72)"
            ],
            [
             0.75,
             "rgb(215,48,31)"
            ],
            [
             0.875,
             "rgb(179,0,0)"
            ],
            [
             1,
             "rgb(127,0,0)"
            ]
           ]
          },
          "margin": {
           "t": 60
          },
          "xaxis": {
           "constrain": "domain",
           "scaleanchor": "y"
          },
          "yaxis": {
           "autorange": "reversed",
           "constrain": "domain"
          }
         },
         "name": "1"
        },
        {
         "data": [
          {
           "coloraxis": "coloraxis",
           "name": "2",
           "type": "heatmap",
           "x": [
            "0627A81904",
            "325CE61A04",
            "352DE61A04",
            "7376E61A04",
            "75DFFF1904",
            "85EDFF1904",
            "956BA81904",
            "9A44E61A04",
            "A4939C1A04"
           ],
           "y": [
            "0627A81904",
            "325CE61A04",
            "352DE61A04",
            "7376E61A04",
            "75DFFF1904",
            "85EDFF1904",
            "956BA81904",
            "9A44E61A04",
            "A4939C1A04"
           ],
           "z": [
            [
             null,
             null,
             null,
             null,
             null,
             null,
             null,
             null,
             null
            ],
            [
             0.045,
             null,
             null,
             null,
             null,
             null,
             null,
             null,
             null
            ],
            [
             0.056,
             0.005,
             null,
             null,
             null,
             null,
             null,
             null,
             null
            ],
            [
             0.005,
             -0.016,
             0.068,
             null,
             null,
             null,
             null,
             null,
             null
            ],
            [
             0.104,
             0.017,
             0.007,
             0.023,
             null,
             null,
             null,
             null,
             null
            ],
            [
             -0.011,
             0.018,
             -0.077,
             -0.011,
             0.015,
             null,
             null,
             null,
             null
            ],
            [
             -0.062,
             0.04,
             -0.053,
             -0.033,
             0.026,
             0.051,
             null,
             null,
             null
            ],
            [
             -0.044,
             -0.02,
             -0.03,
             -0.035,
             -0.033,
             0.013,
             0.056,
             null,
             null
            ],
            [
             0.052,
             0.02,
             -0.003,
             -0.031,
             0.029,
             0.007,
             0.016,
             -0.027,
             null
            ]
           ]
          }
         ],
         "layout": {
          "coloraxis": {
           "cmax": 0.1611335360171789,
           "cmin": -0.06219747806375392,
           "colorscale": [
            [
             0,
             "rgb(255,247,236)"
            ],
            [
             0.125,
             "rgb(254,232,200)"
            ],
            [
             0.25,
             "rgb(253,212,158)"
            ],
            [
             0.375,
             "rgb(253,187,132)"
            ],
            [
             0.5,
             "rgb(252,141,89)"
            ],
            [
             0.625,
             "rgb(239,101,72)"
            ],
            [
             0.75,
             "rgb(215,48,31)"
            ],
            [
             0.875,
             "rgb(179,0,0)"
            ],
            [
             1,
             "rgb(127,0,0)"
            ]
           ]
          },
          "margin": {
           "t": 60
          },
          "xaxis": {
           "constrain": "domain",
           "scaleanchor": "y"
          },
          "yaxis": {
           "autorange": "reversed",
           "constrain": "domain"
          }
         },
         "name": "2"
        },
        {
         "data": [
          {
           "coloraxis": "coloraxis",
           "name": "3",
           "type": "heatmap",
           "x": [
            "0627A81904",
            "325CE61A04",
            "352DE61A04",
            "7376E61A04",
            "75DFFF1904",
            "85EDFF1904",
            "956BA81904",
            "9A44E61A04",
            "A4939C1A04"
           ],
           "y": [
            "0627A81904",
            "325CE61A04",
            "352DE61A04",
            "7376E61A04",
            "75DFFF1904",
            "85EDFF1904",
            "956BA81904",
            "9A44E61A04",
            "A4939C1A04"
           ],
           "z": [
            [
             null,
             null,
             null,
             null,
             null,
             null,
             null,
             null,
             null
            ],
            [
             0.122,
             null,
             null,
             null,
             null,
             null,
             null,
             null,
             null
            ],
            [
             0.086,
             0.061,
             null,
             null,
             null,
             null,
             null,
             null,
             null
            ],
            [
             0.051,
             0.032,
             0.03,
             null,
             null,
             null,
             null,
             null,
             null
            ],
            [
             0.024,
             0.026,
             0.059,
             0.027,
             null,
             null,
             null,
             null,
             null
            ],
            [
             0.055,
             0.05,
             0.021,
             -0.004,
             0.023,
             null,
             null,
             null,
             null
            ],
            [
             0.06,
             0.06,
             0.026,
             0.006,
             0.031,
             0.046,
             null,
             null,
             null
            ],
            [
             0.061,
             0.101,
             0.083,
             0.051,
             0.01,
             -0.001,
             0.034,
             null,
             null
            ],
            [
             0.044,
             0.028,
             0.07,
             0.064,
             0.106,
             -0.011,
             0.046,
             0.05,
             null
            ]
           ]
          }
         ],
         "layout": {
          "coloraxis": {
           "cmax": 0.1611335360171789,
           "cmin": -0.06219747806375392,
           "colorscale": [
            [
             0,
             "rgb(255,247,236)"
            ],
            [
             0.125,
             "rgb(254,232,200)"
            ],
            [
             0.25,
             "rgb(253,212,158)"
            ],
            [
             0.375,
             "rgb(253,187,132)"
            ],
            [
             0.5,
             "rgb(252,141,89)"
            ],
            [
             0.625,
             "rgb(239,101,72)"
            ],
            [
             0.75,
             "rgb(215,48,31)"
            ],
            [
             0.875,
             "rgb(179,0,0)"
            ],
            [
             1,
             "rgb(127,0,0)"
            ]
           ]
          },
          "margin": {
           "t": 60
          },
          "xaxis": {
           "constrain": "domain",
           "scaleanchor": "y"
          },
          "yaxis": {
           "autorange": "reversed",
           "constrain": "domain"
          }
         },
         "name": "3"
        },
        {
         "data": [
          {
           "coloraxis": "coloraxis",
           "name": "4",
           "type": "heatmap",
           "x": [
            "0627A81904",
            "325CE61A04",
            "352DE61A04",
            "7376E61A04",
            "75DFFF1904",
            "85EDFF1904",
            "956BA81904",
            "9A44E61A04",
            "A4939C1A04"
           ],
           "y": [
            "0627A81904",
            "325CE61A04",
            "352DE61A04",
            "7376E61A04",
            "75DFFF1904",
            "85EDFF1904",
            "956BA81904",
            "9A44E61A04",
            "A4939C1A04"
           ],
           "z": [
            [
             null,
             null,
             null,
             null,
             null,
             null,
             null,
             null,
             null
            ],
            [
             0.002,
             null,
             null,
             null,
             null,
             null,
             null,
             null,
             null
            ],
            [
             0.001,
             0.003,
             null,
             null,
             null,
             null,
             null,
             null,
             null
            ],
            [
             -0.003,
             -0.018,
             0.02,
             null,
             null,
             null,
             null,
             null,
             null
            ],
            [
             0.067,
             -0.006,
             0.053,
             0.004,
             null,
             null,
             null,
             null,
             null
            ],
            [
             0.031,
             0.003,
             0.034,
             0.002,
             -0.008,
             null,
             null,
             null,
             null
            ],
            [
             0.004,
             0.014,
             -0.016,
             0.008,
             0.02,
             -0.019,
             null,
             null,
             null
            ],
            [
             0.041,
             0.052,
             0.037,
             -0.01,
             0.002,
             0.044,
             -0.032,
             null,
             null
            ],
            [
             0.012,
             0.052,
             0.027,
             -0.006,
             0.01,
             0.003,
             0.001,
             0.012,
             null
            ]
           ]
          }
         ],
         "layout": {
          "coloraxis": {
           "cmax": 0.1611335360171789,
           "cmin": -0.06219747806375392,
           "colorscale": [
            [
             0,
             "rgb(255,247,236)"
            ],
            [
             0.125,
             "rgb(254,232,200)"
            ],
            [
             0.25,
             "rgb(253,212,158)"
            ],
            [
             0.375,
             "rgb(253,187,132)"
            ],
            [
             0.5,
             "rgb(252,141,89)"
            ],
            [
             0.625,
             "rgb(239,101,72)"
            ],
            [
             0.75,
             "rgb(215,48,31)"
            ],
            [
             0.875,
             "rgb(179,0,0)"
            ],
            [
             1,
             "rgb(127,0,0)"
            ]
           ]
          },
          "margin": {
           "t": 60
          },
          "xaxis": {
           "constrain": "domain",
           "scaleanchor": "y"
          },
          "yaxis": {
           "autorange": "reversed",
           "constrain": "domain"
          }
         },
         "name": "4"
        },
        {
         "data": [
          {
           "coloraxis": "coloraxis",
           "name": "5",
           "type": "heatmap",
           "x": [
            "0627A81904",
            "325CE61A04",
            "352DE61A04",
            "7376E61A04",
            "75DFFF1904",
            "85EDFF1904",
            "956BA81904",
            "9A44E61A04",
            "A4939C1A04"
           ],
           "y": [
            "0627A81904",
            "325CE61A04",
            "352DE61A04",
            "7376E61A04",
            "75DFFF1904",
            "85EDFF1904",
            "956BA81904",
            "9A44E61A04",
            "A4939C1A04"
           ],
           "z": [
            [
             null,
             null,
             null,
             null,
             null,
             null,
             null,
             null,
             null
            ],
            [
             0.006,
             null,
             null,
             null,
             null,
             null,
             null,
             null,
             null
            ],
            [
             0.054,
             0.039,
             null,
             null,
             null,
             null,
             null,
             null,
             null
            ],
            [
             0.033,
             0.01,
             0.067,
             null,
             null,
             null,
             null,
             null,
             null
            ],
            [
             0.024,
             0.079,
             0.027,
             -0.02,
             null,
             null,
             null,
             null,
             null
            ],
            [
             0.029,
             0.019,
             0.02,
             0.082,
             0.049,
             null,
             null,
             null,
             null
            ],
            [
             0.064,
             0.053,
             0.069,
             0.004,
             -0.007,
             0.011,
             null,
             null,
             null
            ],
            [
             0.008,
             0.005,
             -0.021,
             0.015,
             0.044,
             0.057,
             0.017,
             null,
             null
            ],
            [
             0.047,
             -0.05,
             0.044,
             0.029,
             -0.018,
             0,
             0.06,
             -0.017,
             null
            ]
           ]
          }
         ],
         "layout": {
          "coloraxis": {
           "cmax": 0.1611335360171789,
           "cmin": -0.06219747806375392,
           "colorscale": [
            [
             0,
             "rgb(255,247,236)"
            ],
            [
             0.125,
             "rgb(254,232,200)"
            ],
            [
             0.25,
             "rgb(253,212,158)"
            ],
            [
             0.375,
             "rgb(253,187,132)"
            ],
            [
             0.5,
             "rgb(252,141,89)"
            ],
            [
             0.625,
             "rgb(239,101,72)"
            ],
            [
             0.75,
             "rgb(215,48,31)"
            ],
            [
             0.875,
             "rgb(179,0,0)"
            ],
            [
             1,
             "rgb(127,0,0)"
            ]
           ]
          },
          "margin": {
           "t": 60
          },
          "xaxis": {
           "constrain": "domain",
           "scaleanchor": "y"
          },
          "yaxis": {
           "autorange": "reversed",
           "constrain": "domain"
          }
         },
         "name": "5"
        }
       ],
       "layout": {
        "coloraxis": {
         "cmax": 0.1611335360171789,
         "cmin": -0.06219747806375392,
         "colorscale": [
          [
           0,
           "rgb(255,247,236)"
          ],
          [
           0.125,
           "rgb(254,232,200)"
          ],
          [
           0.25,
           "rgb(253,212,158)"
          ],
          [
           0.375,
           "rgb(253,187,132)"
          ],
          [
           0.5,
           "rgb(252,141,89)"
          ],
          [
           0.625,
           "rgb(239,101,72)"
          ],
          [
           0.75,
           "rgb(215,48,31)"
          ],
          [
           0.875,
           "rgb(179,0,0)"
          ],
          [
           1,
           "rgb(127,0,0)"
          ]
         ]
        },
        "height": 800,
        "margin": {
         "t": 60
        },
        "plot_bgcolor": "white",
        "sliders": [
         {
          "active": 0,
          "currentvalue": {
           "prefix": "Phase="
          },
          "len": 0.9,
          "pad": {
           "b": 10,
           "t": 60
          },
          "steps": [
           {
            "args": [
             [
              "0"
             ],
             {
              "frame": {
               "duration": 0,
               "redraw": true
              },
              "fromcurrent": true,
              "mode": "immediate",
              "transition": {
               "duration": 0,
               "easing": "linear"
              }
             }
            ],
            "label": "0",
            "method": "animate"
           },
           {
            "args": [
             [
              "1"
             ],
             {
              "frame": {
               "duration": 0,
               "redraw": true
              },
              "fromcurrent": true,
              "mode": "immediate",
              "transition": {
               "duration": 0,
               "easing": "linear"
              }
             }
            ],
            "label": "1",
            "method": "animate"
           },
           {
            "args": [
             [
              "2"
             ],
             {
              "frame": {
               "duration": 0,
               "redraw": true
              },
              "fromcurrent": true,
              "mode": "immediate",
              "transition": {
               "duration": 0,
               "easing": "linear"
              }
             }
            ],
            "label": "2",
            "method": "animate"
           },
           {
            "args": [
             [
              "3"
             ],
             {
              "frame": {
               "duration": 0,
               "redraw": true
              },
              "fromcurrent": true,
              "mode": "immediate",
              "transition": {
               "duration": 0,
               "easing": "linear"
              }
             }
            ],
            "label": "3",
            "method": "animate"
           },
           {
            "args": [
             [
              "4"
             ],
             {
              "frame": {
               "duration": 0,
               "redraw": true
              },
              "fromcurrent": true,
              "mode": "immediate",
              "transition": {
               "duration": 0,
               "easing": "linear"
              }
             }
            ],
            "label": "4",
            "method": "animate"
           },
           {
            "args": [
             [
              "5"
             ],
             {
              "frame": {
               "duration": 0,
               "redraw": true
              },
              "fromcurrent": true,
              "mode": "immediate",
              "transition": {
               "duration": 0,
               "easing": "linear"
              }
             }
            ],
            "label": "5",
            "method": "animate"
           }
          ],
          "x": 0.1,
          "xanchor": "left",
          "y": 0,
          "yanchor": "top"
         }
        ],
        "template": {
         "data": {
          "bar": [
           {
            "error_x": {
             "color": "#2a3f5f"
            },
            "error_y": {
             "color": "#2a3f5f"
            },
            "marker": {
             "line": {
              "color": "#E5ECF6",
              "width": 0.5
             },
             "pattern": {
              "fillmode": "overlay",
              "size": 10,
              "solidity": 0.2
             }
            },
            "type": "bar"
           }
          ],
          "barpolar": [
           {
            "marker": {
             "line": {
              "color": "#E5ECF6",
              "width": 0.5
             },
             "pattern": {
              "fillmode": "overlay",
              "size": 10,
              "solidity": 0.2
             }
            },
            "type": "barpolar"
           }
          ],
          "carpet": [
           {
            "aaxis": {
             "endlinecolor": "#2a3f5f",
             "gridcolor": "white",
             "linecolor": "white",
             "minorgridcolor": "white",
             "startlinecolor": "#2a3f5f"
            },
            "baxis": {
             "endlinecolor": "#2a3f5f",
             "gridcolor": "white",
             "linecolor": "white",
             "minorgridcolor": "white",
             "startlinecolor": "#2a3f5f"
            },
            "type": "carpet"
           }
          ],
          "choropleth": [
           {
            "colorbar": {
             "outlinewidth": 0,
             "ticks": ""
            },
            "type": "choropleth"
           }
          ],
          "contour": [
           {
            "colorbar": {
             "outlinewidth": 0,
             "ticks": ""
            },
            "colorscale": [
             [
              0,
              "#0d0887"
             ],
             [
              0.1111111111111111,
              "#46039f"
             ],
             [
              0.2222222222222222,
              "#7201a8"
             ],
             [
              0.3333333333333333,
              "#9c179e"
             ],
             [
              0.4444444444444444,
              "#bd3786"
             ],
             [
              0.5555555555555556,
              "#d8576b"
             ],
             [
              0.6666666666666666,
              "#ed7953"
             ],
             [
              0.7777777777777778,
              "#fb9f3a"
             ],
             [
              0.8888888888888888,
              "#fdca26"
             ],
             [
              1,
              "#f0f921"
             ]
            ],
            "type": "contour"
           }
          ],
          "contourcarpet": [
           {
            "colorbar": {
             "outlinewidth": 0,
             "ticks": ""
            },
            "type": "contourcarpet"
           }
          ],
          "heatmap": [
           {
            "colorbar": {
             "outlinewidth": 0,
             "ticks": ""
            },
            "colorscale": [
             [
              0,
              "#0d0887"
             ],
             [
              0.1111111111111111,
              "#46039f"
             ],
             [
              0.2222222222222222,
              "#7201a8"
             ],
             [
              0.3333333333333333,
              "#9c179e"
             ],
             [
              0.4444444444444444,
              "#bd3786"
             ],
             [
              0.5555555555555556,
              "#d8576b"
             ],
             [
              0.6666666666666666,
              "#ed7953"
             ],
             [
              0.7777777777777778,
              "#fb9f3a"
             ],
             [
              0.8888888888888888,
              "#fdca26"
             ],
             [
              1,
              "#f0f921"
             ]
            ],
            "type": "heatmap"
           }
          ],
          "heatmapgl": [
           {
            "colorbar": {
             "outlinewidth": 0,
             "ticks": ""
            },
            "colorscale": [
             [
              0,
              "#0d0887"
             ],
             [
              0.1111111111111111,
              "#46039f"
             ],
             [
              0.2222222222222222,
              "#7201a8"
             ],
             [
              0.3333333333333333,
              "#9c179e"
             ],
             [
              0.4444444444444444,
              "#bd3786"
             ],
             [
              0.5555555555555556,
              "#d8576b"
             ],
             [
              0.6666666666666666,
              "#ed7953"
             ],
             [
              0.7777777777777778,
              "#fb9f3a"
             ],
             [
              0.8888888888888888,
              "#fdca26"
             ],
             [
              1,
              "#f0f921"
             ]
            ],
            "type": "heatmapgl"
           }
          ],
          "histogram": [
           {
            "marker": {
             "pattern": {
              "fillmode": "overlay",
              "size": 10,
              "solidity": 0.2
             }
            },
            "type": "histogram"
           }
          ],
          "histogram2d": [
           {
            "colorbar": {
             "outlinewidth": 0,
             "ticks": ""
            },
            "colorscale": [
             [
              0,
              "#0d0887"
             ],
             [
              0.1111111111111111,
              "#46039f"
             ],
             [
              0.2222222222222222,
              "#7201a8"
             ],
             [
              0.3333333333333333,
              "#9c179e"
             ],
             [
              0.4444444444444444,
              "#bd3786"
             ],
             [
              0.5555555555555556,
              "#d8576b"
             ],
             [
              0.6666666666666666,
              "#ed7953"
             ],
             [
              0.7777777777777778,
              "#fb9f3a"
             ],
             [
              0.8888888888888888,
              "#fdca26"
             ],
             [
              1,
              "#f0f921"
             ]
            ],
            "type": "histogram2d"
           }
          ],
          "histogram2dcontour": [
           {
            "colorbar": {
             "outlinewidth": 0,
             "ticks": ""
            },
            "colorscale": [
             [
              0,
              "#0d0887"
             ],
             [
              0.1111111111111111,
              "#46039f"
             ],
             [
              0.2222222222222222,
              "#7201a8"
             ],
             [
              0.3333333333333333,
              "#9c179e"
             ],
             [
              0.4444444444444444,
              "#bd3786"
             ],
             [
              0.5555555555555556,
              "#d8576b"
             ],
             [
              0.6666666666666666,
              "#ed7953"
             ],
             [
              0.7777777777777778,
              "#fb9f3a"
             ],
             [
              0.8888888888888888,
              "#fdca26"
             ],
             [
              1,
              "#f0f921"
             ]
            ],
            "type": "histogram2dcontour"
           }
          ],
          "mesh3d": [
           {
            "colorbar": {
             "outlinewidth": 0,
             "ticks": ""
            },
            "type": "mesh3d"
           }
          ],
          "parcoords": [
           {
            "line": {
             "colorbar": {
              "outlinewidth": 0,
              "ticks": ""
             }
            },
            "type": "parcoords"
           }
          ],
          "pie": [
           {
            "automargin": true,
            "type": "pie"
           }
          ],
          "scatter": [
           {
            "fillpattern": {
             "fillmode": "overlay",
             "size": 10,
             "solidity": 0.2
            },
            "type": "scatter"
           }
          ],
          "scatter3d": [
           {
            "line": {
             "colorbar": {
              "outlinewidth": 0,
              "ticks": ""
             }
            },
            "marker": {
             "colorbar": {
              "outlinewidth": 0,
              "ticks": ""
             }
            },
            "type": "scatter3d"
           }
          ],
          "scattercarpet": [
           {
            "marker": {
             "colorbar": {
              "outlinewidth": 0,
              "ticks": ""
             }
            },
            "type": "scattercarpet"
           }
          ],
          "scattergeo": [
           {
            "marker": {
             "colorbar": {
              "outlinewidth": 0,
              "ticks": ""
             }
            },
            "type": "scattergeo"
           }
          ],
          "scattergl": [
           {
            "marker": {
             "colorbar": {
              "outlinewidth": 0,
              "ticks": ""
             }
            },
            "type": "scattergl"
           }
          ],
          "scattermapbox": [
           {
            "marker": {
             "colorbar": {
              "outlinewidth": 0,
              "ticks": ""
             }
            },
            "type": "scattermapbox"
           }
          ],
          "scatterpolar": [
           {
            "marker": {
             "colorbar": {
              "outlinewidth": 0,
              "ticks": ""
             }
            },
            "type": "scatterpolar"
           }
          ],
          "scatterpolargl": [
           {
            "marker": {
             "colorbar": {
              "outlinewidth": 0,
              "ticks": ""
             }
            },
            "type": "scatterpolargl"
           }
          ],
          "scatterternary": [
           {
            "marker": {
             "colorbar": {
              "outlinewidth": 0,
              "ticks": ""
             }
            },
            "type": "scatterternary"
           }
          ],
          "surface": [
           {
            "colorbar": {
             "outlinewidth": 0,
             "ticks": ""
            },
            "colorscale": [
             [
              0,
              "#0d0887"
             ],
             [
              0.1111111111111111,
              "#46039f"
             ],
             [
              0.2222222222222222,
              "#7201a8"
             ],
             [
              0.3333333333333333,
              "#9c179e"
             ],
             [
              0.4444444444444444,
              "#bd3786"
             ],
             [
              0.5555555555555556,
              "#d8576b"
             ],
             [
              0.6666666666666666,
              "#ed7953"
             ],
             [
              0.7777777777777778,
              "#fb9f3a"
             ],
             [
              0.8888888888888888,
              "#fdca26"
             ],
             [
              1,
              "#f0f921"
             ]
            ],
            "type": "surface"
           }
          ],
          "table": [
           {
            "cells": {
             "fill": {
              "color": "#EBF0F8"
             },
             "line": {
              "color": "white"
             }
            },
            "header": {
             "fill": {
              "color": "#C8D4E3"
             },
             "line": {
              "color": "white"
             }
            },
            "type": "table"
           }
          ]
         },
         "layout": {
          "annotationdefaults": {
           "arrowcolor": "#2a3f5f",
           "arrowhead": 0,
           "arrowwidth": 1
          },
          "autotypenumbers": "strict",
          "coloraxis": {
           "colorbar": {
            "outlinewidth": 0,
            "ticks": ""
           }
          },
          "colorscale": {
           "diverging": [
            [
             0,
             "#8e0152"
            ],
            [
             0.1,
             "#c51b7d"
            ],
            [
             0.2,
             "#de77ae"
            ],
            [
             0.3,
             "#f1b6da"
            ],
            [
             0.4,
             "#fde0ef"
            ],
            [
             0.5,
             "#f7f7f7"
            ],
            [
             0.6,
             "#e6f5d0"
            ],
            [
             0.7,
             "#b8e186"
            ],
            [
             0.8,
             "#7fbc41"
            ],
            [
             0.9,
             "#4d9221"
            ],
            [
             1,
             "#276419"
            ]
           ],
           "sequential": [
            [
             0,
             "#0d0887"
            ],
            [
             0.1111111111111111,
             "#46039f"
            ],
            [
             0.2222222222222222,
             "#7201a8"
            ],
            [
             0.3333333333333333,
             "#9c179e"
            ],
            [
             0.4444444444444444,
             "#bd3786"
            ],
            [
             0.5555555555555556,
             "#d8576b"
            ],
            [
             0.6666666666666666,
             "#ed7953"
            ],
            [
             0.7777777777777778,
             "#fb9f3a"
            ],
            [
             0.8888888888888888,
             "#fdca26"
            ],
            [
             1,
             "#f0f921"
            ]
           ],
           "sequentialminus": [
            [
             0,
             "#0d0887"
            ],
            [
             0.1111111111111111,
             "#46039f"
            ],
            [
             0.2222222222222222,
             "#7201a8"
            ],
            [
             0.3333333333333333,
             "#9c179e"
            ],
            [
             0.4444444444444444,
             "#bd3786"
            ],
            [
             0.5555555555555556,
             "#d8576b"
            ],
            [
             0.6666666666666666,
             "#ed7953"
            ],
            [
             0.7777777777777778,
             "#fb9f3a"
            ],
            [
             0.8888888888888888,
             "#fdca26"
            ],
            [
             1,
             "#f0f921"
            ]
           ]
          },
          "colorway": [
           "#636efa",
           "#EF553B",
           "#00cc96",
           "#ab63fa",
           "#FFA15A",
           "#19d3f3",
           "#FF6692",
           "#B6E880",
           "#FF97FF",
           "#FECB52"
          ],
          "font": {
           "color": "#2a3f5f"
          },
          "geo": {
           "bgcolor": "white",
           "lakecolor": "white",
           "landcolor": "#E5ECF6",
           "showlakes": true,
           "showland": true,
           "subunitcolor": "white"
          },
          "hoverlabel": {
           "align": "left"
          },
          "hovermode": "closest",
          "mapbox": {
           "style": "light"
          },
          "paper_bgcolor": "white",
          "plot_bgcolor": "#E5ECF6",
          "polar": {
           "angularaxis": {
            "gridcolor": "white",
            "linecolor": "white",
            "ticks": ""
           },
           "bgcolor": "#E5ECF6",
           "radialaxis": {
            "gridcolor": "white",
            "linecolor": "white",
            "ticks": ""
           }
          },
          "scene": {
           "xaxis": {
            "backgroundcolor": "#E5ECF6",
            "gridcolor": "white",
            "gridwidth": 2,
            "linecolor": "white",
            "showbackground": true,
            "ticks": "",
            "zerolinecolor": "white"
           },
           "yaxis": {
            "backgroundcolor": "#E5ECF6",
            "gridcolor": "white",
            "gridwidth": 2,
            "linecolor": "white",
            "showbackground": true,
            "ticks": "",
            "zerolinecolor": "white"
           },
           "zaxis": {
            "backgroundcolor": "#E5ECF6",
            "gridcolor": "white",
            "gridwidth": 2,
            "linecolor": "white",
            "showbackground": true,
            "ticks": "",
            "zerolinecolor": "white"
           }
          },
          "shapedefaults": {
           "line": {
            "color": "#2a3f5f"
           }
          },
          "ternary": {
           "aaxis": {
            "gridcolor": "white",
            "linecolor": "white",
            "ticks": ""
           },
           "baxis": {
            "gridcolor": "white",
            "linecolor": "white",
            "ticks": ""
           },
           "bgcolor": "#E5ECF6",
           "caxis": {
            "gridcolor": "white",
            "linecolor": "white",
            "ticks": ""
           }
          },
          "title": {
           "x": 0.05
          },
          "xaxis": {
           "automargin": true,
           "gridcolor": "white",
           "linecolor": "white",
           "ticks": "",
           "title": {
            "standoff": 15
           },
           "zerolinecolor": "white",
           "zerolinewidth": 2
          },
          "yaxis": {
           "automargin": true,
           "gridcolor": "white",
           "linecolor": "white",
           "ticks": "",
           "title": {
            "standoff": 15
           },
           "zerolinecolor": "white",
           "zerolinewidth": 2
          }
         }
        },
        "title": {
         "text": "<b>In-cohort sociability: <u>dark phase</u></b>"
        },
        "width": 800,
        "xaxis": {
         "anchor": "y",
         "constrain": "domain",
         "domain": [
          0,
          1
         ],
         "scaleanchor": "y",
         "showspikes": true,
         "spikemode": "across"
        },
        "yaxis": {
         "anchor": "x",
         "autorange": "reversed",
         "constrain": "domain",
         "domain": [
          0,
          1
         ],
         "showspikes": true,
         "spikemode": "across"
        }
       }
      }
     },
     "metadata": {},
     "output_type": "display_data"
    },
    {
     "data": {
      "application/vnd.plotly.v1+json": {
       "config": {
        "plotlyServerURL": "https://plot.ly"
       },
       "data": [
        {
         "coloraxis": "coloraxis",
         "hovertemplate": "X: %{x}<br>Y: %{y}<br>%{z}",
         "name": "0",
         "type": "heatmap",
         "x": [
          "0627A81904",
          "325CE61A04",
          "352DE61A04",
          "7376E61A04",
          "75DFFF1904",
          "85EDFF1904",
          "956BA81904",
          "9A44E61A04",
          "A4939C1A04"
         ],
         "xaxis": "x",
         "y": [
          "0627A81904",
          "325CE61A04",
          "352DE61A04",
          "7376E61A04",
          "75DFFF1904",
          "85EDFF1904",
          "956BA81904",
          "9A44E61A04",
          "A4939C1A04"
         ],
         "yaxis": "y",
         "z": [
          [
           null,
           null,
           null,
           null,
           null,
           null,
           null,
           null,
           null
          ],
          [
           0.111,
           null,
           null,
           null,
           null,
           null,
           null,
           null,
           null
          ],
          [
           0.149,
           0.085,
           null,
           null,
           null,
           null,
           null,
           null,
           null
          ],
          [
           0.08,
           0.084,
           0.092,
           null,
           null,
           null,
           null,
           null,
           null
          ],
          [
           0.002,
           0.034,
           0.024,
           -0.021,
           null,
           null,
           null,
           null,
           null
          ],
          [
           0.097,
           0.039,
           0.227,
           0.016,
           0.096,
           null,
           null,
           null,
           null
          ],
          [
           0.161,
           0.058,
           0.295,
           0.025,
           0.043,
           0.247,
           null,
           null,
           null
          ],
          [
           0.111,
           0.119,
           0.289,
           0.099,
           0.112,
           0.234,
           0.27,
           null,
           null
          ],
          [
           0.001,
           -0.002,
           0.072,
           0.002,
           0.12,
           0.193,
           0.14,
           0.159,
           null
          ]
         ]
        }
       ],
       "frames": [
        {
         "data": [
          {
           "coloraxis": "coloraxis",
           "name": "0",
           "type": "heatmap",
           "x": [
            "0627A81904",
            "325CE61A04",
            "352DE61A04",
            "7376E61A04",
            "75DFFF1904",
            "85EDFF1904",
            "956BA81904",
            "9A44E61A04",
            "A4939C1A04"
           ],
           "y": [
            "0627A81904",
            "325CE61A04",
            "352DE61A04",
            "7376E61A04",
            "75DFFF1904",
            "85EDFF1904",
            "956BA81904",
            "9A44E61A04",
            "A4939C1A04"
           ],
           "z": [
            [
             null,
             null,
             null,
             null,
             null,
             null,
             null,
             null,
             null
            ],
            [
             0.111,
             null,
             null,
             null,
             null,
             null,
             null,
             null,
             null
            ],
            [
             0.149,
             0.085,
             null,
             null,
             null,
             null,
             null,
             null,
             null
            ],
            [
             0.08,
             0.084,
             0.092,
             null,
             null,
             null,
             null,
             null,
             null
            ],
            [
             0.002,
             0.034,
             0.024,
             -0.021,
             null,
             null,
             null,
             null,
             null
            ],
            [
             0.097,
             0.039,
             0.227,
             0.016,
             0.096,
             null,
             null,
             null,
             null
            ],
            [
             0.161,
             0.058,
             0.295,
             0.025,
             0.043,
             0.247,
             null,
             null,
             null
            ],
            [
             0.111,
             0.119,
             0.289,
             0.099,
             0.112,
             0.234,
             0.27,
             null,
             null
            ],
            [
             0.001,
             -0.002,
             0.072,
             0.002,
             0.12,
             0.193,
             0.14,
             0.159,
             null
            ]
           ]
          }
         ],
         "layout": {
          "coloraxis": {
           "cmax": 0.1611335360171789,
           "cmin": -0.06219747806375392,
           "colorscale": [
            [
             0,
             "rgb(255,247,236)"
            ],
            [
             0.125,
             "rgb(254,232,200)"
            ],
            [
             0.25,
             "rgb(253,212,158)"
            ],
            [
             0.375,
             "rgb(253,187,132)"
            ],
            [
             0.5,
             "rgb(252,141,89)"
            ],
            [
             0.625,
             "rgb(239,101,72)"
            ],
            [
             0.75,
             "rgb(215,48,31)"
            ],
            [
             0.875,
             "rgb(179,0,0)"
            ],
            [
             1,
             "rgb(127,0,0)"
            ]
           ]
          },
          "margin": {
           "t": 60
          },
          "xaxis": {
           "constrain": "domain",
           "scaleanchor": "y"
          },
          "yaxis": {
           "autorange": "reversed",
           "constrain": "domain"
          }
         },
         "name": "0"
        },
        {
         "data": [
          {
           "coloraxis": "coloraxis",
           "name": "1",
           "type": "heatmap",
           "x": [
            "0627A81904",
            "325CE61A04",
            "352DE61A04",
            "7376E61A04",
            "75DFFF1904",
            "85EDFF1904",
            "956BA81904",
            "9A44E61A04",
            "A4939C1A04"
           ],
           "y": [
            "0627A81904",
            "325CE61A04",
            "352DE61A04",
            "7376E61A04",
            "75DFFF1904",
            "85EDFF1904",
            "956BA81904",
            "9A44E61A04",
            "A4939C1A04"
           ],
           "z": [
            [
             null,
             null,
             null,
             null,
             null,
             null,
             null,
             null,
             null
            ],
            [
             -0.002,
             null,
             null,
             null,
             null,
             null,
             null,
             null,
             null
            ],
            [
             0.042,
             -0.013,
             null,
             null,
             null,
             null,
             null,
             null,
             null
            ],
            [
             0.015,
             0.032,
             0.011,
             null,
             null,
             null,
             null,
             null,
             null
            ],
            [
             0.028,
             0.025,
             0.112,
             0.061,
             null,
             null,
             null,
             null,
             null
            ],
            [
             -0.024,
             0.02,
             0.002,
             0.06,
             0.02,
             null,
             null,
             null,
             null
            ],
            [
             -0.009,
             -0.018,
             -0.014,
             -0.002,
             -0.012,
             -0.006,
             null,
             null,
             null
            ],
            [
             0.095,
             0.026,
             0.036,
             0.06,
             0.089,
             0.092,
             -0.028,
             null,
             null
            ],
            [
             -0.008,
             0.027,
             0.039,
             0.024,
             0.026,
             0.041,
             -0.015,
             0.064,
             null
            ]
           ]
          }
         ],
         "layout": {
          "coloraxis": {
           "cmax": 0.1611335360171789,
           "cmin": -0.06219747806375392,
           "colorscale": [
            [
             0,
             "rgb(255,247,236)"
            ],
            [
             0.125,
             "rgb(254,232,200)"
            ],
            [
             0.25,
             "rgb(253,212,158)"
            ],
            [
             0.375,
             "rgb(253,187,132)"
            ],
            [
             0.5,
             "rgb(252,141,89)"
            ],
            [
             0.625,
             "rgb(239,101,72)"
            ],
            [
             0.75,
             "rgb(215,48,31)"
            ],
            [
             0.875,
             "rgb(179,0,0)"
            ],
            [
             1,
             "rgb(127,0,0)"
            ]
           ]
          },
          "margin": {
           "t": 60
          },
          "xaxis": {
           "constrain": "domain",
           "scaleanchor": "y"
          },
          "yaxis": {
           "autorange": "reversed",
           "constrain": "domain"
          }
         },
         "name": "1"
        },
        {
         "data": [
          {
           "coloraxis": "coloraxis",
           "name": "2",
           "type": "heatmap",
           "x": [
            "0627A81904",
            "325CE61A04",
            "352DE61A04",
            "7376E61A04",
            "75DFFF1904",
            "85EDFF1904",
            "956BA81904",
            "9A44E61A04",
            "A4939C1A04"
           ],
           "y": [
            "0627A81904",
            "325CE61A04",
            "352DE61A04",
            "7376E61A04",
            "75DFFF1904",
            "85EDFF1904",
            "956BA81904",
            "9A44E61A04",
            "A4939C1A04"
           ],
           "z": [
            [
             null,
             null,
             null,
             null,
             null,
             null,
             null,
             null,
             null
            ],
            [
             0.023,
             null,
             null,
             null,
             null,
             null,
             null,
             null,
             null
            ],
            [
             -0.023,
             0.055,
             null,
             null,
             null,
             null,
             null,
             null,
             null
            ],
            [
             -0.011,
             0.018,
             -0.014,
             null,
             null,
             null,
             null,
             null,
             null
            ],
            [
             0.031,
             0.066,
             -0.013,
             0.046,
             null,
             null,
             null,
             null,
             null
            ],
            [
             0.071,
             0.03,
             -0.015,
             -0.036,
             0.012,
             null,
             null,
             null,
             null
            ],
            [
             0.037,
             0.042,
             -0.017,
             -0.016,
             0.033,
             0.032,
             null,
             null,
             null
            ],
            [
             0.069,
             0.015,
             -0.048,
             0.02,
             0.071,
             0.06,
             0.06,
             null,
             null
            ],
            [
             0.018,
             -0.018,
             -0.031,
             0.011,
             0.044,
             -0.018,
             0.059,
             0.063,
             null
            ]
           ]
          }
         ],
         "layout": {
          "coloraxis": {
           "cmax": 0.1611335360171789,
           "cmin": -0.06219747806375392,
           "colorscale": [
            [
             0,
             "rgb(255,247,236)"
            ],
            [
             0.125,
             "rgb(254,232,200)"
            ],
            [
             0.25,
             "rgb(253,212,158)"
            ],
            [
             0.375,
             "rgb(253,187,132)"
            ],
            [
             0.5,
             "rgb(252,141,89)"
            ],
            [
             0.625,
             "rgb(239,101,72)"
            ],
            [
             0.75,
             "rgb(215,48,31)"
            ],
            [
             0.875,
             "rgb(179,0,0)"
            ],
            [
             1,
             "rgb(127,0,0)"
            ]
           ]
          },
          "margin": {
           "t": 60
          },
          "xaxis": {
           "constrain": "domain",
           "scaleanchor": "y"
          },
          "yaxis": {
           "autorange": "reversed",
           "constrain": "domain"
          }
         },
         "name": "2"
        },
        {
         "data": [
          {
           "coloraxis": "coloraxis",
           "name": "3",
           "type": "heatmap",
           "x": [
            "0627A81904",
            "325CE61A04",
            "352DE61A04",
            "7376E61A04",
            "75DFFF1904",
            "85EDFF1904",
            "956BA81904",
            "9A44E61A04",
            "A4939C1A04"
           ],
           "y": [
            "0627A81904",
            "325CE61A04",
            "352DE61A04",
            "7376E61A04",
            "75DFFF1904",
            "85EDFF1904",
            "956BA81904",
            "9A44E61A04",
            "A4939C1A04"
           ],
           "z": [
            [
             null,
             null,
             null,
             null,
             null,
             null,
             null,
             null,
             null
            ],
            [
             0.006,
             null,
             null,
             null,
             null,
             null,
             null,
             null,
             null
            ],
            [
             0.142,
             0.028,
             null,
             null,
             null,
             null,
             null,
             null,
             null
            ],
            [
             0.021,
             -0.011,
             0.027,
             null,
             null,
             null,
             null,
             null,
             null
            ],
            [
             0.023,
             0.007,
             -0.003,
             -0.029,
             null,
             null,
             null,
             null,
             null
            ],
            [
             0.02,
             0.008,
             0.033,
             0.025,
             -0.012,
             null,
             null,
             null,
             null
            ],
            [
             0.033,
             -0.012,
             0.03,
             0,
             -0.009,
             0.033,
             null,
             null,
             null
            ],
            [
             0.034,
             0.004,
             0.014,
             0.022,
             -0.002,
             0.034,
             0.011,
             null,
             null
            ],
            [
             0.069,
             0.021,
             0.074,
             0.072,
             0.026,
             0.048,
             0.049,
             0.087,
             null
            ]
           ]
          }
         ],
         "layout": {
          "coloraxis": {
           "cmax": 0.1611335360171789,
           "cmin": -0.06219747806375392,
           "colorscale": [
            [
             0,
             "rgb(255,247,236)"
            ],
            [
             0.125,
             "rgb(254,232,200)"
            ],
            [
             0.25,
             "rgb(253,212,158)"
            ],
            [
             0.375,
             "rgb(253,187,132)"
            ],
            [
             0.5,
             "rgb(252,141,89)"
            ],
            [
             0.625,
             "rgb(239,101,72)"
            ],
            [
             0.75,
             "rgb(215,48,31)"
            ],
            [
             0.875,
             "rgb(179,0,0)"
            ],
            [
             1,
             "rgb(127,0,0)"
            ]
           ]
          },
          "margin": {
           "t": 60
          },
          "xaxis": {
           "constrain": "domain",
           "scaleanchor": "y"
          },
          "yaxis": {
           "autorange": "reversed",
           "constrain": "domain"
          }
         },
         "name": "3"
        },
        {
         "data": [
          {
           "coloraxis": "coloraxis",
           "name": "4",
           "type": "heatmap",
           "x": [
            "0627A81904",
            "325CE61A04",
            "352DE61A04",
            "7376E61A04",
            "75DFFF1904",
            "85EDFF1904",
            "956BA81904",
            "9A44E61A04",
            "A4939C1A04"
           ],
           "y": [
            "0627A81904",
            "325CE61A04",
            "352DE61A04",
            "7376E61A04",
            "75DFFF1904",
            "85EDFF1904",
            "956BA81904",
            "9A44E61A04",
            "A4939C1A04"
           ],
           "z": [
            [
             null,
             null,
             null,
             null,
             null,
             null,
             null,
             null,
             null
            ],
            [
             0.069,
             null,
             null,
             null,
             null,
             null,
             null,
             null,
             null
            ],
            [
             0.037,
             0.038,
             null,
             null,
             null,
             null,
             null,
             null,
             null
            ],
            [
             0.029,
             0.026,
             0.042,
             null,
             null,
             null,
             null,
             null,
             null
            ],
            [
             0.031,
             0.008,
             0.014,
             0.053,
             null,
             null,
             null,
             null,
             null
            ],
            [
             0.063,
             0.035,
             0.028,
             0.017,
             0.052,
             null,
             null,
             null,
             null
            ],
            [
             0.058,
             0.029,
             0.053,
             0.016,
             0.042,
             0.031,
             null,
             null,
             null
            ],
            [
             0.144,
             0.077,
             0.083,
             0.026,
             0.009,
             0.033,
             0.053,
             null,
             null
            ],
            [
             0.068,
             0.043,
             0.079,
             0.009,
             -0.014,
             0.008,
             0.066,
             0.072,
             null
            ]
           ]
          }
         ],
         "layout": {
          "coloraxis": {
           "cmax": 0.1611335360171789,
           "cmin": -0.06219747806375392,
           "colorscale": [
            [
             0,
             "rgb(255,247,236)"
            ],
            [
             0.125,
             "rgb(254,232,200)"
            ],
            [
             0.25,
             "rgb(253,212,158)"
            ],
            [
             0.375,
             "rgb(253,187,132)"
            ],
            [
             0.5,
             "rgb(252,141,89)"
            ],
            [
             0.625,
             "rgb(239,101,72)"
            ],
            [
             0.75,
             "rgb(215,48,31)"
            ],
            [
             0.875,
             "rgb(179,0,0)"
            ],
            [
             1,
             "rgb(127,0,0)"
            ]
           ]
          },
          "margin": {
           "t": 60
          },
          "xaxis": {
           "constrain": "domain",
           "scaleanchor": "y"
          },
          "yaxis": {
           "autorange": "reversed",
           "constrain": "domain"
          }
         },
         "name": "4"
        }
       ],
       "layout": {
        "coloraxis": {
         "cmax": 0.1611335360171789,
         "cmin": -0.06219747806375392,
         "colorscale": [
          [
           0,
           "rgb(255,247,236)"
          ],
          [
           0.125,
           "rgb(254,232,200)"
          ],
          [
           0.25,
           "rgb(253,212,158)"
          ],
          [
           0.375,
           "rgb(253,187,132)"
          ],
          [
           0.5,
           "rgb(252,141,89)"
          ],
          [
           0.625,
           "rgb(239,101,72)"
          ],
          [
           0.75,
           "rgb(215,48,31)"
          ],
          [
           0.875,
           "rgb(179,0,0)"
          ],
          [
           1,
           "rgb(127,0,0)"
          ]
         ]
        },
        "height": 800,
        "margin": {
         "t": 60
        },
        "plot_bgcolor": "white",
        "sliders": [
         {
          "active": 0,
          "currentvalue": {
           "prefix": "Phase="
          },
          "len": 0.9,
          "pad": {
           "b": 10,
           "t": 60
          },
          "steps": [
           {
            "args": [
             [
              "0"
             ],
             {
              "frame": {
               "duration": 0,
               "redraw": true
              },
              "fromcurrent": true,
              "mode": "immediate",
              "transition": {
               "duration": 0,
               "easing": "linear"
              }
             }
            ],
            "label": "0",
            "method": "animate"
           },
           {
            "args": [
             [
              "1"
             ],
             {
              "frame": {
               "duration": 0,
               "redraw": true
              },
              "fromcurrent": true,
              "mode": "immediate",
              "transition": {
               "duration": 0,
               "easing": "linear"
              }
             }
            ],
            "label": "1",
            "method": "animate"
           },
           {
            "args": [
             [
              "2"
             ],
             {
              "frame": {
               "duration": 0,
               "redraw": true
              },
              "fromcurrent": true,
              "mode": "immediate",
              "transition": {
               "duration": 0,
               "easing": "linear"
              }
             }
            ],
            "label": "2",
            "method": "animate"
           },
           {
            "args": [
             [
              "3"
             ],
             {
              "frame": {
               "duration": 0,
               "redraw": true
              },
              "fromcurrent": true,
              "mode": "immediate",
              "transition": {
               "duration": 0,
               "easing": "linear"
              }
             }
            ],
            "label": "3",
            "method": "animate"
           },
           {
            "args": [
             [
              "4"
             ],
             {
              "frame": {
               "duration": 0,
               "redraw": true
              },
              "fromcurrent": true,
              "mode": "immediate",
              "transition": {
               "duration": 0,
               "easing": "linear"
              }
             }
            ],
            "label": "4",
            "method": "animate"
           }
          ],
          "x": 0.1,
          "xanchor": "left",
          "y": 0,
          "yanchor": "top"
         }
        ],
        "template": {
         "data": {
          "bar": [
           {
            "error_x": {
             "color": "#2a3f5f"
            },
            "error_y": {
             "color": "#2a3f5f"
            },
            "marker": {
             "line": {
              "color": "#E5ECF6",
              "width": 0.5
             },
             "pattern": {
              "fillmode": "overlay",
              "size": 10,
              "solidity": 0.2
             }
            },
            "type": "bar"
           }
          ],
          "barpolar": [
           {
            "marker": {
             "line": {
              "color": "#E5ECF6",
              "width": 0.5
             },
             "pattern": {
              "fillmode": "overlay",
              "size": 10,
              "solidity": 0.2
             }
            },
            "type": "barpolar"
           }
          ],
          "carpet": [
           {
            "aaxis": {
             "endlinecolor": "#2a3f5f",
             "gridcolor": "white",
             "linecolor": "white",
             "minorgridcolor": "white",
             "startlinecolor": "#2a3f5f"
            },
            "baxis": {
             "endlinecolor": "#2a3f5f",
             "gridcolor": "white",
             "linecolor": "white",
             "minorgridcolor": "white",
             "startlinecolor": "#2a3f5f"
            },
            "type": "carpet"
           }
          ],
          "choropleth": [
           {
            "colorbar": {
             "outlinewidth": 0,
             "ticks": ""
            },
            "type": "choropleth"
           }
          ],
          "contour": [
           {
            "colorbar": {
             "outlinewidth": 0,
             "ticks": ""
            },
            "colorscale": [
             [
              0,
              "#0d0887"
             ],
             [
              0.1111111111111111,
              "#46039f"
             ],
             [
              0.2222222222222222,
              "#7201a8"
             ],
             [
              0.3333333333333333,
              "#9c179e"
             ],
             [
              0.4444444444444444,
              "#bd3786"
             ],
             [
              0.5555555555555556,
              "#d8576b"
             ],
             [
              0.6666666666666666,
              "#ed7953"
             ],
             [
              0.7777777777777778,
              "#fb9f3a"
             ],
             [
              0.8888888888888888,
              "#fdca26"
             ],
             [
              1,
              "#f0f921"
             ]
            ],
            "type": "contour"
           }
          ],
          "contourcarpet": [
           {
            "colorbar": {
             "outlinewidth": 0,
             "ticks": ""
            },
            "type": "contourcarpet"
           }
          ],
          "heatmap": [
           {
            "colorbar": {
             "outlinewidth": 0,
             "ticks": ""
            },
            "colorscale": [
             [
              0,
              "#0d0887"
             ],
             [
              0.1111111111111111,
              "#46039f"
             ],
             [
              0.2222222222222222,
              "#7201a8"
             ],
             [
              0.3333333333333333,
              "#9c179e"
             ],
             [
              0.4444444444444444,
              "#bd3786"
             ],
             [
              0.5555555555555556,
              "#d8576b"
             ],
             [
              0.6666666666666666,
              "#ed7953"
             ],
             [
              0.7777777777777778,
              "#fb9f3a"
             ],
             [
              0.8888888888888888,
              "#fdca26"
             ],
             [
              1,
              "#f0f921"
             ]
            ],
            "type": "heatmap"
           }
          ],
          "heatmapgl": [
           {
            "colorbar": {
             "outlinewidth": 0,
             "ticks": ""
            },
            "colorscale": [
             [
              0,
              "#0d0887"
             ],
             [
              0.1111111111111111,
              "#46039f"
             ],
             [
              0.2222222222222222,
              "#7201a8"
             ],
             [
              0.3333333333333333,
              "#9c179e"
             ],
             [
              0.4444444444444444,
              "#bd3786"
             ],
             [
              0.5555555555555556,
              "#d8576b"
             ],
             [
              0.6666666666666666,
              "#ed7953"
             ],
             [
              0.7777777777777778,
              "#fb9f3a"
             ],
             [
              0.8888888888888888,
              "#fdca26"
             ],
             [
              1,
              "#f0f921"
             ]
            ],
            "type": "heatmapgl"
           }
          ],
          "histogram": [
           {
            "marker": {
             "pattern": {
              "fillmode": "overlay",
              "size": 10,
              "solidity": 0.2
             }
            },
            "type": "histogram"
           }
          ],
          "histogram2d": [
           {
            "colorbar": {
             "outlinewidth": 0,
             "ticks": ""
            },
            "colorscale": [
             [
              0,
              "#0d0887"
             ],
             [
              0.1111111111111111,
              "#46039f"
             ],
             [
              0.2222222222222222,
              "#7201a8"
             ],
             [
              0.3333333333333333,
              "#9c179e"
             ],
             [
              0.4444444444444444,
              "#bd3786"
             ],
             [
              0.5555555555555556,
              "#d8576b"
             ],
             [
              0.6666666666666666,
              "#ed7953"
             ],
             [
              0.7777777777777778,
              "#fb9f3a"
             ],
             [
              0.8888888888888888,
              "#fdca26"
             ],
             [
              1,
              "#f0f921"
             ]
            ],
            "type": "histogram2d"
           }
          ],
          "histogram2dcontour": [
           {
            "colorbar": {
             "outlinewidth": 0,
             "ticks": ""
            },
            "colorscale": [
             [
              0,
              "#0d0887"
             ],
             [
              0.1111111111111111,
              "#46039f"
             ],
             [
              0.2222222222222222,
              "#7201a8"
             ],
             [
              0.3333333333333333,
              "#9c179e"
             ],
             [
              0.4444444444444444,
              "#bd3786"
             ],
             [
              0.5555555555555556,
              "#d8576b"
             ],
             [
              0.6666666666666666,
              "#ed7953"
             ],
             [
              0.7777777777777778,
              "#fb9f3a"
             ],
             [
              0.8888888888888888,
              "#fdca26"
             ],
             [
              1,
              "#f0f921"
             ]
            ],
            "type": "histogram2dcontour"
           }
          ],
          "mesh3d": [
           {
            "colorbar": {
             "outlinewidth": 0,
             "ticks": ""
            },
            "type": "mesh3d"
           }
          ],
          "parcoords": [
           {
            "line": {
             "colorbar": {
              "outlinewidth": 0,
              "ticks": ""
             }
            },
            "type": "parcoords"
           }
          ],
          "pie": [
           {
            "automargin": true,
            "type": "pie"
           }
          ],
          "scatter": [
           {
            "fillpattern": {
             "fillmode": "overlay",
             "size": 10,
             "solidity": 0.2
            },
            "type": "scatter"
           }
          ],
          "scatter3d": [
           {
            "line": {
             "colorbar": {
              "outlinewidth": 0,
              "ticks": ""
             }
            },
            "marker": {
             "colorbar": {
              "outlinewidth": 0,
              "ticks": ""
             }
            },
            "type": "scatter3d"
           }
          ],
          "scattercarpet": [
           {
            "marker": {
             "colorbar": {
              "outlinewidth": 0,
              "ticks": ""
             }
            },
            "type": "scattercarpet"
           }
          ],
          "scattergeo": [
           {
            "marker": {
             "colorbar": {
              "outlinewidth": 0,
              "ticks": ""
             }
            },
            "type": "scattergeo"
           }
          ],
          "scattergl": [
           {
            "marker": {
             "colorbar": {
              "outlinewidth": 0,
              "ticks": ""
             }
            },
            "type": "scattergl"
           }
          ],
          "scattermapbox": [
           {
            "marker": {
             "colorbar": {
              "outlinewidth": 0,
              "ticks": ""
             }
            },
            "type": "scattermapbox"
           }
          ],
          "scatterpolar": [
           {
            "marker": {
             "colorbar": {
              "outlinewidth": 0,
              "ticks": ""
             }
            },
            "type": "scatterpolar"
           }
          ],
          "scatterpolargl": [
           {
            "marker": {
             "colorbar": {
              "outlinewidth": 0,
              "ticks": ""
             }
            },
            "type": "scatterpolargl"
           }
          ],
          "scatterternary": [
           {
            "marker": {
             "colorbar": {
              "outlinewidth": 0,
              "ticks": ""
             }
            },
            "type": "scatterternary"
           }
          ],
          "surface": [
           {
            "colorbar": {
             "outlinewidth": 0,
             "ticks": ""
            },
            "colorscale": [
             [
              0,
              "#0d0887"
             ],
             [
              0.1111111111111111,
              "#46039f"
             ],
             [
              0.2222222222222222,
              "#7201a8"
             ],
             [
              0.3333333333333333,
              "#9c179e"
             ],
             [
              0.4444444444444444,
              "#bd3786"
             ],
             [
              0.5555555555555556,
              "#d8576b"
             ],
             [
              0.6666666666666666,
              "#ed7953"
             ],
             [
              0.7777777777777778,
              "#fb9f3a"
             ],
             [
              0.8888888888888888,
              "#fdca26"
             ],
             [
              1,
              "#f0f921"
             ]
            ],
            "type": "surface"
           }
          ],
          "table": [
           {
            "cells": {
             "fill": {
              "color": "#EBF0F8"
             },
             "line": {
              "color": "white"
             }
            },
            "header": {
             "fill": {
              "color": "#C8D4E3"
             },
             "line": {
              "color": "white"
             }
            },
            "type": "table"
           }
          ]
         },
         "layout": {
          "annotationdefaults": {
           "arrowcolor": "#2a3f5f",
           "arrowhead": 0,
           "arrowwidth": 1
          },
          "autotypenumbers": "strict",
          "coloraxis": {
           "colorbar": {
            "outlinewidth": 0,
            "ticks": ""
           }
          },
          "colorscale": {
           "diverging": [
            [
             0,
             "#8e0152"
            ],
            [
             0.1,
             "#c51b7d"
            ],
            [
             0.2,
             "#de77ae"
            ],
            [
             0.3,
             "#f1b6da"
            ],
            [
             0.4,
             "#fde0ef"
            ],
            [
             0.5,
             "#f7f7f7"
            ],
            [
             0.6,
             "#e6f5d0"
            ],
            [
             0.7,
             "#b8e186"
            ],
            [
             0.8,
             "#7fbc41"
            ],
            [
             0.9,
             "#4d9221"
            ],
            [
             1,
             "#276419"
            ]
           ],
           "sequential": [
            [
             0,
             "#0d0887"
            ],
            [
             0.1111111111111111,
             "#46039f"
            ],
            [
             0.2222222222222222,
             "#7201a8"
            ],
            [
             0.3333333333333333,
             "#9c179e"
            ],
            [
             0.4444444444444444,
             "#bd3786"
            ],
            [
             0.5555555555555556,
             "#d8576b"
            ],
            [
             0.6666666666666666,
             "#ed7953"
            ],
            [
             0.7777777777777778,
             "#fb9f3a"
            ],
            [
             0.8888888888888888,
             "#fdca26"
            ],
            [
             1,
             "#f0f921"
            ]
           ],
           "sequentialminus": [
            [
             0,
             "#0d0887"
            ],
            [
             0.1111111111111111,
             "#46039f"
            ],
            [
             0.2222222222222222,
             "#7201a8"
            ],
            [
             0.3333333333333333,
             "#9c179e"
            ],
            [
             0.4444444444444444,
             "#bd3786"
            ],
            [
             0.5555555555555556,
             "#d8576b"
            ],
            [
             0.6666666666666666,
             "#ed7953"
            ],
            [
             0.7777777777777778,
             "#fb9f3a"
            ],
            [
             0.8888888888888888,
             "#fdca26"
            ],
            [
             1,
             "#f0f921"
            ]
           ]
          },
          "colorway": [
           "#636efa",
           "#EF553B",
           "#00cc96",
           "#ab63fa",
           "#FFA15A",
           "#19d3f3",
           "#FF6692",
           "#B6E880",
           "#FF97FF",
           "#FECB52"
          ],
          "font": {
           "color": "#2a3f5f"
          },
          "geo": {
           "bgcolor": "white",
           "lakecolor": "white",
           "landcolor": "#E5ECF6",
           "showlakes": true,
           "showland": true,
           "subunitcolor": "white"
          },
          "hoverlabel": {
           "align": "left"
          },
          "hovermode": "closest",
          "mapbox": {
           "style": "light"
          },
          "paper_bgcolor": "white",
          "plot_bgcolor": "#E5ECF6",
          "polar": {
           "angularaxis": {
            "gridcolor": "white",
            "linecolor": "white",
            "ticks": ""
           },
           "bgcolor": "#E5ECF6",
           "radialaxis": {
            "gridcolor": "white",
            "linecolor": "white",
            "ticks": ""
           }
          },
          "scene": {
           "xaxis": {
            "backgroundcolor": "#E5ECF6",
            "gridcolor": "white",
            "gridwidth": 2,
            "linecolor": "white",
            "showbackground": true,
            "ticks": "",
            "zerolinecolor": "white"
           },
           "yaxis": {
            "backgroundcolor": "#E5ECF6",
            "gridcolor": "white",
            "gridwidth": 2,
            "linecolor": "white",
            "showbackground": true,
            "ticks": "",
            "zerolinecolor": "white"
           },
           "zaxis": {
            "backgroundcolor": "#E5ECF6",
            "gridcolor": "white",
            "gridwidth": 2,
            "linecolor": "white",
            "showbackground": true,
            "ticks": "",
            "zerolinecolor": "white"
           }
          },
          "shapedefaults": {
           "line": {
            "color": "#2a3f5f"
           }
          },
          "ternary": {
           "aaxis": {
            "gridcolor": "white",
            "linecolor": "white",
            "ticks": ""
           },
           "baxis": {
            "gridcolor": "white",
            "linecolor": "white",
            "ticks": ""
           },
           "bgcolor": "#E5ECF6",
           "caxis": {
            "gridcolor": "white",
            "linecolor": "white",
            "ticks": ""
           }
          },
          "title": {
           "x": 0.05
          },
          "xaxis": {
           "automargin": true,
           "gridcolor": "white",
           "linecolor": "white",
           "ticks": "",
           "title": {
            "standoff": 15
           },
           "zerolinecolor": "white",
           "zerolinewidth": 2
          },
          "yaxis": {
           "automargin": true,
           "gridcolor": "white",
           "linecolor": "white",
           "ticks": "",
           "title": {
            "standoff": 15
           },
           "zerolinecolor": "white",
           "zerolinewidth": 2
          }
         }
        },
        "title": {
         "text": "<b>In-cohort sociability: <u>light phase</u></b>"
        },
        "width": 800,
        "xaxis": {
         "anchor": "y",
         "constrain": "domain",
         "domain": [
          0,
          1
         ],
         "scaleanchor": "y",
         "showspikes": true,
         "spikemode": "across"
        },
        "yaxis": {
         "anchor": "x",
         "autorange": "reversed",
         "constrain": "domain",
         "domain": [
          0,
          1
         ],
         "showspikes": true,
         "spikemode": "across"
        }
       }
      }
     },
     "metadata": {},
     "output_type": "display_data"
    }
   ],
   "source": [
    "deepecohab.plot_network_graph(cfp, node_size_multiplier=2, edge_width_multiplier=0.4, cmap=\"bluered\")\n",
    "deepecohab.plot_cage_position_time(cfp)\n",
    "deepecohab.plot_cage_position_visits(cfp)\n",
    "deepecohab.plot_time_together(cfp)\n",
    "deepecohab.plot_pairwise_encounters(cfp)\n",
    "deepecohab.plot_incohort_sociability(cfp)\n",
    "deepecohab.plot_chasings(cfp)"
   ]
  },
  {
   "cell_type": "code",
   "execution_count": null,
   "metadata": {},
   "outputs": [
    {
     "data": {
      "application/vnd.plotly.v1+json": {
       "config": {
        "plotlyServerURL": "https://plot.ly"
       },
       "data": [
        {
         "coloraxis": "coloraxis",
         "hovertemplate": "X: %{x}<br>Y: %{y}<br>Number: %{z}",
         "name": "0",
         "type": "heatmap",
         "x": [
          "0627A81904",
          "325CE61A04",
          "352DE61A04",
          "7376E61A04",
          "75DFFF1904",
          "85EDFF1904",
          "956BA81904",
          "9A44E61A04",
          "A4939C1A04"
         ],
         "xaxis": "x",
         "y": [
          "0627A81904",
          "325CE61A04",
          "352DE61A04",
          "7376E61A04",
          "75DFFF1904",
          "85EDFF1904",
          "956BA81904",
          "9A44E61A04",
          "A4939C1A04"
         ],
         "yaxis": "y",
         "z": [
          [
           null,
           5,
           1,
           6,
           3,
           0,
           0,
           0,
           0
          ],
          [
           24,
           null,
           0,
           2,
           0,
           0,
           0,
           1,
           0
          ],
          [
           24,
           2,
           null,
           3,
           1,
           2,
           1,
           0,
           0
          ],
          [
           20,
           0,
           1,
           null,
           0,
           0,
           1,
           1,
           0
          ],
          [
           13,
           0,
           3,
           2,
           null,
           0,
           5,
           1,
           0
          ],
          [
           19,
           3,
           1,
           2,
           1,
           null,
           4,
           1,
           0
          ],
          [
           51,
           29,
           4,
           7,
           2,
           14,
           null,
           0,
           0
          ],
          [
           35,
           9,
           2,
           0,
           0,
           0,
           1,
           null,
           0
          ],
          [
           4,
           1,
           0,
           2,
           0,
           0,
           1,
           1,
           null
          ]
         ]
        }
       ],
       "frames": [
        {
         "data": [
          {
           "coloraxis": "coloraxis",
           "name": "0",
           "type": "heatmap",
           "x": [
            "0627A81904",
            "325CE61A04",
            "352DE61A04",
            "7376E61A04",
            "75DFFF1904",
            "85EDFF1904",
            "956BA81904",
            "9A44E61A04",
            "A4939C1A04"
           ],
           "y": [
            "0627A81904",
            "325CE61A04",
            "352DE61A04",
            "7376E61A04",
            "75DFFF1904",
            "85EDFF1904",
            "956BA81904",
            "9A44E61A04",
            "A4939C1A04"
           ],
           "z": [
            [
             null,
             5,
             1,
             6,
             3,
             0,
             0,
             0,
             0
            ],
            [
             24,
             null,
             0,
             2,
             0,
             0,
             0,
             1,
             0
            ],
            [
             24,
             2,
             null,
             3,
             1,
             2,
             1,
             0,
             0
            ],
            [
             20,
             0,
             1,
             null,
             0,
             0,
             1,
             1,
             0
            ],
            [
             13,
             0,
             3,
             2,
             null,
             0,
             5,
             1,
             0
            ],
            [
             19,
             3,
             1,
             2,
             1,
             null,
             4,
             1,
             0
            ],
            [
             51,
             29,
             4,
             7,
             2,
             14,
             null,
             0,
             0
            ],
            [
             35,
             9,
             2,
             0,
             0,
             0,
             1,
             null,
             0
            ],
            [
             4,
             1,
             0,
             2,
             0,
             0,
             1,
             1,
             null
            ]
           ]
          }
         ],
         "layout": {
          "coloraxis": {
           "cmax": 51,
           "cmin": 0,
           "colorscale": [
            [
             0,
             "rgb(255,247,236)"
            ],
            [
             0.125,
             "rgb(254,232,200)"
            ],
            [
             0.25,
             "rgb(253,212,158)"
            ],
            [
             0.375,
             "rgb(253,187,132)"
            ],
            [
             0.5,
             "rgb(252,141,89)"
            ],
            [
             0.625,
             "rgb(239,101,72)"
            ],
            [
             0.75,
             "rgb(215,48,31)"
            ],
            [
             0.875,
             "rgb(179,0,0)"
            ],
            [
             1,
             "rgb(127,0,0)"
            ]
           ]
          },
          "margin": {
           "t": 60
          },
          "xaxis": {
           "constrain": "domain",
           "scaleanchor": "y"
          },
          "yaxis": {
           "autorange": "reversed",
           "constrain": "domain"
          }
         },
         "name": "0"
        },
        {
         "data": [
          {
           "coloraxis": "coloraxis",
           "name": "1",
           "type": "heatmap",
           "x": [
            "0627A81904",
            "325CE61A04",
            "352DE61A04",
            "7376E61A04",
            "75DFFF1904",
            "85EDFF1904",
            "956BA81904",
            "9A44E61A04",
            "A4939C1A04"
           ],
           "y": [
            "0627A81904",
            "325CE61A04",
            "352DE61A04",
            "7376E61A04",
            "75DFFF1904",
            "85EDFF1904",
            "956BA81904",
            "9A44E61A04",
            "A4939C1A04"
           ],
           "z": [
            [
             null,
             3,
             1,
             1,
             0,
             1,
             1,
             0,
             0
            ],
            [
             29,
             null,
             1,
             1,
             0,
             0,
             1,
             0,
             0
            ],
            [
             2,
             1,
             null,
             0,
             2,
             0,
             0,
             2,
             0
            ],
            [
             2,
             0,
             0,
             null,
             0,
             0,
             1,
             0,
             0
            ],
            [
             9,
             4,
             0,
             2,
             null,
             1,
             0,
             1,
             0
            ],
            [
             17,
             2,
             1,
             0,
             0,
             null,
             0,
             1,
             0
            ],
            [
             28,
             31,
             0,
             1,
             1,
             3,
             null,
             0,
             0
            ],
            [
             17,
             24,
             0,
             1,
             0,
             0,
             0,
             null,
             0
            ],
            [
             2,
             7,
             0,
             0,
             3,
             0,
             0,
             0,
             null
            ]
           ]
          }
         ],
         "layout": {
          "coloraxis": {
           "cmax": 51,
           "cmin": 0,
           "colorscale": [
            [
             0,
             "rgb(255,247,236)"
            ],
            [
             0.125,
             "rgb(254,232,200)"
            ],
            [
             0.25,
             "rgb(253,212,158)"
            ],
            [
             0.375,
             "rgb(253,187,132)"
            ],
            [
             0.5,
             "rgb(252,141,89)"
            ],
            [
             0.625,
             "rgb(239,101,72)"
            ],
            [
             0.75,
             "rgb(215,48,31)"
            ],
            [
             0.875,
             "rgb(179,0,0)"
            ],
            [
             1,
             "rgb(127,0,0)"
            ]
           ]
          },
          "margin": {
           "t": 60
          },
          "xaxis": {
           "constrain": "domain",
           "scaleanchor": "y"
          },
          "yaxis": {
           "autorange": "reversed",
           "constrain": "domain"
          }
         },
         "name": "1"
        },
        {
         "data": [
          {
           "coloraxis": "coloraxis",
           "name": "2",
           "type": "heatmap",
           "x": [
            "0627A81904",
            "325CE61A04",
            "352DE61A04",
            "7376E61A04",
            "75DFFF1904",
            "85EDFF1904",
            "956BA81904",
            "9A44E61A04",
            "A4939C1A04"
           ],
           "y": [
            "0627A81904",
            "325CE61A04",
            "352DE61A04",
            "7376E61A04",
            "75DFFF1904",
            "85EDFF1904",
            "956BA81904",
            "9A44E61A04",
            "A4939C1A04"
           ],
           "z": [
            [
             null,
             3,
             1,
             2,
             0,
             1,
             1,
             1,
             0
            ],
            [
             7,
             null,
             2,
             4,
             0,
             0,
             0,
             0,
             0
            ],
            [
             11,
             0,
             null,
             4,
             0,
             0,
             1,
             0,
             1
            ],
            [
             2,
             0,
             1,
             null,
             1,
             1,
             1,
             2,
             0
            ],
            [
             2,
             2,
             6,
             3,
             null,
             1,
             0,
             0,
             0
            ],
            [
             3,
             0,
             8,
             3,
             1,
             null,
             1,
             0,
             1
            ],
            [
             21,
             5,
             8,
             0,
             8,
             1,
             null,
             0,
             0
            ],
            [
             11,
             7,
             13,
             5,
             0,
             1,
             0,
             null,
             0
            ],
            [
             1,
             2,
             0,
             1,
             4,
             0,
             1,
             0,
             null
            ]
           ]
          }
         ],
         "layout": {
          "coloraxis": {
           "cmax": 51,
           "cmin": 0,
           "colorscale": [
            [
             0,
             "rgb(255,247,236)"
            ],
            [
             0.125,
             "rgb(254,232,200)"
            ],
            [
             0.25,
             "rgb(253,212,158)"
            ],
            [
             0.375,
             "rgb(253,187,132)"
            ],
            [
             0.5,
             "rgb(252,141,89)"
            ],
            [
             0.625,
             "rgb(239,101,72)"
            ],
            [
             0.75,
             "rgb(215,48,31)"
            ],
            [
             0.875,
             "rgb(179,0,0)"
            ],
            [
             1,
             "rgb(127,0,0)"
            ]
           ]
          },
          "margin": {
           "t": 60
          },
          "xaxis": {
           "constrain": "domain",
           "scaleanchor": "y"
          },
          "yaxis": {
           "autorange": "reversed",
           "constrain": "domain"
          }
         },
         "name": "2"
        },
        {
         "data": [
          {
           "coloraxis": "coloraxis",
           "name": "3",
           "type": "heatmap",
           "x": [
            "0627A81904",
            "325CE61A04",
            "352DE61A04",
            "7376E61A04",
            "75DFFF1904",
            "85EDFF1904",
            "956BA81904",
            "9A44E61A04",
            "A4939C1A04"
           ],
           "y": [
            "0627A81904",
            "325CE61A04",
            "352DE61A04",
            "7376E61A04",
            "75DFFF1904",
            "85EDFF1904",
            "956BA81904",
            "9A44E61A04",
            "A4939C1A04"
           ],
           "z": [
            [
             null,
             0,
             1,
             3,
             0,
             11,
             0,
             0,
             0
            ],
            [
             7,
             null,
             2,
             3,
             0,
             0,
             0,
             0,
             0
            ],
            [
             2,
             2,
             null,
             4,
             0,
             1,
             0,
             0,
             1
            ],
            [
             4,
             3,
             2,
             null,
             0,
             0,
             0,
             0,
             0
            ],
            [
             3,
             4,
             1,
             7,
             null,
             1,
             0,
             0,
             0
            ],
            [
             7,
             3,
             3,
             5,
             0,
             null,
             2,
             0,
             1
            ],
            [
             12,
             3,
             8,
             1,
             0,
             1,
             null,
             0,
             0
            ],
            [
             0,
             3,
             0,
             1,
             0,
             0,
             0,
             null,
             0
            ],
            [
             0,
             10,
             0,
             1,
             3,
             0,
             0,
             0,
             null
            ]
           ]
          }
         ],
         "layout": {
          "coloraxis": {
           "cmax": 51,
           "cmin": 0,
           "colorscale": [
            [
             0,
             "rgb(255,247,236)"
            ],
            [
             0.125,
             "rgb(254,232,200)"
            ],
            [
             0.25,
             "rgb(253,212,158)"
            ],
            [
             0.375,
             "rgb(253,187,132)"
            ],
            [
             0.5,
             "rgb(252,141,89)"
            ],
            [
             0.625,
             "rgb(239,101,72)"
            ],
            [
             0.75,
             "rgb(215,48,31)"
            ],
            [
             0.875,
             "rgb(179,0,0)"
            ],
            [
             1,
             "rgb(127,0,0)"
            ]
           ]
          },
          "margin": {
           "t": 60
          },
          "xaxis": {
           "constrain": "domain",
           "scaleanchor": "y"
          },
          "yaxis": {
           "autorange": "reversed",
           "constrain": "domain"
          }
         },
         "name": "3"
        },
        {
         "data": [
          {
           "coloraxis": "coloraxis",
           "name": "4",
           "type": "heatmap",
           "x": [
            "0627A81904",
            "325CE61A04",
            "352DE61A04",
            "7376E61A04",
            "75DFFF1904",
            "85EDFF1904",
            "956BA81904",
            "9A44E61A04",
            "A4939C1A04"
           ],
           "y": [
            "0627A81904",
            "325CE61A04",
            "352DE61A04",
            "7376E61A04",
            "75DFFF1904",
            "85EDFF1904",
            "956BA81904",
            "9A44E61A04",
            "A4939C1A04"
           ],
           "z": [
            [
             null,
             0,
             1,
             0,
             0,
             0,
             0,
             0,
             0
            ],
            [
             7,
             null,
             1,
             1,
             1,
             0,
             1,
             0,
             0
            ],
            [
             6,
             1,
             null,
             0,
             0,
             0,
             1,
             0,
             0
            ],
            [
             3,
             1,
             0,
             null,
             1,
             0,
             2,
             0,
             0
            ],
            [
             5,
             0,
             1,
             0,
             null,
             0,
             1,
             0,
             0
            ],
            [
             4,
             0,
             1,
             0,
             0,
             null,
             0,
             0,
             0
            ],
            [
             15,
             12,
             2,
             1,
             1,
             1,
             null,
             0,
             0
            ],
            [
             4,
             1,
             0,
             0,
             2,
             2,
             0,
             null,
             0
            ],
            [
             5,
             6,
             0,
             0,
             7,
             0,
             0,
             0,
             null
            ]
           ]
          }
         ],
         "layout": {
          "coloraxis": {
           "cmax": 51,
           "cmin": 0,
           "colorscale": [
            [
             0,
             "rgb(255,247,236)"
            ],
            [
             0.125,
             "rgb(254,232,200)"
            ],
            [
             0.25,
             "rgb(253,212,158)"
            ],
            [
             0.375,
             "rgb(253,187,132)"
            ],
            [
             0.5,
             "rgb(252,141,89)"
            ],
            [
             0.625,
             "rgb(239,101,72)"
            ],
            [
             0.75,
             "rgb(215,48,31)"
            ],
            [
             0.875,
             "rgb(179,0,0)"
            ],
            [
             1,
             "rgb(127,0,0)"
            ]
           ]
          },
          "margin": {
           "t": 60
          },
          "xaxis": {
           "constrain": "domain",
           "scaleanchor": "y"
          },
          "yaxis": {
           "autorange": "reversed",
           "constrain": "domain"
          }
         },
         "name": "4"
        },
        {
         "data": [
          {
           "coloraxis": "coloraxis",
           "name": "5",
           "type": "heatmap",
           "x": [
            "0627A81904",
            "325CE61A04",
            "352DE61A04",
            "7376E61A04",
            "75DFFF1904",
            "85EDFF1904",
            "956BA81904",
            "9A44E61A04",
            "A4939C1A04"
           ],
           "y": [
            "0627A81904",
            "325CE61A04",
            "352DE61A04",
            "7376E61A04",
            "75DFFF1904",
            "85EDFF1904",
            "956BA81904",
            "9A44E61A04",
            "A4939C1A04"
           ],
           "z": [
            [
             null,
             2,
             0,
             1,
             0,
             4,
             2,
             1,
             0
            ],
            [
             5,
             null,
             1,
             1,
             1,
             0,
             0,
             0,
             0
            ],
            [
             2,
             0,
             null,
             3,
             0,
             1,
             2,
             0,
             0
            ],
            [
             4,
             1,
             2,
             null,
             0,
             0,
             1,
             1,
             0
            ],
            [
             4,
             1,
             2,
             2,
             null,
             1,
             0,
             0,
             0
            ],
            [
             5,
             2,
             0,
             0,
             0,
             null,
             0,
             3,
             0
            ],
            [
             21,
             4,
             0,
             2,
             7,
             7,
             null,
             0,
             0
            ],
            [
             6,
             6,
             1,
             1,
             4,
             1,
             0,
             null,
             0
            ],
            [
             0,
             11,
             0,
             0,
             4,
             0,
             0,
             0,
             null
            ]
           ]
          }
         ],
         "layout": {
          "coloraxis": {
           "cmax": 51,
           "cmin": 0,
           "colorscale": [
            [
             0,
             "rgb(255,247,236)"
            ],
            [
             0.125,
             "rgb(254,232,200)"
            ],
            [
             0.25,
             "rgb(253,212,158)"
            ],
            [
             0.375,
             "rgb(253,187,132)"
            ],
            [
             0.5,
             "rgb(252,141,89)"
            ],
            [
             0.625,
             "rgb(239,101,72)"
            ],
            [
             0.75,
             "rgb(215,48,31)"
            ],
            [
             0.875,
             "rgb(179,0,0)"
            ],
            [
             1,
             "rgb(127,0,0)"
            ]
           ]
          },
          "margin": {
           "t": 60
          },
          "xaxis": {
           "constrain": "domain",
           "scaleanchor": "y"
          },
          "yaxis": {
           "autorange": "reversed",
           "constrain": "domain"
          }
         },
         "name": "5"
        }
       ],
       "layout": {
        "coloraxis": {
         "cmax": 51,
         "cmin": 0,
         "colorscale": [
          [
           0,
           "rgb(255,247,236)"
          ],
          [
           0.125,
           "rgb(254,232,200)"
          ],
          [
           0.25,
           "rgb(253,212,158)"
          ],
          [
           0.375,
           "rgb(253,187,132)"
          ],
          [
           0.5,
           "rgb(252,141,89)"
          ],
          [
           0.625,
           "rgb(239,101,72)"
          ],
          [
           0.75,
           "rgb(215,48,31)"
          ],
          [
           0.875,
           "rgb(179,0,0)"
          ],
          [
           1,
           "rgb(127,0,0)"
          ]
         ]
        },
        "height": 800,
        "margin": {
         "t": 60
        },
        "plot_bgcolor": "white",
        "sliders": [
         {
          "active": 0,
          "currentvalue": {
           "prefix": "Phase="
          },
          "len": 0.9,
          "pad": {
           "b": 10,
           "t": 60
          },
          "steps": [
           {
            "args": [
             [
              "0"
             ],
             {
              "frame": {
               "duration": 0,
               "redraw": true
              },
              "fromcurrent": true,
              "mode": "immediate",
              "transition": {
               "duration": 0,
               "easing": "linear"
              }
             }
            ],
            "label": "0",
            "method": "animate"
           },
           {
            "args": [
             [
              "1"
             ],
             {
              "frame": {
               "duration": 0,
               "redraw": true
              },
              "fromcurrent": true,
              "mode": "immediate",
              "transition": {
               "duration": 0,
               "easing": "linear"
              }
             }
            ],
            "label": "1",
            "method": "animate"
           },
           {
            "args": [
             [
              "2"
             ],
             {
              "frame": {
               "duration": 0,
               "redraw": true
              },
              "fromcurrent": true,
              "mode": "immediate",
              "transition": {
               "duration": 0,
               "easing": "linear"
              }
             }
            ],
            "label": "2",
            "method": "animate"
           },
           {
            "args": [
             [
              "3"
             ],
             {
              "frame": {
               "duration": 0,
               "redraw": true
              },
              "fromcurrent": true,
              "mode": "immediate",
              "transition": {
               "duration": 0,
               "easing": "linear"
              }
             }
            ],
            "label": "3",
            "method": "animate"
           },
           {
            "args": [
             [
              "4"
             ],
             {
              "frame": {
               "duration": 0,
               "redraw": true
              },
              "fromcurrent": true,
              "mode": "immediate",
              "transition": {
               "duration": 0,
               "easing": "linear"
              }
             }
            ],
            "label": "4",
            "method": "animate"
           },
           {
            "args": [
             [
              "5"
             ],
             {
              "frame": {
               "duration": 0,
               "redraw": true
              },
              "fromcurrent": true,
              "mode": "immediate",
              "transition": {
               "duration": 0,
               "easing": "linear"
              }
             }
            ],
            "label": "5",
            "method": "animate"
           }
          ],
          "x": 0.1,
          "xanchor": "left",
          "y": 0,
          "yanchor": "top"
         }
        ],
        "template": {
         "data": {
          "bar": [
           {
            "error_x": {
             "color": "#2a3f5f"
            },
            "error_y": {
             "color": "#2a3f5f"
            },
            "marker": {
             "line": {
              "color": "#E5ECF6",
              "width": 0.5
             },
             "pattern": {
              "fillmode": "overlay",
              "size": 10,
              "solidity": 0.2
             }
            },
            "type": "bar"
           }
          ],
          "barpolar": [
           {
            "marker": {
             "line": {
              "color": "#E5ECF6",
              "width": 0.5
             },
             "pattern": {
              "fillmode": "overlay",
              "size": 10,
              "solidity": 0.2
             }
            },
            "type": "barpolar"
           }
          ],
          "carpet": [
           {
            "aaxis": {
             "endlinecolor": "#2a3f5f",
             "gridcolor": "white",
             "linecolor": "white",
             "minorgridcolor": "white",
             "startlinecolor": "#2a3f5f"
            },
            "baxis": {
             "endlinecolor": "#2a3f5f",
             "gridcolor": "white",
             "linecolor": "white",
             "minorgridcolor": "white",
             "startlinecolor": "#2a3f5f"
            },
            "type": "carpet"
           }
          ],
          "choropleth": [
           {
            "colorbar": {
             "outlinewidth": 0,
             "ticks": ""
            },
            "type": "choropleth"
           }
          ],
          "contour": [
           {
            "colorbar": {
             "outlinewidth": 0,
             "ticks": ""
            },
            "colorscale": [
             [
              0,
              "#0d0887"
             ],
             [
              0.1111111111111111,
              "#46039f"
             ],
             [
              0.2222222222222222,
              "#7201a8"
             ],
             [
              0.3333333333333333,
              "#9c179e"
             ],
             [
              0.4444444444444444,
              "#bd3786"
             ],
             [
              0.5555555555555556,
              "#d8576b"
             ],
             [
              0.6666666666666666,
              "#ed7953"
             ],
             [
              0.7777777777777778,
              "#fb9f3a"
             ],
             [
              0.8888888888888888,
              "#fdca26"
             ],
             [
              1,
              "#f0f921"
             ]
            ],
            "type": "contour"
           }
          ],
          "contourcarpet": [
           {
            "colorbar": {
             "outlinewidth": 0,
             "ticks": ""
            },
            "type": "contourcarpet"
           }
          ],
          "heatmap": [
           {
            "colorbar": {
             "outlinewidth": 0,
             "ticks": ""
            },
            "colorscale": [
             [
              0,
              "#0d0887"
             ],
             [
              0.1111111111111111,
              "#46039f"
             ],
             [
              0.2222222222222222,
              "#7201a8"
             ],
             [
              0.3333333333333333,
              "#9c179e"
             ],
             [
              0.4444444444444444,
              "#bd3786"
             ],
             [
              0.5555555555555556,
              "#d8576b"
             ],
             [
              0.6666666666666666,
              "#ed7953"
             ],
             [
              0.7777777777777778,
              "#fb9f3a"
             ],
             [
              0.8888888888888888,
              "#fdca26"
             ],
             [
              1,
              "#f0f921"
             ]
            ],
            "type": "heatmap"
           }
          ],
          "heatmapgl": [
           {
            "colorbar": {
             "outlinewidth": 0,
             "ticks": ""
            },
            "colorscale": [
             [
              0,
              "#0d0887"
             ],
             [
              0.1111111111111111,
              "#46039f"
             ],
             [
              0.2222222222222222,
              "#7201a8"
             ],
             [
              0.3333333333333333,
              "#9c179e"
             ],
             [
              0.4444444444444444,
              "#bd3786"
             ],
             [
              0.5555555555555556,
              "#d8576b"
             ],
             [
              0.6666666666666666,
              "#ed7953"
             ],
             [
              0.7777777777777778,
              "#fb9f3a"
             ],
             [
              0.8888888888888888,
              "#fdca26"
             ],
             [
              1,
              "#f0f921"
             ]
            ],
            "type": "heatmapgl"
           }
          ],
          "histogram": [
           {
            "marker": {
             "pattern": {
              "fillmode": "overlay",
              "size": 10,
              "solidity": 0.2
             }
            },
            "type": "histogram"
           }
          ],
          "histogram2d": [
           {
            "colorbar": {
             "outlinewidth": 0,
             "ticks": ""
            },
            "colorscale": [
             [
              0,
              "#0d0887"
             ],
             [
              0.1111111111111111,
              "#46039f"
             ],
             [
              0.2222222222222222,
              "#7201a8"
             ],
             [
              0.3333333333333333,
              "#9c179e"
             ],
             [
              0.4444444444444444,
              "#bd3786"
             ],
             [
              0.5555555555555556,
              "#d8576b"
             ],
             [
              0.6666666666666666,
              "#ed7953"
             ],
             [
              0.7777777777777778,
              "#fb9f3a"
             ],
             [
              0.8888888888888888,
              "#fdca26"
             ],
             [
              1,
              "#f0f921"
             ]
            ],
            "type": "histogram2d"
           }
          ],
          "histogram2dcontour": [
           {
            "colorbar": {
             "outlinewidth": 0,
             "ticks": ""
            },
            "colorscale": [
             [
              0,
              "#0d0887"
             ],
             [
              0.1111111111111111,
              "#46039f"
             ],
             [
              0.2222222222222222,
              "#7201a8"
             ],
             [
              0.3333333333333333,
              "#9c179e"
             ],
             [
              0.4444444444444444,
              "#bd3786"
             ],
             [
              0.5555555555555556,
              "#d8576b"
             ],
             [
              0.6666666666666666,
              "#ed7953"
             ],
             [
              0.7777777777777778,
              "#fb9f3a"
             ],
             [
              0.8888888888888888,
              "#fdca26"
             ],
             [
              1,
              "#f0f921"
             ]
            ],
            "type": "histogram2dcontour"
           }
          ],
          "mesh3d": [
           {
            "colorbar": {
             "outlinewidth": 0,
             "ticks": ""
            },
            "type": "mesh3d"
           }
          ],
          "parcoords": [
           {
            "line": {
             "colorbar": {
              "outlinewidth": 0,
              "ticks": ""
             }
            },
            "type": "parcoords"
           }
          ],
          "pie": [
           {
            "automargin": true,
            "type": "pie"
           }
          ],
          "scatter": [
           {
            "fillpattern": {
             "fillmode": "overlay",
             "size": 10,
             "solidity": 0.2
            },
            "type": "scatter"
           }
          ],
          "scatter3d": [
           {
            "line": {
             "colorbar": {
              "outlinewidth": 0,
              "ticks": ""
             }
            },
            "marker": {
             "colorbar": {
              "outlinewidth": 0,
              "ticks": ""
             }
            },
            "type": "scatter3d"
           }
          ],
          "scattercarpet": [
           {
            "marker": {
             "colorbar": {
              "outlinewidth": 0,
              "ticks": ""
             }
            },
            "type": "scattercarpet"
           }
          ],
          "scattergeo": [
           {
            "marker": {
             "colorbar": {
              "outlinewidth": 0,
              "ticks": ""
             }
            },
            "type": "scattergeo"
           }
          ],
          "scattergl": [
           {
            "marker": {
             "colorbar": {
              "outlinewidth": 0,
              "ticks": ""
             }
            },
            "type": "scattergl"
           }
          ],
          "scattermapbox": [
           {
            "marker": {
             "colorbar": {
              "outlinewidth": 0,
              "ticks": ""
             }
            },
            "type": "scattermapbox"
           }
          ],
          "scatterpolar": [
           {
            "marker": {
             "colorbar": {
              "outlinewidth": 0,
              "ticks": ""
             }
            },
            "type": "scatterpolar"
           }
          ],
          "scatterpolargl": [
           {
            "marker": {
             "colorbar": {
              "outlinewidth": 0,
              "ticks": ""
             }
            },
            "type": "scatterpolargl"
           }
          ],
          "scatterternary": [
           {
            "marker": {
             "colorbar": {
              "outlinewidth": 0,
              "ticks": ""
             }
            },
            "type": "scatterternary"
           }
          ],
          "surface": [
           {
            "colorbar": {
             "outlinewidth": 0,
             "ticks": ""
            },
            "colorscale": [
             [
              0,
              "#0d0887"
             ],
             [
              0.1111111111111111,
              "#46039f"
             ],
             [
              0.2222222222222222,
              "#7201a8"
             ],
             [
              0.3333333333333333,
              "#9c179e"
             ],
             [
              0.4444444444444444,
              "#bd3786"
             ],
             [
              0.5555555555555556,
              "#d8576b"
             ],
             [
              0.6666666666666666,
              "#ed7953"
             ],
             [
              0.7777777777777778,
              "#fb9f3a"
             ],
             [
              0.8888888888888888,
              "#fdca26"
             ],
             [
              1,
              "#f0f921"
             ]
            ],
            "type": "surface"
           }
          ],
          "table": [
           {
            "cells": {
             "fill": {
              "color": "#EBF0F8"
             },
             "line": {
              "color": "white"
             }
            },
            "header": {
             "fill": {
              "color": "#C8D4E3"
             },
             "line": {
              "color": "white"
             }
            },
            "type": "table"
           }
          ]
         },
         "layout": {
          "annotationdefaults": {
           "arrowcolor": "#2a3f5f",
           "arrowhead": 0,
           "arrowwidth": 1
          },
          "autotypenumbers": "strict",
          "coloraxis": {
           "colorbar": {
            "outlinewidth": 0,
            "ticks": ""
           }
          },
          "colorscale": {
           "diverging": [
            [
             0,
             "#8e0152"
            ],
            [
             0.1,
             "#c51b7d"
            ],
            [
             0.2,
             "#de77ae"
            ],
            [
             0.3,
             "#f1b6da"
            ],
            [
             0.4,
             "#fde0ef"
            ],
            [
             0.5,
             "#f7f7f7"
            ],
            [
             0.6,
             "#e6f5d0"
            ],
            [
             0.7,
             "#b8e186"
            ],
            [
             0.8,
             "#7fbc41"
            ],
            [
             0.9,
             "#4d9221"
            ],
            [
             1,
             "#276419"
            ]
           ],
           "sequential": [
            [
             0,
             "#0d0887"
            ],
            [
             0.1111111111111111,
             "#46039f"
            ],
            [
             0.2222222222222222,
             "#7201a8"
            ],
            [
             0.3333333333333333,
             "#9c179e"
            ],
            [
             0.4444444444444444,
             "#bd3786"
            ],
            [
             0.5555555555555556,
             "#d8576b"
            ],
            [
             0.6666666666666666,
             "#ed7953"
            ],
            [
             0.7777777777777778,
             "#fb9f3a"
            ],
            [
             0.8888888888888888,
             "#fdca26"
            ],
            [
             1,
             "#f0f921"
            ]
           ],
           "sequentialminus": [
            [
             0,
             "#0d0887"
            ],
            [
             0.1111111111111111,
             "#46039f"
            ],
            [
             0.2222222222222222,
             "#7201a8"
            ],
            [
             0.3333333333333333,
             "#9c179e"
            ],
            [
             0.4444444444444444,
             "#bd3786"
            ],
            [
             0.5555555555555556,
             "#d8576b"
            ],
            [
             0.6666666666666666,
             "#ed7953"
            ],
            [
             0.7777777777777778,
             "#fb9f3a"
            ],
            [
             0.8888888888888888,
             "#fdca26"
            ],
            [
             1,
             "#f0f921"
            ]
           ]
          },
          "colorway": [
           "#636efa",
           "#EF553B",
           "#00cc96",
           "#ab63fa",
           "#FFA15A",
           "#19d3f3",
           "#FF6692",
           "#B6E880",
           "#FF97FF",
           "#FECB52"
          ],
          "font": {
           "color": "#2a3f5f"
          },
          "geo": {
           "bgcolor": "white",
           "lakecolor": "white",
           "landcolor": "#E5ECF6",
           "showlakes": true,
           "showland": true,
           "subunitcolor": "white"
          },
          "hoverlabel": {
           "align": "left"
          },
          "hovermode": "closest",
          "mapbox": {
           "style": "light"
          },
          "paper_bgcolor": "white",
          "plot_bgcolor": "#E5ECF6",
          "polar": {
           "angularaxis": {
            "gridcolor": "white",
            "linecolor": "white",
            "ticks": ""
           },
           "bgcolor": "#E5ECF6",
           "radialaxis": {
            "gridcolor": "white",
            "linecolor": "white",
            "ticks": ""
           }
          },
          "scene": {
           "xaxis": {
            "backgroundcolor": "#E5ECF6",
            "gridcolor": "white",
            "gridwidth": 2,
            "linecolor": "white",
            "showbackground": true,
            "ticks": "",
            "zerolinecolor": "white"
           },
           "yaxis": {
            "backgroundcolor": "#E5ECF6",
            "gridcolor": "white",
            "gridwidth": 2,
            "linecolor": "white",
            "showbackground": true,
            "ticks": "",
            "zerolinecolor": "white"
           },
           "zaxis": {
            "backgroundcolor": "#E5ECF6",
            "gridcolor": "white",
            "gridwidth": 2,
            "linecolor": "white",
            "showbackground": true,
            "ticks": "",
            "zerolinecolor": "white"
           }
          },
          "shapedefaults": {
           "line": {
            "color": "#2a3f5f"
           }
          },
          "ternary": {
           "aaxis": {
            "gridcolor": "white",
            "linecolor": "white",
            "ticks": ""
           },
           "baxis": {
            "gridcolor": "white",
            "linecolor": "white",
            "ticks": ""
           },
           "bgcolor": "#E5ECF6",
           "caxis": {
            "gridcolor": "white",
            "linecolor": "white",
            "ticks": ""
           }
          },
          "title": {
           "x": 0.05
          },
          "xaxis": {
           "automargin": true,
           "gridcolor": "white",
           "linecolor": "white",
           "ticks": "",
           "title": {
            "standoff": 15
           },
           "zerolinecolor": "white",
           "zerolinewidth": 2
          },
          "yaxis": {
           "automargin": true,
           "gridcolor": "white",
           "linecolor": "white",
           "ticks": "",
           "title": {
            "standoff": 15
           },
           "zerolinecolor": "white",
           "zerolinewidth": 2
          }
         }
        },
        "title": {
         "text": "<b>Number of chasings: <u>dark phase</u></b>"
        },
        "width": 800,
        "xaxis": {
         "anchor": "y",
         "constrain": "domain",
         "domain": [
          0,
          1
         ],
         "scaleanchor": "y",
         "showspikes": true,
         "spikemode": "across"
        },
        "yaxis": {
         "anchor": "x",
         "autorange": "reversed",
         "constrain": "domain",
         "domain": [
          0,
          1
         ],
         "showspikes": true,
         "spikemode": "across"
        }
       }
      }
     },
     "metadata": {},
     "output_type": "display_data"
    },
    {
     "data": {
      "application/vnd.plotly.v1+json": {
       "config": {
        "plotlyServerURL": "https://plot.ly"
       },
       "data": [
        {
         "coloraxis": "coloraxis",
         "hovertemplate": "X: %{x}<br>Y: %{y}<br>Number: %{z}",
         "name": "0",
         "type": "heatmap",
         "x": [
          "0627A81904",
          "325CE61A04",
          "352DE61A04",
          "7376E61A04",
          "75DFFF1904",
          "85EDFF1904",
          "956BA81904",
          "9A44E61A04",
          "A4939C1A04"
         ],
         "xaxis": "x",
         "y": [
          "0627A81904",
          "325CE61A04",
          "352DE61A04",
          "7376E61A04",
          "75DFFF1904",
          "85EDFF1904",
          "956BA81904",
          "9A44E61A04",
          "A4939C1A04"
         ],
         "yaxis": "y",
         "z": [
          [
           null,
           1,
           3,
           0,
           2,
           0,
           1,
           0,
           0
          ],
          [
           7,
           null,
           0,
           4,
           0,
           0,
           0,
           0,
           0
          ],
          [
           8,
           0,
           null,
           2,
           0,
           1,
           0,
           0,
           0
          ],
          [
           9,
           0,
           0,
           null,
           0,
           0,
           1,
           0,
           1
          ],
          [
           0,
           2,
           0,
           2,
           null,
           0,
           2,
           2,
           0
          ],
          [
           14,
           0,
           1,
           0,
           0,
           null,
           1,
           1,
           1
          ],
          [
           20,
           7,
           2,
           1,
           4,
           2,
           null,
           0,
           0
          ],
          [
           14,
           2,
           0,
           4,
           2,
           0,
           0,
           null,
           2
          ],
          [
           1,
           2,
           1,
           0,
           1,
           0,
           0,
           0,
           null
          ]
         ]
        }
       ],
       "frames": [
        {
         "data": [
          {
           "coloraxis": "coloraxis",
           "name": "0",
           "type": "heatmap",
           "x": [
            "0627A81904",
            "325CE61A04",
            "352DE61A04",
            "7376E61A04",
            "75DFFF1904",
            "85EDFF1904",
            "956BA81904",
            "9A44E61A04",
            "A4939C1A04"
           ],
           "y": [
            "0627A81904",
            "325CE61A04",
            "352DE61A04",
            "7376E61A04",
            "75DFFF1904",
            "85EDFF1904",
            "956BA81904",
            "9A44E61A04",
            "A4939C1A04"
           ],
           "z": [
            [
             null,
             1,
             3,
             0,
             2,
             0,
             1,
             0,
             0
            ],
            [
             7,
             null,
             0,
             4,
             0,
             0,
             0,
             0,
             0
            ],
            [
             8,
             0,
             null,
             2,
             0,
             1,
             0,
             0,
             0
            ],
            [
             9,
             0,
             0,
             null,
             0,
             0,
             1,
             0,
             1
            ],
            [
             0,
             2,
             0,
             2,
             null,
             0,
             2,
             2,
             0
            ],
            [
             14,
             0,
             1,
             0,
             0,
             null,
             1,
             1,
             1
            ],
            [
             20,
             7,
             2,
             1,
             4,
             2,
             null,
             0,
             0
            ],
            [
             14,
             2,
             0,
             4,
             2,
             0,
             0,
             null,
             2
            ],
            [
             1,
             2,
             1,
             0,
             1,
             0,
             0,
             0,
             null
            ]
           ]
          }
         ],
         "layout": {
          "coloraxis": {
           "cmax": 51,
           "cmin": 0,
           "colorscale": [
            [
             0,
             "rgb(255,247,236)"
            ],
            [
             0.125,
             "rgb(254,232,200)"
            ],
            [
             0.25,
             "rgb(253,212,158)"
            ],
            [
             0.375,
             "rgb(253,187,132)"
            ],
            [
             0.5,
             "rgb(252,141,89)"
            ],
            [
             0.625,
             "rgb(239,101,72)"
            ],
            [
             0.75,
             "rgb(215,48,31)"
            ],
            [
             0.875,
             "rgb(179,0,0)"
            ],
            [
             1,
             "rgb(127,0,0)"
            ]
           ]
          },
          "margin": {
           "t": 60
          },
          "xaxis": {
           "constrain": "domain",
           "scaleanchor": "y"
          },
          "yaxis": {
           "autorange": "reversed",
           "constrain": "domain"
          }
         },
         "name": "0"
        },
        {
         "data": [
          {
           "coloraxis": "coloraxis",
           "name": "1",
           "type": "heatmap",
           "x": [
            "0627A81904",
            "325CE61A04",
            "352DE61A04",
            "7376E61A04",
            "75DFFF1904",
            "85EDFF1904",
            "956BA81904",
            "9A44E61A04",
            "A4939C1A04"
           ],
           "y": [
            "0627A81904",
            "325CE61A04",
            "352DE61A04",
            "7376E61A04",
            "75DFFF1904",
            "85EDFF1904",
            "956BA81904",
            "9A44E61A04",
            "A4939C1A04"
           ],
           "z": [
            [
             null,
             5,
             4,
             1,
             0,
             0,
             1,
             4,
             0
            ],
            [
             20,
             null,
             1,
             0,
             0,
             0,
             1,
             0,
             0
            ],
            [
             6,
             3,
             null,
             0,
             0,
             0,
             0,
             0,
             0
            ],
            [
             0,
             2,
             0,
             null,
             0,
             0,
             0,
             0,
             1
            ],
            [
             4,
             1,
             0,
             0,
             null,
             0,
             0,
             0,
             0
            ],
            [
             8,
             4,
             1,
             0,
             0,
             null,
             0,
             0,
             0
            ],
            [
             3,
             15,
             1,
             0,
             0,
             0,
             null,
             0,
             0
            ],
            [
             6,
             2,
             2,
             0,
             2,
             0,
             0,
             null,
             0
            ],
            [
             1,
             4,
             1,
             0,
             2,
             0,
             1,
             0,
             null
            ]
           ]
          }
         ],
         "layout": {
          "coloraxis": {
           "cmax": 51,
           "cmin": 0,
           "colorscale": [
            [
             0,
             "rgb(255,247,236)"
            ],
            [
             0.125,
             "rgb(254,232,200)"
            ],
            [
             0.25,
             "rgb(253,212,158)"
            ],
            [
             0.375,
             "rgb(253,187,132)"
            ],
            [
             0.5,
             "rgb(252,141,89)"
            ],
            [
             0.625,
             "rgb(239,101,72)"
            ],
            [
             0.75,
             "rgb(215,48,31)"
            ],
            [
             0.875,
             "rgb(179,0,0)"
            ],
            [
             1,
             "rgb(127,0,0)"
            ]
           ]
          },
          "margin": {
           "t": 60
          },
          "xaxis": {
           "constrain": "domain",
           "scaleanchor": "y"
          },
          "yaxis": {
           "autorange": "reversed",
           "constrain": "domain"
          }
         },
         "name": "1"
        },
        {
         "data": [
          {
           "coloraxis": "coloraxis",
           "name": "2",
           "type": "heatmap",
           "x": [
            "0627A81904",
            "325CE61A04",
            "352DE61A04",
            "7376E61A04",
            "75DFFF1904",
            "85EDFF1904",
            "956BA81904",
            "9A44E61A04",
            "A4939C1A04"
           ],
           "y": [
            "0627A81904",
            "325CE61A04",
            "352DE61A04",
            "7376E61A04",
            "75DFFF1904",
            "85EDFF1904",
            "956BA81904",
            "9A44E61A04",
            "A4939C1A04"
           ],
           "z": [
            [
             null,
             2,
             1,
             4,
             0,
             0,
             0,
             0,
             1
            ],
            [
             2,
             null,
             0,
             2,
             1,
             0,
             0,
             0,
             0
            ],
            [
             5,
             0,
             null,
             0,
             1,
             1,
             1,
             0,
             0
            ],
            [
             7,
             0,
             1,
             null,
             0,
             1,
             1,
             0,
             1
            ],
            [
             2,
             0,
             1,
             4,
             null,
             2,
             0,
             0,
             0
            ],
            [
             3,
             1,
             0,
             1,
             0,
             null,
             0,
             0,
             0
            ],
            [
             13,
             10,
             6,
             2,
             3,
             1,
             null,
             0,
             0
            ],
            [
             3,
             4,
             1,
             1,
             0,
             0,
             0,
             null,
             0
            ],
            [
             1,
             5,
             2,
             0,
             0,
             0,
             0,
             0,
             null
            ]
           ]
          }
         ],
         "layout": {
          "coloraxis": {
           "cmax": 51,
           "cmin": 0,
           "colorscale": [
            [
             0,
             "rgb(255,247,236)"
            ],
            [
             0.125,
             "rgb(254,232,200)"
            ],
            [
             0.25,
             "rgb(253,212,158)"
            ],
            [
             0.375,
             "rgb(253,187,132)"
            ],
            [
             0.5,
             "rgb(252,141,89)"
            ],
            [
             0.625,
             "rgb(239,101,72)"
            ],
            [
             0.75,
             "rgb(215,48,31)"
            ],
            [
             0.875,
             "rgb(179,0,0)"
            ],
            [
             1,
             "rgb(127,0,0)"
            ]
           ]
          },
          "margin": {
           "t": 60
          },
          "xaxis": {
           "constrain": "domain",
           "scaleanchor": "y"
          },
          "yaxis": {
           "autorange": "reversed",
           "constrain": "domain"
          }
         },
         "name": "2"
        },
        {
         "data": [
          {
           "coloraxis": "coloraxis",
           "name": "3",
           "type": "heatmap",
           "x": [
            "0627A81904",
            "325CE61A04",
            "352DE61A04",
            "7376E61A04",
            "75DFFF1904",
            "85EDFF1904",
            "956BA81904",
            "9A44E61A04",
            "A4939C1A04"
           ],
           "y": [
            "0627A81904",
            "325CE61A04",
            "352DE61A04",
            "7376E61A04",
            "75DFFF1904",
            "85EDFF1904",
            "956BA81904",
            "9A44E61A04",
            "A4939C1A04"
           ],
           "z": [
            [
             null,
             0,
             11,
             0,
             0,
             0,
             0,
             0,
             0
            ],
            [
             4,
             null,
             3,
             0,
             0,
             0,
             0,
             0,
             0
            ],
            [
             3,
             2,
             null,
             1,
             0,
             0,
             1,
             0,
             0
            ],
            [
             2,
             0,
             1,
             null,
             0,
             0,
             2,
             0,
             0
            ],
            [
             1,
             2,
             0,
             0,
             null,
             0,
             0,
             0,
             0
            ],
            [
             6,
             0,
             1,
             2,
             0,
             null,
             0,
             0,
             0
            ],
            [
             4,
             4,
             0,
             2,
             0,
             0,
             null,
             0,
             0
            ],
            [
             2,
             0,
             1,
             0,
             0,
             0,
             0,
             null,
             0
            ],
            [
             0,
             0,
             0,
             1,
             1,
             0,
             0,
             0,
             null
            ]
           ]
          }
         ],
         "layout": {
          "coloraxis": {
           "cmax": 51,
           "cmin": 0,
           "colorscale": [
            [
             0,
             "rgb(255,247,236)"
            ],
            [
             0.125,
             "rgb(254,232,200)"
            ],
            [
             0.25,
             "rgb(253,212,158)"
            ],
            [
             0.375,
             "rgb(253,187,132)"
            ],
            [
             0.5,
             "rgb(252,141,89)"
            ],
            [
             0.625,
             "rgb(239,101,72)"
            ],
            [
             0.75,
             "rgb(215,48,31)"
            ],
            [
             0.875,
             "rgb(179,0,0)"
            ],
            [
             1,
             "rgb(127,0,0)"
            ]
           ]
          },
          "margin": {
           "t": 60
          },
          "xaxis": {
           "constrain": "domain",
           "scaleanchor": "y"
          },
          "yaxis": {
           "autorange": "reversed",
           "constrain": "domain"
          }
         },
         "name": "3"
        },
        {
         "data": [
          {
           "coloraxis": "coloraxis",
           "name": "4",
           "type": "heatmap",
           "x": [
            "0627A81904",
            "325CE61A04",
            "352DE61A04",
            "7376E61A04",
            "75DFFF1904",
            "85EDFF1904",
            "956BA81904",
            "9A44E61A04",
            "A4939C1A04"
           ],
           "y": [
            "0627A81904",
            "325CE61A04",
            "352DE61A04",
            "7376E61A04",
            "75DFFF1904",
            "85EDFF1904",
            "956BA81904",
            "9A44E61A04",
            "A4939C1A04"
           ],
           "z": [
            [
             null,
             3,
             0,
             0,
             1,
             0,
             0,
             0,
             0
            ],
            [
             0,
             null,
             1,
             0,
             0,
             0,
             0,
             1,
             0
            ],
            [
             4,
             2,
             null,
             0,
             0,
             1,
             0,
             0,
             0
            ],
            [
             0,
             0,
             1,
             null,
             0,
             0,
             0,
             0,
             0
            ],
            [
             1,
             3,
             2,
             0,
             null,
             1,
             0,
             0,
             0
            ],
            [
             2,
             1,
             1,
             2,
             0,
             null,
             0,
             0,
             0
            ],
            [
             19,
             7,
             4,
             0,
             3,
             2,
             null,
             0,
             0
            ],
            [
             0,
             0,
             2,
             1,
             0,
             1,
             0,
             null,
             0
            ],
            [
             0,
             5,
             0,
             0,
             1,
             0,
             0,
             0,
             null
            ]
           ]
          }
         ],
         "layout": {
          "coloraxis": {
           "cmax": 51,
           "cmin": 0,
           "colorscale": [
            [
             0,
             "rgb(255,247,236)"
            ],
            [
             0.125,
             "rgb(254,232,200)"
            ],
            [
             0.25,
             "rgb(253,212,158)"
            ],
            [
             0.375,
             "rgb(253,187,132)"
            ],
            [
             0.5,
             "rgb(252,141,89)"
            ],
            [
             0.625,
             "rgb(239,101,72)"
            ],
            [
             0.75,
             "rgb(215,48,31)"
            ],
            [
             0.875,
             "rgb(179,0,0)"
            ],
            [
             1,
             "rgb(127,0,0)"
            ]
           ]
          },
          "margin": {
           "t": 60
          },
          "xaxis": {
           "constrain": "domain",
           "scaleanchor": "y"
          },
          "yaxis": {
           "autorange": "reversed",
           "constrain": "domain"
          }
         },
         "name": "4"
        }
       ],
       "layout": {
        "coloraxis": {
         "cmax": 51,
         "cmin": 0,
         "colorscale": [
          [
           0,
           "rgb(255,247,236)"
          ],
          [
           0.125,
           "rgb(254,232,200)"
          ],
          [
           0.25,
           "rgb(253,212,158)"
          ],
          [
           0.375,
           "rgb(253,187,132)"
          ],
          [
           0.5,
           "rgb(252,141,89)"
          ],
          [
           0.625,
           "rgb(239,101,72)"
          ],
          [
           0.75,
           "rgb(215,48,31)"
          ],
          [
           0.875,
           "rgb(179,0,0)"
          ],
          [
           1,
           "rgb(127,0,0)"
          ]
         ]
        },
        "height": 800,
        "margin": {
         "t": 60
        },
        "plot_bgcolor": "white",
        "sliders": [
         {
          "active": 0,
          "currentvalue": {
           "prefix": "Phase="
          },
          "len": 0.9,
          "pad": {
           "b": 10,
           "t": 60
          },
          "steps": [
           {
            "args": [
             [
              "0"
             ],
             {
              "frame": {
               "duration": 0,
               "redraw": true
              },
              "fromcurrent": true,
              "mode": "immediate",
              "transition": {
               "duration": 0,
               "easing": "linear"
              }
             }
            ],
            "label": "0",
            "method": "animate"
           },
           {
            "args": [
             [
              "1"
             ],
             {
              "frame": {
               "duration": 0,
               "redraw": true
              },
              "fromcurrent": true,
              "mode": "immediate",
              "transition": {
               "duration": 0,
               "easing": "linear"
              }
             }
            ],
            "label": "1",
            "method": "animate"
           },
           {
            "args": [
             [
              "2"
             ],
             {
              "frame": {
               "duration": 0,
               "redraw": true
              },
              "fromcurrent": true,
              "mode": "immediate",
              "transition": {
               "duration": 0,
               "easing": "linear"
              }
             }
            ],
            "label": "2",
            "method": "animate"
           },
           {
            "args": [
             [
              "3"
             ],
             {
              "frame": {
               "duration": 0,
               "redraw": true
              },
              "fromcurrent": true,
              "mode": "immediate",
              "transition": {
               "duration": 0,
               "easing": "linear"
              }
             }
            ],
            "label": "3",
            "method": "animate"
           },
           {
            "args": [
             [
              "4"
             ],
             {
              "frame": {
               "duration": 0,
               "redraw": true
              },
              "fromcurrent": true,
              "mode": "immediate",
              "transition": {
               "duration": 0,
               "easing": "linear"
              }
             }
            ],
            "label": "4",
            "method": "animate"
           }
          ],
          "x": 0.1,
          "xanchor": "left",
          "y": 0,
          "yanchor": "top"
         }
        ],
        "template": {
         "data": {
          "bar": [
           {
            "error_x": {
             "color": "#2a3f5f"
            },
            "error_y": {
             "color": "#2a3f5f"
            },
            "marker": {
             "line": {
              "color": "#E5ECF6",
              "width": 0.5
             },
             "pattern": {
              "fillmode": "overlay",
              "size": 10,
              "solidity": 0.2
             }
            },
            "type": "bar"
           }
          ],
          "barpolar": [
           {
            "marker": {
             "line": {
              "color": "#E5ECF6",
              "width": 0.5
             },
             "pattern": {
              "fillmode": "overlay",
              "size": 10,
              "solidity": 0.2
             }
            },
            "type": "barpolar"
           }
          ],
          "carpet": [
           {
            "aaxis": {
             "endlinecolor": "#2a3f5f",
             "gridcolor": "white",
             "linecolor": "white",
             "minorgridcolor": "white",
             "startlinecolor": "#2a3f5f"
            },
            "baxis": {
             "endlinecolor": "#2a3f5f",
             "gridcolor": "white",
             "linecolor": "white",
             "minorgridcolor": "white",
             "startlinecolor": "#2a3f5f"
            },
            "type": "carpet"
           }
          ],
          "choropleth": [
           {
            "colorbar": {
             "outlinewidth": 0,
             "ticks": ""
            },
            "type": "choropleth"
           }
          ],
          "contour": [
           {
            "colorbar": {
             "outlinewidth": 0,
             "ticks": ""
            },
            "colorscale": [
             [
              0,
              "#0d0887"
             ],
             [
              0.1111111111111111,
              "#46039f"
             ],
             [
              0.2222222222222222,
              "#7201a8"
             ],
             [
              0.3333333333333333,
              "#9c179e"
             ],
             [
              0.4444444444444444,
              "#bd3786"
             ],
             [
              0.5555555555555556,
              "#d8576b"
             ],
             [
              0.6666666666666666,
              "#ed7953"
             ],
             [
              0.7777777777777778,
              "#fb9f3a"
             ],
             [
              0.8888888888888888,
              "#fdca26"
             ],
             [
              1,
              "#f0f921"
             ]
            ],
            "type": "contour"
           }
          ],
          "contourcarpet": [
           {
            "colorbar": {
             "outlinewidth": 0,
             "ticks": ""
            },
            "type": "contourcarpet"
           }
          ],
          "heatmap": [
           {
            "colorbar": {
             "outlinewidth": 0,
             "ticks": ""
            },
            "colorscale": [
             [
              0,
              "#0d0887"
             ],
             [
              0.1111111111111111,
              "#46039f"
             ],
             [
              0.2222222222222222,
              "#7201a8"
             ],
             [
              0.3333333333333333,
              "#9c179e"
             ],
             [
              0.4444444444444444,
              "#bd3786"
             ],
             [
              0.5555555555555556,
              "#d8576b"
             ],
             [
              0.6666666666666666,
              "#ed7953"
             ],
             [
              0.7777777777777778,
              "#fb9f3a"
             ],
             [
              0.8888888888888888,
              "#fdca26"
             ],
             [
              1,
              "#f0f921"
             ]
            ],
            "type": "heatmap"
           }
          ],
          "heatmapgl": [
           {
            "colorbar": {
             "outlinewidth": 0,
             "ticks": ""
            },
            "colorscale": [
             [
              0,
              "#0d0887"
             ],
             [
              0.1111111111111111,
              "#46039f"
             ],
             [
              0.2222222222222222,
              "#7201a8"
             ],
             [
              0.3333333333333333,
              "#9c179e"
             ],
             [
              0.4444444444444444,
              "#bd3786"
             ],
             [
              0.5555555555555556,
              "#d8576b"
             ],
             [
              0.6666666666666666,
              "#ed7953"
             ],
             [
              0.7777777777777778,
              "#fb9f3a"
             ],
             [
              0.8888888888888888,
              "#fdca26"
             ],
             [
              1,
              "#f0f921"
             ]
            ],
            "type": "heatmapgl"
           }
          ],
          "histogram": [
           {
            "marker": {
             "pattern": {
              "fillmode": "overlay",
              "size": 10,
              "solidity": 0.2
             }
            },
            "type": "histogram"
           }
          ],
          "histogram2d": [
           {
            "colorbar": {
             "outlinewidth": 0,
             "ticks": ""
            },
            "colorscale": [
             [
              0,
              "#0d0887"
             ],
             [
              0.1111111111111111,
              "#46039f"
             ],
             [
              0.2222222222222222,
              "#7201a8"
             ],
             [
              0.3333333333333333,
              "#9c179e"
             ],
             [
              0.4444444444444444,
              "#bd3786"
             ],
             [
              0.5555555555555556,
              "#d8576b"
             ],
             [
              0.6666666666666666,
              "#ed7953"
             ],
             [
              0.7777777777777778,
              "#fb9f3a"
             ],
             [
              0.8888888888888888,
              "#fdca26"
             ],
             [
              1,
              "#f0f921"
             ]
            ],
            "type": "histogram2d"
           }
          ],
          "histogram2dcontour": [
           {
            "colorbar": {
             "outlinewidth": 0,
             "ticks": ""
            },
            "colorscale": [
             [
              0,
              "#0d0887"
             ],
             [
              0.1111111111111111,
              "#46039f"
             ],
             [
              0.2222222222222222,
              "#7201a8"
             ],
             [
              0.3333333333333333,
              "#9c179e"
             ],
             [
              0.4444444444444444,
              "#bd3786"
             ],
             [
              0.5555555555555556,
              "#d8576b"
             ],
             [
              0.6666666666666666,
              "#ed7953"
             ],
             [
              0.7777777777777778,
              "#fb9f3a"
             ],
             [
              0.8888888888888888,
              "#fdca26"
             ],
             [
              1,
              "#f0f921"
             ]
            ],
            "type": "histogram2dcontour"
           }
          ],
          "mesh3d": [
           {
            "colorbar": {
             "outlinewidth": 0,
             "ticks": ""
            },
            "type": "mesh3d"
           }
          ],
          "parcoords": [
           {
            "line": {
             "colorbar": {
              "outlinewidth": 0,
              "ticks": ""
             }
            },
            "type": "parcoords"
           }
          ],
          "pie": [
           {
            "automargin": true,
            "type": "pie"
           }
          ],
          "scatter": [
           {
            "fillpattern": {
             "fillmode": "overlay",
             "size": 10,
             "solidity": 0.2
            },
            "type": "scatter"
           }
          ],
          "scatter3d": [
           {
            "line": {
             "colorbar": {
              "outlinewidth": 0,
              "ticks": ""
             }
            },
            "marker": {
             "colorbar": {
              "outlinewidth": 0,
              "ticks": ""
             }
            },
            "type": "scatter3d"
           }
          ],
          "scattercarpet": [
           {
            "marker": {
             "colorbar": {
              "outlinewidth": 0,
              "ticks": ""
             }
            },
            "type": "scattercarpet"
           }
          ],
          "scattergeo": [
           {
            "marker": {
             "colorbar": {
              "outlinewidth": 0,
              "ticks": ""
             }
            },
            "type": "scattergeo"
           }
          ],
          "scattergl": [
           {
            "marker": {
             "colorbar": {
              "outlinewidth": 0,
              "ticks": ""
             }
            },
            "type": "scattergl"
           }
          ],
          "scattermapbox": [
           {
            "marker": {
             "colorbar": {
              "outlinewidth": 0,
              "ticks": ""
             }
            },
            "type": "scattermapbox"
           }
          ],
          "scatterpolar": [
           {
            "marker": {
             "colorbar": {
              "outlinewidth": 0,
              "ticks": ""
             }
            },
            "type": "scatterpolar"
           }
          ],
          "scatterpolargl": [
           {
            "marker": {
             "colorbar": {
              "outlinewidth": 0,
              "ticks": ""
             }
            },
            "type": "scatterpolargl"
           }
          ],
          "scatterternary": [
           {
            "marker": {
             "colorbar": {
              "outlinewidth": 0,
              "ticks": ""
             }
            },
            "type": "scatterternary"
           }
          ],
          "surface": [
           {
            "colorbar": {
             "outlinewidth": 0,
             "ticks": ""
            },
            "colorscale": [
             [
              0,
              "#0d0887"
             ],
             [
              0.1111111111111111,
              "#46039f"
             ],
             [
              0.2222222222222222,
              "#7201a8"
             ],
             [
              0.3333333333333333,
              "#9c179e"
             ],
             [
              0.4444444444444444,
              "#bd3786"
             ],
             [
              0.5555555555555556,
              "#d8576b"
             ],
             [
              0.6666666666666666,
              "#ed7953"
             ],
             [
              0.7777777777777778,
              "#fb9f3a"
             ],
             [
              0.8888888888888888,
              "#fdca26"
             ],
             [
              1,
              "#f0f921"
             ]
            ],
            "type": "surface"
           }
          ],
          "table": [
           {
            "cells": {
             "fill": {
              "color": "#EBF0F8"
             },
             "line": {
              "color": "white"
             }
            },
            "header": {
             "fill": {
              "color": "#C8D4E3"
             },
             "line": {
              "color": "white"
             }
            },
            "type": "table"
           }
          ]
         },
         "layout": {
          "annotationdefaults": {
           "arrowcolor": "#2a3f5f",
           "arrowhead": 0,
           "arrowwidth": 1
          },
          "autotypenumbers": "strict",
          "coloraxis": {
           "colorbar": {
            "outlinewidth": 0,
            "ticks": ""
           }
          },
          "colorscale": {
           "diverging": [
            [
             0,
             "#8e0152"
            ],
            [
             0.1,
             "#c51b7d"
            ],
            [
             0.2,
             "#de77ae"
            ],
            [
             0.3,
             "#f1b6da"
            ],
            [
             0.4,
             "#fde0ef"
            ],
            [
             0.5,
             "#f7f7f7"
            ],
            [
             0.6,
             "#e6f5d0"
            ],
            [
             0.7,
             "#b8e186"
            ],
            [
             0.8,
             "#7fbc41"
            ],
            [
             0.9,
             "#4d9221"
            ],
            [
             1,
             "#276419"
            ]
           ],
           "sequential": [
            [
             0,
             "#0d0887"
            ],
            [
             0.1111111111111111,
             "#46039f"
            ],
            [
             0.2222222222222222,
             "#7201a8"
            ],
            [
             0.3333333333333333,
             "#9c179e"
            ],
            [
             0.4444444444444444,
             "#bd3786"
            ],
            [
             0.5555555555555556,
             "#d8576b"
            ],
            [
             0.6666666666666666,
             "#ed7953"
            ],
            [
             0.7777777777777778,
             "#fb9f3a"
            ],
            [
             0.8888888888888888,
             "#fdca26"
            ],
            [
             1,
             "#f0f921"
            ]
           ],
           "sequentialminus": [
            [
             0,
             "#0d0887"
            ],
            [
             0.1111111111111111,
             "#46039f"
            ],
            [
             0.2222222222222222,
             "#7201a8"
            ],
            [
             0.3333333333333333,
             "#9c179e"
            ],
            [
             0.4444444444444444,
             "#bd3786"
            ],
            [
             0.5555555555555556,
             "#d8576b"
            ],
            [
             0.6666666666666666,
             "#ed7953"
            ],
            [
             0.7777777777777778,
             "#fb9f3a"
            ],
            [
             0.8888888888888888,
             "#fdca26"
            ],
            [
             1,
             "#f0f921"
            ]
           ]
          },
          "colorway": [
           "#636efa",
           "#EF553B",
           "#00cc96",
           "#ab63fa",
           "#FFA15A",
           "#19d3f3",
           "#FF6692",
           "#B6E880",
           "#FF97FF",
           "#FECB52"
          ],
          "font": {
           "color": "#2a3f5f"
          },
          "geo": {
           "bgcolor": "white",
           "lakecolor": "white",
           "landcolor": "#E5ECF6",
           "showlakes": true,
           "showland": true,
           "subunitcolor": "white"
          },
          "hoverlabel": {
           "align": "left"
          },
          "hovermode": "closest",
          "mapbox": {
           "style": "light"
          },
          "paper_bgcolor": "white",
          "plot_bgcolor": "#E5ECF6",
          "polar": {
           "angularaxis": {
            "gridcolor": "white",
            "linecolor": "white",
            "ticks": ""
           },
           "bgcolor": "#E5ECF6",
           "radialaxis": {
            "gridcolor": "white",
            "linecolor": "white",
            "ticks": ""
           }
          },
          "scene": {
           "xaxis": {
            "backgroundcolor": "#E5ECF6",
            "gridcolor": "white",
            "gridwidth": 2,
            "linecolor": "white",
            "showbackground": true,
            "ticks": "",
            "zerolinecolor": "white"
           },
           "yaxis": {
            "backgroundcolor": "#E5ECF6",
            "gridcolor": "white",
            "gridwidth": 2,
            "linecolor": "white",
            "showbackground": true,
            "ticks": "",
            "zerolinecolor": "white"
           },
           "zaxis": {
            "backgroundcolor": "#E5ECF6",
            "gridcolor": "white",
            "gridwidth": 2,
            "linecolor": "white",
            "showbackground": true,
            "ticks": "",
            "zerolinecolor": "white"
           }
          },
          "shapedefaults": {
           "line": {
            "color": "#2a3f5f"
           }
          },
          "ternary": {
           "aaxis": {
            "gridcolor": "white",
            "linecolor": "white",
            "ticks": ""
           },
           "baxis": {
            "gridcolor": "white",
            "linecolor": "white",
            "ticks": ""
           },
           "bgcolor": "#E5ECF6",
           "caxis": {
            "gridcolor": "white",
            "linecolor": "white",
            "ticks": ""
           }
          },
          "title": {
           "x": 0.05
          },
          "xaxis": {
           "automargin": true,
           "gridcolor": "white",
           "linecolor": "white",
           "ticks": "",
           "title": {
            "standoff": 15
           },
           "zerolinecolor": "white",
           "zerolinewidth": 2
          },
          "yaxis": {
           "automargin": true,
           "gridcolor": "white",
           "linecolor": "white",
           "ticks": "",
           "title": {
            "standoff": 15
           },
           "zerolinecolor": "white",
           "zerolinewidth": 2
          }
         }
        },
        "title": {
         "text": "<b>Number of chasings: <u>light phase</u></b>"
        },
        "width": 800,
        "xaxis": {
         "anchor": "y",
         "constrain": "domain",
         "domain": [
          0,
          1
         ],
         "scaleanchor": "y",
         "showspikes": true,
         "spikemode": "across"
        },
        "yaxis": {
         "anchor": "x",
         "autorange": "reversed",
         "constrain": "domain",
         "domain": [
          0,
          1
         ],
         "showspikes": true,
         "spikemode": "across"
        }
       }
      }
     },
     "metadata": {},
     "output_type": "display_data"
    }
   ],
   "source": []
  }
 ],
 "metadata": {
  "kernelspec": {
   "display_name": "deepecohab",
   "language": "python",
   "name": "python3"
  },
  "language_info": {
   "codemirror_mode": {
    "name": "ipython",
    "version": 3
   },
   "file_extension": ".py",
   "mimetype": "text/x-python",
   "name": "python",
   "nbconvert_exporter": "python",
   "pygments_lexer": "ipython3",
   "version": "3.10.13"
  }
 },
 "nbformat": 4,
 "nbformat_minor": 2
}
