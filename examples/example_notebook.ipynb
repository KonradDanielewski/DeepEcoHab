{
 "cells": [
  {
   "cell_type": "code",
   "execution_count": 19,
   "metadata": {},
   "outputs": [],
   "source": [
    "%load_ext autoreload\n",
    "%autoreload 2"
   ]
  },
  {
   "cell_type": "code",
   "execution_count": 20,
   "metadata": {},
   "outputs": [
    {
     "name": "stdout",
     "output_type": "stream",
     "text": [
      "/home/winiar/Desktop/projects/ecohab/deepecohab\n"
     ]
    }
   ],
   "source": [
    "cd .."
   ]
  },
  {
   "cell_type": "code",
   "execution_count": 21,
   "metadata": {},
   "outputs": [],
   "source": [
    "import os\n",
    "from pathlib import Path\n",
    "\n",
    "import deepecohab"
   ]
  },
  {
   "cell_type": "code",
   "execution_count": 22,
   "metadata": {},
   "outputs": [
    {
     "name": "stdout",
     "output_type": "stream",
     "text": [
      "/home/winiar/Desktop/projects/ecohab/deepecohab/examples\n"
     ]
    }
   ],
   "source": [
    "cd examples/"
   ]
  },
  {
   "cell_type": "markdown",
   "metadata": {},
   "source": [
    "#### Make project\n",
    "\n",
    "Uses example data provided in the repository. Currently only default ecohab layout, more examples soon..."
   ]
  },
  {
   "cell_type": "code",
   "execution_count": 23,
   "metadata": {},
   "outputs": [],
   "source": [
    "example_dir = Path(os.getcwd())"
   ]
  },
  {
   "cell_type": "code",
   "execution_count": 24,
   "metadata": {},
   "outputs": [
    {
     "data": {
      "text/plain": [
       "PosixPath('/home/winiar/Desktop/projects/ecohab/deepecohab/examples')"
      ]
     },
     "execution_count": 24,
     "metadata": {},
     "output_type": "execute_result"
    }
   ],
   "source": [
    "example_dir"
   ]
  },
  {
   "cell_type": "code",
   "execution_count": 25,
   "metadata": {},
   "outputs": [],
   "source": [
    "cfp = deepecohab.create_ecohab_project(\n",
    "    project_location=example_dir, # Location where the project will be created\n",
    "    experiment_name=\"test_name2\",  # Name of the project\n",
    "    data_path=example_dir / \"test_data\", # Folder with ecohab txt files\n",
    "    start_datetime=\"2023-05-24 12:00:00\", #Time from which the data should be taken (we ommit the first file before first dark phase start) YYYY-MM-DD HH:MM:SS\n",
    "    finish_datetime=\"2023-05-29 23:00:00\",\n",
    "    light_phase_start=\"00:00:00\",\n",
    "    dark_phase_start=\"12:00:00\",\n",
    "    )"
   ]
  },
  {
   "cell_type": "markdown",
   "metadata": {},
   "source": [
    "#### Make structure"
   ]
  },
  {
   "cell_type": "code",
   "execution_count": 26,
   "metadata": {},
   "outputs": [
    {
     "data": {
      "text/plain": [
       "PosixPath('/home/winiar/Desktop/projects/ecohab/deepecohab/examples/test_name2_2025-05-12/config.toml')"
      ]
     },
     "execution_count": 26,
     "metadata": {},
     "output_type": "execute_result"
    }
   ],
   "source": [
    "cfp"
   ]
  },
  {
   "cell_type": "code",
   "execution_count": 27,
   "metadata": {},
   "outputs": [
    {
     "data": {
      "text/plain": [
       "{'project_location': '/home/winiar/Desktop/projects/ecohab/deepecohab/examples/test_name2_2025-05-12',\n",
       " 'experiment_name': 'test_name2',\n",
       " 'results_path': '/home/winiar/Desktop/projects/ecohab/deepecohab/examples/test_name2_2025-05-12/results/test_name2_data.h5',\n",
       " 'data_path': '/home/winiar/Desktop/projects/ecohab/deepecohab/examples/test_data',\n",
       " 'animal_ids': ['0627A81904',\n",
       "  '325CE61A04',\n",
       "  '352DE61A04',\n",
       "  '7376E61A04',\n",
       "  '75DFFF1904',\n",
       "  '85EDFF1904',\n",
       "  '956BA81904',\n",
       "  '9A44E61A04',\n",
       "  'A4939C1A04'],\n",
       " 'phase': {'light_phase': '00:00:00', 'dark_phase': '12:00:00'},\n",
       " 'experiment_timeline': {'start_date': '2023-05-24 12:00:00',\n",
       "  'finish_date': '2023-05-29 23:00:00'},\n",
       " 'antenna_combinations': {'1_2': 'c1_c2',\n",
       "  '2_1': 'c2_c1',\n",
       "  '3_4': 'c2_c3',\n",
       "  '4_3': 'c3_c2',\n",
       "  '5_6': 'c3_c4',\n",
       "  '6_5': 'c4_c3',\n",
       "  '7_8': 'c4_c1',\n",
       "  '8_7': 'c1_c4',\n",
       "  '1_8': 'cage_1',\n",
       "  '8_1': 'cage_1',\n",
       "  '1_1': 'cage_1',\n",
       "  '8_8': 'cage_1',\n",
       "  '8_2': 'cage_1',\n",
       "  '2_8': 'cage_1',\n",
       "  '1_7': 'cage_1',\n",
       "  '7_1': 'cage_1',\n",
       "  '2_3': 'cage_2',\n",
       "  '3_2': 'cage_2',\n",
       "  '2_2': 'cage_2',\n",
       "  '3_3': 'cage_2',\n",
       "  '2_4': 'cage_2',\n",
       "  '4_2': 'cage_2',\n",
       "  '3_1': 'cage_2',\n",
       "  '1_3': 'cage_2',\n",
       "  '4_5': 'cage_3',\n",
       "  '5_4': 'cage_3',\n",
       "  '4_4': 'cage_3',\n",
       "  '5_5': 'cage_3',\n",
       "  '4_6': 'cage_3',\n",
       "  '6_4': 'cage_3',\n",
       "  '3_5': 'cage_3',\n",
       "  '5_3': 'cage_3',\n",
       "  '6_7': 'cage_4',\n",
       "  '7_6': 'cage_4',\n",
       "  '6_6': 'cage_4',\n",
       "  '7_7': 'cage_4',\n",
       "  '5_7': 'cage_4',\n",
       "  '7_5': 'cage_4',\n",
       "  '6_8': 'cage_4',\n",
       "  '8_6': 'cage_4'},\n",
       " 'tunnels': {'c1_c2': 'tunnel_1',\n",
       "  'c2_c1': 'tunnel_1',\n",
       "  'c2_c3': 'tunnel_2',\n",
       "  'c3_c2': 'tunnel_2',\n",
       "  'c3_c4': 'tunnel_3',\n",
       "  'c4_c3': 'tunnel_3',\n",
       "  'c4_c1': 'tunnel_4',\n",
       "  'c1_c4': 'tunnel_4'}}"
      ]
     },
     "execution_count": 27,
     "metadata": {},
     "output_type": "execute_result"
    }
   ],
   "source": [
    "from deepecohab.utils import auxfun\n",
    "auxfun.read_config(cfp)"
   ]
  },
  {
   "cell_type": "code",
   "execution_count": 12,
   "metadata": {},
   "outputs": [
    {
     "name": "stdout",
     "output_type": "stream",
     "text": [
      "No ghost tags detected :)\n"
     ]
    }
   ],
   "source": [
    "df = deepecohab.get_ecohab_data_structure(cfp)"
   ]
  },
  {
   "cell_type": "markdown",
   "metadata": {},
   "source": [
    "#### Chasings and ranking"
   ]
  },
  {
   "cell_type": "code",
   "execution_count": 13,
   "metadata": {},
   "outputs": [
    {
     "name": "stdout",
     "output_type": "stream",
     "text": [
      "Calculating chasings...\n"
     ]
    },
    {
     "name": "stderr",
     "output_type": "stream",
     "text": [
      "100%|██████████| 432/432 [00:17<00:00, 25.21it/s]\n"
     ]
    }
   ],
   "source": [
    "chasings = deepecohab.calculate_chasings(cfp)\n",
    "ranking = deepecohab.calculate_ranking(cfp)"
   ]
  },
  {
   "cell_type": "markdown",
   "metadata": {},
   "source": [
    "#### Activity"
   ]
  },
  {
   "cell_type": "code",
   "execution_count": null,
   "metadata": {},
   "outputs": [
    {
     "name": "stdout",
     "output_type": "stream",
     "text": [
      "Calculating pairwise time spent together...\n"
     ]
    },
    {
     "name": "stderr",
     "output_type": "stream",
     "text": [
      "100%|██████████| 1728/1728 [01:13<00:00, 23.41it/s]\n"
     ]
    }
   ],
   "source": [
    "time_per_position = deepecohab.calculate_time_spent_per_position(cfp)\n",
    "visits_per_position = deepecohab.calculate_visits_per_position(cfp)\n",
    "time_together = deepecohab.calculate_time_together(cfp, minimum_time=2)\n",
    "pairwise_encounters = deepecohab.calculate_pairwise_encounters(cfp)"
   ]
  },
  {
   "cell_type": "markdown",
   "metadata": {},
   "source": [
    "#### In-cohort sociability"
   ]
  },
  {
   "cell_type": "code",
   "execution_count": 25,
   "metadata": {},
   "outputs": [],
   "source": [
    "in_cohort_sociability = deepecohab.calculate_incohort_sociability(cfp)"
   ]
  },
  {
   "cell_type": "markdown",
   "metadata": {},
   "source": [
    "#### Binary DataFrame"
   ]
  },
  {
   "cell_type": "code",
   "execution_count": 26,
   "metadata": {},
   "outputs": [
    {
     "name": "stdout",
     "output_type": "stream",
     "text": [
      "Filling the DataFrame for each animal...\n"
     ]
    },
    {
     "name": "stderr",
     "output_type": "stream",
     "text": [
      "100%|██████████| 9/9 [00:10<00:00,  1.12s/it]\n"
     ]
    }
   ],
   "source": [
    "binary_df = deepecohab.create_binary_df(cfp, precision=10) # Every 100 ms"
   ]
  },
  {
   "cell_type": "code",
   "execution_count": null,
   "metadata": {},
   "outputs": [],
   "source": [
    "# run dashboard\n",
    "data_path = r\"/home/winiar/Desktop/projects/ecohab/deepecohab/examples/test_name2_2025-04-18/results/test_name2_data.h5\"\n",
    "\n",
    "auxfun.run_dashboard(data_path)"
   ]
  }
 ],
 "metadata": {
  "kernelspec": {
   "display_name": "deepecohab",
   "language": "python",
   "name": "python3"
  },
  "language_info": {
   "codemirror_mode": {
    "name": "ipython",
    "version": 3
   },
   "file_extension": ".py",
   "mimetype": "text/x-python",
   "name": "python",
   "nbconvert_exporter": "python",
   "pygments_lexer": "ipython3",
   "version": "3.10.16"
  }
 },
 "nbformat": 4,
 "nbformat_minor": 2
}
