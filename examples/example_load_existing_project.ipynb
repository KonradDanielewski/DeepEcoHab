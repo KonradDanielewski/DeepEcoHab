{
 "cells": [
  {
   "cell_type": "code",
   "execution_count": 1,
   "id": "cdfaf5ce",
   "metadata": {},
   "outputs": [],
   "source": [
    "import deepecohab"
   ]
  },
  {
   "cell_type": "markdown",
   "id": "2246be77",
   "metadata": {},
   "source": [
    "Use `load_ecohab_data` to extract single tables from the data structure. Available keys are listed here: [Data Keys](https://github.com/KonradDanielewski/DeepEcoHab/blob/main/docs/data_keys.md)"
   ]
  },
  {
   "cell_type": "code",
   "execution_count": null,
   "id": "27223499",
   "metadata": {},
   "outputs": [],
   "source": [
    "# Load the project if already created and run by providing the config.toml path\n",
    "config_path = r'path\\to\\config\\test_custom_name2_2025-06-18\\config.toml'\n",
    "\n",
    "# Load main dataframe and chasings\n",
    "main_df = deepecohab.load_ecohab_data(config_path, 'main_df')\n",
    "\n",
    "chasings = deepecohab.load_ecohab_data(config_path, 'chasings')"
   ]
  },
  {
   "cell_type": "markdown",
   "id": "ce4ef0b4",
   "metadata": {},
   "source": [
    "#### Load Dashboard"
   ]
  },
  {
   "cell_type": "code",
   "execution_count": null,
   "id": "69b63e4b",
   "metadata": {},
   "outputs": [],
   "source": [
    "process = deepecohab.run_dashboard(config_path)\n",
    "# process.kill() # To stop the dashboard. Necesarry to run a new dashboard within the same notebook"
   ]
  }
 ],
 "metadata": {
  "kernelspec": {
   "display_name": "deepecohab",
   "language": "python",
   "name": "python3"
  },
  "language_info": {
   "codemirror_mode": {
    "name": "ipython",
    "version": 3
   },
   "file_extension": ".py",
   "mimetype": "text/x-python",
   "name": "python",
   "nbconvert_exporter": "python",
   "pygments_lexer": "ipython3",
   "version": "3.13.5"
  }
 },
 "nbformat": 4,
 "nbformat_minor": 5
}
